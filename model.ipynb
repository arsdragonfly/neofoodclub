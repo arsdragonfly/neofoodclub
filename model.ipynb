{
 "cells": [
  {
   "cell_type": "code",
   "execution_count": 158,
   "metadata": {},
   "outputs": [],
   "source": [
    "import numpy as np\n",
    "import collections.abc\n",
    "collections.Iterable = collections.abc.Iterable\n",
    "from collections import OrderedDict\n",
    "import pylogit as pl\n",
    "import pandas as pd\n",
    "import scipy.special\n",
    "import json"
   ]
  },
  {
   "cell_type": "code",
   "execution_count": 230,
   "metadata": {},
   "outputs": [
    {
     "data": {
      "text/html": [
       "<div>\n",
       "<style scoped>\n",
       "    .dataframe tbody tr th:only-of-type {\n",
       "        vertical-align: middle;\n",
       "    }\n",
       "\n",
       "    .dataframe tbody tr th {\n",
       "        vertical-align: top;\n",
       "    }\n",
       "\n",
       "    .dataframe thead th {\n",
       "        text-align: right;\n",
       "    }\n",
       "</style>\n",
       "<table border=\"1\" class=\"dataframe\">\n",
       "  <thead>\n",
       "    <tr style=\"text-align: right;\">\n",
       "      <th></th>\n",
       "      <th>round</th>\n",
       "      <th>arena</th>\n",
       "      <th>pirate1</th>\n",
       "      <th>pirate2</th>\n",
       "      <th>pirate3</th>\n",
       "      <th>pirate4</th>\n",
       "      <th>fa1</th>\n",
       "      <th>fa2</th>\n",
       "      <th>fa3</th>\n",
       "      <th>fa4</th>\n",
       "      <th>...</th>\n",
       "      <th>nfa4</th>\n",
       "      <th>opening_odds1</th>\n",
       "      <th>opening_odds2</th>\n",
       "      <th>opening_odds3</th>\n",
       "      <th>opening_odds4</th>\n",
       "      <th>closing_odds1</th>\n",
       "      <th>closing_odds2</th>\n",
       "      <th>closing_odds3</th>\n",
       "      <th>closing_odds4</th>\n",
       "      <th>winner</th>\n",
       "    </tr>\n",
       "  </thead>\n",
       "  <tbody>\n",
       "    <tr>\n",
       "      <th>0</th>\n",
       "      <td>3574</td>\n",
       "      <td>0</td>\n",
       "      <td>7</td>\n",
       "      <td>19</td>\n",
       "      <td>4</td>\n",
       "      <td>13</td>\n",
       "      <td>0</td>\n",
       "      <td>0</td>\n",
       "      <td>0</td>\n",
       "      <td>0</td>\n",
       "      <td>...</td>\n",
       "      <td>0</td>\n",
       "      <td>5</td>\n",
       "      <td>2</td>\n",
       "      <td>3</td>\n",
       "      <td>9</td>\n",
       "      <td>6</td>\n",
       "      <td>2</td>\n",
       "      <td>3</td>\n",
       "      <td>11</td>\n",
       "      <td>3</td>\n",
       "    </tr>\n",
       "    <tr>\n",
       "      <th>1</th>\n",
       "      <td>3574</td>\n",
       "      <td>1</td>\n",
       "      <td>18</td>\n",
       "      <td>12</td>\n",
       "      <td>17</td>\n",
       "      <td>14</td>\n",
       "      <td>0</td>\n",
       "      <td>0</td>\n",
       "      <td>0</td>\n",
       "      <td>0</td>\n",
       "      <td>...</td>\n",
       "      <td>0</td>\n",
       "      <td>13</td>\n",
       "      <td>2</td>\n",
       "      <td>3</td>\n",
       "      <td>3</td>\n",
       "      <td>13</td>\n",
       "      <td>2</td>\n",
       "      <td>3</td>\n",
       "      <td>3</td>\n",
       "      <td>4</td>\n",
       "    </tr>\n",
       "    <tr>\n",
       "      <th>2</th>\n",
       "      <td>3574</td>\n",
       "      <td>2</td>\n",
       "      <td>2</td>\n",
       "      <td>16</td>\n",
       "      <td>9</td>\n",
       "      <td>3</td>\n",
       "      <td>0</td>\n",
       "      <td>0</td>\n",
       "      <td>0</td>\n",
       "      <td>0</td>\n",
       "      <td>...</td>\n",
       "      <td>0</td>\n",
       "      <td>13</td>\n",
       "      <td>2</td>\n",
       "      <td>5</td>\n",
       "      <td>4</td>\n",
       "      <td>13</td>\n",
       "      <td>2</td>\n",
       "      <td>6</td>\n",
       "      <td>5</td>\n",
       "      <td>2</td>\n",
       "    </tr>\n",
       "    <tr>\n",
       "      <th>3</th>\n",
       "      <td>3574</td>\n",
       "      <td>3</td>\n",
       "      <td>10</td>\n",
       "      <td>20</td>\n",
       "      <td>1</td>\n",
       "      <td>6</td>\n",
       "      <td>0</td>\n",
       "      <td>0</td>\n",
       "      <td>0</td>\n",
       "      <td>0</td>\n",
       "      <td>...</td>\n",
       "      <td>0</td>\n",
       "      <td>13</td>\n",
       "      <td>10</td>\n",
       "      <td>2</td>\n",
       "      <td>13</td>\n",
       "      <td>13</td>\n",
       "      <td>13</td>\n",
       "      <td>2</td>\n",
       "      <td>13</td>\n",
       "      <td>3</td>\n",
       "    </tr>\n",
       "    <tr>\n",
       "      <th>4</th>\n",
       "      <td>3574</td>\n",
       "      <td>4</td>\n",
       "      <td>8</td>\n",
       "      <td>15</td>\n",
       "      <td>11</td>\n",
       "      <td>5</td>\n",
       "      <td>0</td>\n",
       "      <td>0</td>\n",
       "      <td>0</td>\n",
       "      <td>0</td>\n",
       "      <td>...</td>\n",
       "      <td>0</td>\n",
       "      <td>13</td>\n",
       "      <td>2</td>\n",
       "      <td>11</td>\n",
       "      <td>6</td>\n",
       "      <td>13</td>\n",
       "      <td>2</td>\n",
       "      <td>13</td>\n",
       "      <td>6</td>\n",
       "      <td>2</td>\n",
       "    </tr>\n",
       "    <tr>\n",
       "      <th>...</th>\n",
       "      <td>...</td>\n",
       "      <td>...</td>\n",
       "      <td>...</td>\n",
       "      <td>...</td>\n",
       "      <td>...</td>\n",
       "      <td>...</td>\n",
       "      <td>...</td>\n",
       "      <td>...</td>\n",
       "      <td>...</td>\n",
       "      <td>...</td>\n",
       "      <td>...</td>\n",
       "      <td>...</td>\n",
       "      <td>...</td>\n",
       "      <td>...</td>\n",
       "      <td>...</td>\n",
       "      <td>...</td>\n",
       "      <td>...</td>\n",
       "      <td>...</td>\n",
       "      <td>...</td>\n",
       "      <td>...</td>\n",
       "      <td>...</td>\n",
       "    </tr>\n",
       "    <tr>\n",
       "      <th>16840</th>\n",
       "      <td>8641</td>\n",
       "      <td>0</td>\n",
       "      <td>19</td>\n",
       "      <td>12</td>\n",
       "      <td>2</td>\n",
       "      <td>15</td>\n",
       "      <td>2</td>\n",
       "      <td>4</td>\n",
       "      <td>3</td>\n",
       "      <td>3</td>\n",
       "      <td>...</td>\n",
       "      <td>-1</td>\n",
       "      <td>4</td>\n",
       "      <td>13</td>\n",
       "      <td>13</td>\n",
       "      <td>2</td>\n",
       "      <td>4</td>\n",
       "      <td>13</td>\n",
       "      <td>13</td>\n",
       "      <td>2</td>\n",
       "      <td>4</td>\n",
       "    </tr>\n",
       "    <tr>\n",
       "      <th>16841</th>\n",
       "      <td>8641</td>\n",
       "      <td>1</td>\n",
       "      <td>10</td>\n",
       "      <td>20</td>\n",
       "      <td>8</td>\n",
       "      <td>4</td>\n",
       "      <td>1</td>\n",
       "      <td>-1</td>\n",
       "      <td>-2</td>\n",
       "      <td>3</td>\n",
       "      <td>...</td>\n",
       "      <td>0</td>\n",
       "      <td>13</td>\n",
       "      <td>8</td>\n",
       "      <td>13</td>\n",
       "      <td>2</td>\n",
       "      <td>13</td>\n",
       "      <td>12</td>\n",
       "      <td>13</td>\n",
       "      <td>2</td>\n",
       "      <td>4</td>\n",
       "    </tr>\n",
       "    <tr>\n",
       "      <th>16842</th>\n",
       "      <td>8641</td>\n",
       "      <td>2</td>\n",
       "      <td>17</td>\n",
       "      <td>7</td>\n",
       "      <td>18</td>\n",
       "      <td>6</td>\n",
       "      <td>4</td>\n",
       "      <td>-1</td>\n",
       "      <td>2</td>\n",
       "      <td>1</td>\n",
       "      <td>...</td>\n",
       "      <td>-1</td>\n",
       "      <td>2</td>\n",
       "      <td>6</td>\n",
       "      <td>5</td>\n",
       "      <td>4</td>\n",
       "      <td>2</td>\n",
       "      <td>6</td>\n",
       "      <td>5</td>\n",
       "      <td>4</td>\n",
       "      <td>1</td>\n",
       "    </tr>\n",
       "    <tr>\n",
       "      <th>16843</th>\n",
       "      <td>8641</td>\n",
       "      <td>3</td>\n",
       "      <td>16</td>\n",
       "      <td>1</td>\n",
       "      <td>5</td>\n",
       "      <td>14</td>\n",
       "      <td>-2</td>\n",
       "      <td>-1</td>\n",
       "      <td>4</td>\n",
       "      <td>1</td>\n",
       "      <td>...</td>\n",
       "      <td>-1</td>\n",
       "      <td>13</td>\n",
       "      <td>4</td>\n",
       "      <td>2</td>\n",
       "      <td>5</td>\n",
       "      <td>13</td>\n",
       "      <td>5</td>\n",
       "      <td>2</td>\n",
       "      <td>7</td>\n",
       "      <td>2</td>\n",
       "    </tr>\n",
       "    <tr>\n",
       "      <th>16844</th>\n",
       "      <td>8641</td>\n",
       "      <td>4</td>\n",
       "      <td>11</td>\n",
       "      <td>13</td>\n",
       "      <td>3</td>\n",
       "      <td>9</td>\n",
       "      <td>0</td>\n",
       "      <td>-1</td>\n",
       "      <td>3</td>\n",
       "      <td>1</td>\n",
       "      <td>...</td>\n",
       "      <td>0</td>\n",
       "      <td>11</td>\n",
       "      <td>3</td>\n",
       "      <td>3</td>\n",
       "      <td>3</td>\n",
       "      <td>8</td>\n",
       "      <td>4</td>\n",
       "      <td>3</td>\n",
       "      <td>4</td>\n",
       "      <td>2</td>\n",
       "    </tr>\n",
       "  </tbody>\n",
       "</table>\n",
       "<p>16845 rows × 27 columns</p>\n",
       "</div>"
      ],
      "text/plain": [
       "       round  arena  pirate1  pirate2  pirate3  pirate4  fa1  fa2  fa3  fa4  \\\n",
       "0       3574      0        7       19        4       13    0    0    0    0   \n",
       "1       3574      1       18       12       17       14    0    0    0    0   \n",
       "2       3574      2        2       16        9        3    0    0    0    0   \n",
       "3       3574      3       10       20        1        6    0    0    0    0   \n",
       "4       3574      4        8       15       11        5    0    0    0    0   \n",
       "...      ...    ...      ...      ...      ...      ...  ...  ...  ...  ...   \n",
       "16840   8641      0       19       12        2       15    2    4    3    3   \n",
       "16841   8641      1       10       20        8        4    1   -1   -2    3   \n",
       "16842   8641      2       17        7       18        6    4   -1    2    1   \n",
       "16843   8641      3       16        1        5       14   -2   -1    4    1   \n",
       "16844   8641      4       11       13        3        9    0   -1    3    1   \n",
       "\n",
       "       ...  nfa4  opening_odds1  opening_odds2  opening_odds3  opening_odds4  \\\n",
       "0      ...     0              5              2              3              9   \n",
       "1      ...     0             13              2              3              3   \n",
       "2      ...     0             13              2              5              4   \n",
       "3      ...     0             13             10              2             13   \n",
       "4      ...     0             13              2             11              6   \n",
       "...    ...   ...            ...            ...            ...            ...   \n",
       "16840  ...    -1              4             13             13              2   \n",
       "16841  ...     0             13              8             13              2   \n",
       "16842  ...    -1              2              6              5              4   \n",
       "16843  ...    -1             13              4              2              5   \n",
       "16844  ...     0             11              3              3              3   \n",
       "\n",
       "       closing_odds1  closing_odds2  closing_odds3  closing_odds4  winner  \n",
       "0                  6              2              3             11       3  \n",
       "1                 13              2              3              3       4  \n",
       "2                 13              2              6              5       2  \n",
       "3                 13             13              2             13       3  \n",
       "4                 13              2             13              6       2  \n",
       "...              ...            ...            ...            ...     ...  \n",
       "16840              4             13             13              2       4  \n",
       "16841             13             12             13              2       4  \n",
       "16842              2              6              5              4       1  \n",
       "16843             13              5              2              7       2  \n",
       "16844              8              4              3              4       2  \n",
       "\n",
       "[16845 rows x 27 columns]"
      ]
     },
     "execution_count": 230,
     "metadata": {},
     "output_type": "execute_result"
    }
   ],
   "source": [
    "df = pd.read_csv('history.csv')\n",
    "df"
   ]
  },
  {
   "cell_type": "code",
   "execution_count": 231,
   "metadata": {},
   "outputs": [
    {
     "data": {
      "text/html": [
       "<div>\n",
       "<style scoped>\n",
       "    .dataframe tbody tr th:only-of-type {\n",
       "        vertical-align: middle;\n",
       "    }\n",
       "\n",
       "    .dataframe tbody tr th {\n",
       "        vertical-align: top;\n",
       "    }\n",
       "\n",
       "    .dataframe thead th {\n",
       "        text-align: right;\n",
       "    }\n",
       "</style>\n",
       "<table border=\"1\" class=\"dataframe\">\n",
       "  <thead>\n",
       "    <tr style=\"text-align: right;\">\n",
       "      <th></th>\n",
       "      <th>round</th>\n",
       "      <th>arena</th>\n",
       "      <th>pirate1</th>\n",
       "      <th>pirate2</th>\n",
       "      <th>pirate3</th>\n",
       "      <th>pirate4</th>\n",
       "      <th>fa1</th>\n",
       "      <th>fa2</th>\n",
       "      <th>fa3</th>\n",
       "      <th>fa4</th>\n",
       "      <th>...</th>\n",
       "      <th>nfa4</th>\n",
       "      <th>opening_odds1</th>\n",
       "      <th>opening_odds2</th>\n",
       "      <th>opening_odds3</th>\n",
       "      <th>opening_odds4</th>\n",
       "      <th>closing_odds1</th>\n",
       "      <th>closing_odds2</th>\n",
       "      <th>closing_odds3</th>\n",
       "      <th>closing_odds4</th>\n",
       "      <th>winner</th>\n",
       "    </tr>\n",
       "  </thead>\n",
       "  <tbody>\n",
       "    <tr>\n",
       "      <th>count</th>\n",
       "      <td>16845.000000</td>\n",
       "      <td>16845.000000</td>\n",
       "      <td>16845.000000</td>\n",
       "      <td>16845.000000</td>\n",
       "      <td>16845.000000</td>\n",
       "      <td>16845.000000</td>\n",
       "      <td>16845.000000</td>\n",
       "      <td>16845.000000</td>\n",
       "      <td>16845.000000</td>\n",
       "      <td>16845.000000</td>\n",
       "      <td>...</td>\n",
       "      <td>16845.000000</td>\n",
       "      <td>16845.000000</td>\n",
       "      <td>16845.000000</td>\n",
       "      <td>16845.000000</td>\n",
       "      <td>16845.000000</td>\n",
       "      <td>16845.000000</td>\n",
       "      <td>16845.000000</td>\n",
       "      <td>16845.000000</td>\n",
       "      <td>16845.000000</td>\n",
       "      <td>16845.000000</td>\n",
       "    </tr>\n",
       "    <tr>\n",
       "      <th>mean</th>\n",
       "      <td>6829.771149</td>\n",
       "      <td>2.000000</td>\n",
       "      <td>10.591036</td>\n",
       "      <td>10.431345</td>\n",
       "      <td>10.531374</td>\n",
       "      <td>10.446245</td>\n",
       "      <td>0.970377</td>\n",
       "      <td>0.985634</td>\n",
       "      <td>0.964797</td>\n",
       "      <td>0.985159</td>\n",
       "      <td>...</td>\n",
       "      <td>-1.208549</td>\n",
       "      <td>7.915702</td>\n",
       "      <td>7.034194</td>\n",
       "      <td>5.982191</td>\n",
       "      <td>4.689225</td>\n",
       "      <td>8.237934</td>\n",
       "      <td>7.407183</td>\n",
       "      <td>6.360641</td>\n",
       "      <td>5.058949</td>\n",
       "      <td>2.744672</td>\n",
       "    </tr>\n",
       "    <tr>\n",
       "      <th>std</th>\n",
       "      <td>1089.898648</td>\n",
       "      <td>1.414256</td>\n",
       "      <td>5.751749</td>\n",
       "      <td>5.783485</td>\n",
       "      <td>5.783417</td>\n",
       "      <td>5.745589</td>\n",
       "      <td>1.731506</td>\n",
       "      <td>1.735176</td>\n",
       "      <td>1.731504</td>\n",
       "      <td>1.731130</td>\n",
       "      <td>...</td>\n",
       "      <td>0.970179</td>\n",
       "      <td>4.460321</td>\n",
       "      <td>4.417173</td>\n",
       "      <td>4.182325</td>\n",
       "      <td>3.636474</td>\n",
       "      <td>4.533579</td>\n",
       "      <td>4.551443</td>\n",
       "      <td>4.382981</td>\n",
       "      <td>3.927148</td>\n",
       "      <td>1.106017</td>\n",
       "    </tr>\n",
       "    <tr>\n",
       "      <th>min</th>\n",
       "      <td>3574.000000</td>\n",
       "      <td>0.000000</td>\n",
       "      <td>1.000000</td>\n",
       "      <td>1.000000</td>\n",
       "      <td>1.000000</td>\n",
       "      <td>1.000000</td>\n",
       "      <td>-5.000000</td>\n",
       "      <td>-5.000000</td>\n",
       "      <td>-5.000000</td>\n",
       "      <td>-5.000000</td>\n",
       "      <td>...</td>\n",
       "      <td>-6.000000</td>\n",
       "      <td>2.000000</td>\n",
       "      <td>2.000000</td>\n",
       "      <td>2.000000</td>\n",
       "      <td>2.000000</td>\n",
       "      <td>2.000000</td>\n",
       "      <td>2.000000</td>\n",
       "      <td>2.000000</td>\n",
       "      <td>2.000000</td>\n",
       "      <td>1.000000</td>\n",
       "    </tr>\n",
       "    <tr>\n",
       "      <th>25%</th>\n",
       "      <td>5932.000000</td>\n",
       "      <td>1.000000</td>\n",
       "      <td>6.000000</td>\n",
       "      <td>5.000000</td>\n",
       "      <td>6.000000</td>\n",
       "      <td>6.000000</td>\n",
       "      <td>0.000000</td>\n",
       "      <td>0.000000</td>\n",
       "      <td>0.000000</td>\n",
       "      <td>0.000000</td>\n",
       "      <td>...</td>\n",
       "      <td>-2.000000</td>\n",
       "      <td>3.000000</td>\n",
       "      <td>3.000000</td>\n",
       "      <td>2.000000</td>\n",
       "      <td>2.000000</td>\n",
       "      <td>3.000000</td>\n",
       "      <td>3.000000</td>\n",
       "      <td>2.000000</td>\n",
       "      <td>2.000000</td>\n",
       "      <td>2.000000</td>\n",
       "    </tr>\n",
       "    <tr>\n",
       "      <th>50%</th>\n",
       "      <td>6857.000000</td>\n",
       "      <td>2.000000</td>\n",
       "      <td>11.000000</td>\n",
       "      <td>10.000000</td>\n",
       "      <td>11.000000</td>\n",
       "      <td>10.000000</td>\n",
       "      <td>1.000000</td>\n",
       "      <td>1.000000</td>\n",
       "      <td>1.000000</td>\n",
       "      <td>1.000000</td>\n",
       "      <td>...</td>\n",
       "      <td>-1.000000</td>\n",
       "      <td>7.000000</td>\n",
       "      <td>6.000000</td>\n",
       "      <td>4.000000</td>\n",
       "      <td>3.000000</td>\n",
       "      <td>9.000000</td>\n",
       "      <td>7.000000</td>\n",
       "      <td>5.000000</td>\n",
       "      <td>3.000000</td>\n",
       "      <td>3.000000</td>\n",
       "    </tr>\n",
       "    <tr>\n",
       "      <th>75%</th>\n",
       "      <td>7799.000000</td>\n",
       "      <td>3.000000</td>\n",
       "      <td>16.000000</td>\n",
       "      <td>15.000000</td>\n",
       "      <td>16.000000</td>\n",
       "      <td>15.000000</td>\n",
       "      <td>2.000000</td>\n",
       "      <td>2.000000</td>\n",
       "      <td>2.000000</td>\n",
       "      <td>2.000000</td>\n",
       "      <td>...</td>\n",
       "      <td>0.000000</td>\n",
       "      <td>13.000000</td>\n",
       "      <td>13.000000</td>\n",
       "      <td>10.000000</td>\n",
       "      <td>6.000000</td>\n",
       "      <td>13.000000</td>\n",
       "      <td>13.000000</td>\n",
       "      <td>11.000000</td>\n",
       "      <td>7.000000</td>\n",
       "      <td>4.000000</td>\n",
       "    </tr>\n",
       "    <tr>\n",
       "      <th>max</th>\n",
       "      <td>8641.000000</td>\n",
       "      <td>4.000000</td>\n",
       "      <td>20.000000</td>\n",
       "      <td>20.000000</td>\n",
       "      <td>20.000000</td>\n",
       "      <td>20.000000</td>\n",
       "      <td>8.000000</td>\n",
       "      <td>8.000000</td>\n",
       "      <td>8.000000</td>\n",
       "      <td>9.000000</td>\n",
       "      <td>...</td>\n",
       "      <td>0.000000</td>\n",
       "      <td>13.000000</td>\n",
       "      <td>13.000000</td>\n",
       "      <td>13.000000</td>\n",
       "      <td>13.000000</td>\n",
       "      <td>13.000000</td>\n",
       "      <td>13.000000</td>\n",
       "      <td>13.000000</td>\n",
       "      <td>13.000000</td>\n",
       "      <td>4.000000</td>\n",
       "    </tr>\n",
       "  </tbody>\n",
       "</table>\n",
       "<p>8 rows × 27 columns</p>\n",
       "</div>"
      ],
      "text/plain": [
       "              round         arena       pirate1       pirate2       pirate3  \\\n",
       "count  16845.000000  16845.000000  16845.000000  16845.000000  16845.000000   \n",
       "mean    6829.771149      2.000000     10.591036     10.431345     10.531374   \n",
       "std     1089.898648      1.414256      5.751749      5.783485      5.783417   \n",
       "min     3574.000000      0.000000      1.000000      1.000000      1.000000   \n",
       "25%     5932.000000      1.000000      6.000000      5.000000      6.000000   \n",
       "50%     6857.000000      2.000000     11.000000     10.000000     11.000000   \n",
       "75%     7799.000000      3.000000     16.000000     15.000000     16.000000   \n",
       "max     8641.000000      4.000000     20.000000     20.000000     20.000000   \n",
       "\n",
       "            pirate4           fa1           fa2           fa3           fa4  \\\n",
       "count  16845.000000  16845.000000  16845.000000  16845.000000  16845.000000   \n",
       "mean      10.446245      0.970377      0.985634      0.964797      0.985159   \n",
       "std        5.745589      1.731506      1.735176      1.731504      1.731130   \n",
       "min        1.000000     -5.000000     -5.000000     -5.000000     -5.000000   \n",
       "25%        6.000000      0.000000      0.000000      0.000000      0.000000   \n",
       "50%       10.000000      1.000000      1.000000      1.000000      1.000000   \n",
       "75%       15.000000      2.000000      2.000000      2.000000      2.000000   \n",
       "max       20.000000      8.000000      8.000000      8.000000      9.000000   \n",
       "\n",
       "       ...          nfa4  opening_odds1  opening_odds2  opening_odds3  \\\n",
       "count  ...  16845.000000   16845.000000   16845.000000   16845.000000   \n",
       "mean   ...     -1.208549       7.915702       7.034194       5.982191   \n",
       "std    ...      0.970179       4.460321       4.417173       4.182325   \n",
       "min    ...     -6.000000       2.000000       2.000000       2.000000   \n",
       "25%    ...     -2.000000       3.000000       3.000000       2.000000   \n",
       "50%    ...     -1.000000       7.000000       6.000000       4.000000   \n",
       "75%    ...      0.000000      13.000000      13.000000      10.000000   \n",
       "max    ...      0.000000      13.000000      13.000000      13.000000   \n",
       "\n",
       "       opening_odds4  closing_odds1  closing_odds2  closing_odds3  \\\n",
       "count   16845.000000   16845.000000   16845.000000   16845.000000   \n",
       "mean        4.689225       8.237934       7.407183       6.360641   \n",
       "std         3.636474       4.533579       4.551443       4.382981   \n",
       "min         2.000000       2.000000       2.000000       2.000000   \n",
       "25%         2.000000       3.000000       3.000000       2.000000   \n",
       "50%         3.000000       9.000000       7.000000       5.000000   \n",
       "75%         6.000000      13.000000      13.000000      11.000000   \n",
       "max        13.000000      13.000000      13.000000      13.000000   \n",
       "\n",
       "       closing_odds4        winner  \n",
       "count   16845.000000  16845.000000  \n",
       "mean        5.058949      2.744672  \n",
       "std         3.927148      1.106017  \n",
       "min         2.000000      1.000000  \n",
       "25%         2.000000      2.000000  \n",
       "50%         3.000000      3.000000  \n",
       "75%         7.000000      4.000000  \n",
       "max        13.000000      4.000000  \n",
       "\n",
       "[8 rows x 27 columns]"
      ]
     },
     "execution_count": 231,
     "metadata": {},
     "output_type": "execute_result"
    }
   ],
   "source": [
    "df.describe()"
   ]
  },
  {
   "cell_type": "code",
   "execution_count": 232,
   "metadata": {},
   "outputs": [
    {
     "data": {
      "text/html": [
       "<div>\n",
       "<style scoped>\n",
       "    .dataframe tbody tr th:only-of-type {\n",
       "        vertical-align: middle;\n",
       "    }\n",
       "\n",
       "    .dataframe tbody tr th {\n",
       "        vertical-align: top;\n",
       "    }\n",
       "\n",
       "    .dataframe thead th {\n",
       "        text-align: right;\n",
       "    }\n",
       "</style>\n",
       "<table border=\"1\" class=\"dataframe\">\n",
       "  <thead>\n",
       "    <tr style=\"text-align: right;\">\n",
       "      <th></th>\n",
       "      <th>round</th>\n",
       "      <th>arena</th>\n",
       "      <th>winner</th>\n",
       "      <th>pirates</th>\n",
       "      <th>fas</th>\n",
       "      <th>pfas</th>\n",
       "      <th>nfas</th>\n",
       "      <th>opening_odds</th>\n",
       "      <th>closing_odds</th>\n",
       "      <th>match_id</th>\n",
       "    </tr>\n",
       "  </thead>\n",
       "  <tbody>\n",
       "    <tr>\n",
       "      <th>0</th>\n",
       "      <td>3574</td>\n",
       "      <td>0</td>\n",
       "      <td>3</td>\n",
       "      <td>[7, 19, 4, 13]</td>\n",
       "      <td>[0, 0, 0, 0]</td>\n",
       "      <td>[0, 0, 0, 0]</td>\n",
       "      <td>[0, 0, 0, 0]</td>\n",
       "      <td>[5, 2, 3, 9]</td>\n",
       "      <td>[6, 2, 3, 11]</td>\n",
       "      <td>17870</td>\n",
       "    </tr>\n",
       "    <tr>\n",
       "      <th>1</th>\n",
       "      <td>3574</td>\n",
       "      <td>1</td>\n",
       "      <td>4</td>\n",
       "      <td>[18, 12, 17, 14]</td>\n",
       "      <td>[0, 0, 0, 0]</td>\n",
       "      <td>[0, 0, 0, 0]</td>\n",
       "      <td>[0, 0, 0, 0]</td>\n",
       "      <td>[13, 2, 3, 3]</td>\n",
       "      <td>[13, 2, 3, 3]</td>\n",
       "      <td>17871</td>\n",
       "    </tr>\n",
       "    <tr>\n",
       "      <th>2</th>\n",
       "      <td>3574</td>\n",
       "      <td>2</td>\n",
       "      <td>2</td>\n",
       "      <td>[2, 16, 9, 3]</td>\n",
       "      <td>[0, 0, 0, 0]</td>\n",
       "      <td>[0, 0, 0, 0]</td>\n",
       "      <td>[0, 0, 0, 0]</td>\n",
       "      <td>[13, 2, 5, 4]</td>\n",
       "      <td>[13, 2, 6, 5]</td>\n",
       "      <td>17872</td>\n",
       "    </tr>\n",
       "    <tr>\n",
       "      <th>3</th>\n",
       "      <td>3574</td>\n",
       "      <td>3</td>\n",
       "      <td>3</td>\n",
       "      <td>[10, 20, 1, 6]</td>\n",
       "      <td>[0, 0, 0, 0]</td>\n",
       "      <td>[0, 0, 0, 0]</td>\n",
       "      <td>[0, 0, 0, 0]</td>\n",
       "      <td>[13, 10, 2, 13]</td>\n",
       "      <td>[13, 13, 2, 13]</td>\n",
       "      <td>17873</td>\n",
       "    </tr>\n",
       "    <tr>\n",
       "      <th>4</th>\n",
       "      <td>3574</td>\n",
       "      <td>4</td>\n",
       "      <td>2</td>\n",
       "      <td>[8, 15, 11, 5]</td>\n",
       "      <td>[0, 0, 0, 0]</td>\n",
       "      <td>[0, 0, 0, 0]</td>\n",
       "      <td>[0, 0, 0, 0]</td>\n",
       "      <td>[13, 2, 11, 6]</td>\n",
       "      <td>[13, 2, 13, 6]</td>\n",
       "      <td>17874</td>\n",
       "    </tr>\n",
       "    <tr>\n",
       "      <th>...</th>\n",
       "      <td>...</td>\n",
       "      <td>...</td>\n",
       "      <td>...</td>\n",
       "      <td>...</td>\n",
       "      <td>...</td>\n",
       "      <td>...</td>\n",
       "      <td>...</td>\n",
       "      <td>...</td>\n",
       "      <td>...</td>\n",
       "      <td>...</td>\n",
       "    </tr>\n",
       "    <tr>\n",
       "      <th>16840</th>\n",
       "      <td>8641</td>\n",
       "      <td>0</td>\n",
       "      <td>4</td>\n",
       "      <td>[19, 12, 2, 15]</td>\n",
       "      <td>[2, 4, 3, 3]</td>\n",
       "      <td>[2, 5, 5, 4]</td>\n",
       "      <td>[0, -1, -2, -1]</td>\n",
       "      <td>[4, 13, 13, 2]</td>\n",
       "      <td>[4, 13, 13, 2]</td>\n",
       "      <td>43205</td>\n",
       "    </tr>\n",
       "    <tr>\n",
       "      <th>16841</th>\n",
       "      <td>8641</td>\n",
       "      <td>1</td>\n",
       "      <td>4</td>\n",
       "      <td>[10, 20, 8, 4]</td>\n",
       "      <td>[1, -1, -2, 3]</td>\n",
       "      <td>[1, 1, 1, 3]</td>\n",
       "      <td>[0, -2, -3, 0]</td>\n",
       "      <td>[13, 8, 13, 2]</td>\n",
       "      <td>[13, 12, 13, 2]</td>\n",
       "      <td>43206</td>\n",
       "    </tr>\n",
       "    <tr>\n",
       "      <th>16842</th>\n",
       "      <td>8641</td>\n",
       "      <td>2</td>\n",
       "      <td>1</td>\n",
       "      <td>[17, 7, 18, 6]</td>\n",
       "      <td>[4, -1, 2, 1]</td>\n",
       "      <td>[5, 1, 4, 2]</td>\n",
       "      <td>[-1, -2, -2, -1]</td>\n",
       "      <td>[2, 6, 5, 4]</td>\n",
       "      <td>[2, 6, 5, 4]</td>\n",
       "      <td>43207</td>\n",
       "    </tr>\n",
       "    <tr>\n",
       "      <th>16843</th>\n",
       "      <td>8641</td>\n",
       "      <td>3</td>\n",
       "      <td>2</td>\n",
       "      <td>[16, 1, 5, 14]</td>\n",
       "      <td>[-2, -1, 4, 1]</td>\n",
       "      <td>[0, 1, 4, 2]</td>\n",
       "      <td>[-2, -2, 0, -1]</td>\n",
       "      <td>[13, 4, 2, 5]</td>\n",
       "      <td>[13, 5, 2, 7]</td>\n",
       "      <td>43208</td>\n",
       "    </tr>\n",
       "    <tr>\n",
       "      <th>16844</th>\n",
       "      <td>8641</td>\n",
       "      <td>4</td>\n",
       "      <td>2</td>\n",
       "      <td>[11, 13, 3, 9]</td>\n",
       "      <td>[0, -1, 3, 1]</td>\n",
       "      <td>[1, 1, 4, 1]</td>\n",
       "      <td>[-1, -2, -1, 0]</td>\n",
       "      <td>[11, 3, 3, 3]</td>\n",
       "      <td>[8, 4, 3, 4]</td>\n",
       "      <td>43209</td>\n",
       "    </tr>\n",
       "  </tbody>\n",
       "</table>\n",
       "<p>16845 rows × 10 columns</p>\n",
       "</div>"
      ],
      "text/plain": [
       "       round  arena  winner           pirates             fas          pfas  \\\n",
       "0       3574      0       3    [7, 19, 4, 13]    [0, 0, 0, 0]  [0, 0, 0, 0]   \n",
       "1       3574      1       4  [18, 12, 17, 14]    [0, 0, 0, 0]  [0, 0, 0, 0]   \n",
       "2       3574      2       2     [2, 16, 9, 3]    [0, 0, 0, 0]  [0, 0, 0, 0]   \n",
       "3       3574      3       3    [10, 20, 1, 6]    [0, 0, 0, 0]  [0, 0, 0, 0]   \n",
       "4       3574      4       2    [8, 15, 11, 5]    [0, 0, 0, 0]  [0, 0, 0, 0]   \n",
       "...      ...    ...     ...               ...             ...           ...   \n",
       "16840   8641      0       4   [19, 12, 2, 15]    [2, 4, 3, 3]  [2, 5, 5, 4]   \n",
       "16841   8641      1       4    [10, 20, 8, 4]  [1, -1, -2, 3]  [1, 1, 1, 3]   \n",
       "16842   8641      2       1    [17, 7, 18, 6]   [4, -1, 2, 1]  [5, 1, 4, 2]   \n",
       "16843   8641      3       2    [16, 1, 5, 14]  [-2, -1, 4, 1]  [0, 1, 4, 2]   \n",
       "16844   8641      4       2    [11, 13, 3, 9]   [0, -1, 3, 1]  [1, 1, 4, 1]   \n",
       "\n",
       "                   nfas     opening_odds     closing_odds  match_id  \n",
       "0          [0, 0, 0, 0]     [5, 2, 3, 9]    [6, 2, 3, 11]     17870  \n",
       "1          [0, 0, 0, 0]    [13, 2, 3, 3]    [13, 2, 3, 3]     17871  \n",
       "2          [0, 0, 0, 0]    [13, 2, 5, 4]    [13, 2, 6, 5]     17872  \n",
       "3          [0, 0, 0, 0]  [13, 10, 2, 13]  [13, 13, 2, 13]     17873  \n",
       "4          [0, 0, 0, 0]   [13, 2, 11, 6]   [13, 2, 13, 6]     17874  \n",
       "...                 ...              ...              ...       ...  \n",
       "16840   [0, -1, -2, -1]   [4, 13, 13, 2]   [4, 13, 13, 2]     43205  \n",
       "16841    [0, -2, -3, 0]   [13, 8, 13, 2]  [13, 12, 13, 2]     43206  \n",
       "16842  [-1, -2, -2, -1]     [2, 6, 5, 4]     [2, 6, 5, 4]     43207  \n",
       "16843   [-2, -2, 0, -1]    [13, 4, 2, 5]    [13, 5, 2, 7]     43208  \n",
       "16844   [-1, -2, -1, 0]    [11, 3, 3, 3]     [8, 4, 3, 4]     43209  \n",
       "\n",
       "[16845 rows x 10 columns]"
      ]
     },
     "execution_count": 232,
     "metadata": {},
     "output_type": "execute_result"
    }
   ],
   "source": [
    "# combine columns pirate1 through pirate4 into a single column containing a list of pirate choices\n",
    "def convert_df(df_orig):\n",
    "    df = df_orig.copy()\n",
    "    df['pirates'] = df[['pirate1', 'pirate2', 'pirate3', 'pirate4']].values.tolist()\n",
    "    df['fas'] = df[['fa1', 'fa2', 'fa3', 'fa4']].values.tolist()\n",
    "    df['pfas'] = df[['pfa1', 'pfa2', 'pfa3', 'pfa4']].values.tolist()\n",
    "    df['nfas'] = df[['nfa1', 'nfa2', 'nfa3', 'nfa4']].values.tolist()\n",
    "    df['opening_odds'] = df[['opening_odds1', 'opening_odds2', 'opening_odds3', 'opening_odds4']].values.tolist()\n",
    "    df['closing_odds'] = df[['closing_odds1', 'closing_odds2', 'closing_odds3', 'closing_odds4']].values.tolist()\n",
    "    df = df.drop(['pirate1', 'pirate2', 'pirate3', 'pirate4'], axis=1)\n",
    "    df = df.drop(['fa1', 'fa2', 'fa3', 'fa4'], axis=1)\n",
    "    df = df.drop(['pfa1', 'pfa2', 'pfa3', 'pfa4'], axis=1)\n",
    "    df = df.drop(['nfa1', 'nfa2', 'nfa3', 'nfa4'], axis=1)\n",
    "    df = df.drop(['opening_odds1', 'opening_odds2', 'opening_odds3', 'opening_odds4'], axis=1)\n",
    "    df = df.drop(['closing_odds1', 'closing_odds2', 'closing_odds3', 'closing_odds4'], axis=1)\n",
    "    df['match_id'] = df['round'] * 5 + df['arena']\n",
    "    return df\n",
    "df = convert_df(df)\n",
    "df"
   ]
  },
  {
   "cell_type": "code",
   "execution_count": 199,
   "metadata": {},
   "outputs": [
    {
     "data": {
      "text/html": [
       "<div>\n",
       "<style scoped>\n",
       "    .dataframe tbody tr th:only-of-type {\n",
       "        vertical-align: middle;\n",
       "    }\n",
       "\n",
       "    .dataframe tbody tr th {\n",
       "        vertical-align: top;\n",
       "    }\n",
       "\n",
       "    .dataframe thead th {\n",
       "        text-align: right;\n",
       "    }\n",
       "</style>\n",
       "<table border=\"1\" class=\"dataframe\">\n",
       "  <thead>\n",
       "    <tr style=\"text-align: right;\">\n",
       "      <th></th>\n",
       "      <th>round</th>\n",
       "      <th>arena</th>\n",
       "      <th>win</th>\n",
       "      <th>pirate</th>\n",
       "      <th>fa</th>\n",
       "      <th>pfa</th>\n",
       "      <th>nfa</th>\n",
       "      <th>position</th>\n",
       "      <th>position_factor</th>\n",
       "      <th>is_pos1</th>\n",
       "      <th>is_pos2</th>\n",
       "      <th>is_pos3</th>\n",
       "      <th>is_pos4</th>\n",
       "      <th>opening_odds</th>\n",
       "      <th>closing_odds</th>\n",
       "      <th>match_id</th>\n",
       "    </tr>\n",
       "  </thead>\n",
       "  <tbody>\n",
       "    <tr>\n",
       "      <th>0</th>\n",
       "      <td>3574</td>\n",
       "      <td>0</td>\n",
       "      <td>0</td>\n",
       "      <td>7</td>\n",
       "      <td>0</td>\n",
       "      <td>0</td>\n",
       "      <td>0</td>\n",
       "      <td>1</td>\n",
       "      <td>-0.1821</td>\n",
       "      <td>1</td>\n",
       "      <td>0</td>\n",
       "      <td>0</td>\n",
       "      <td>0</td>\n",
       "      <td>5</td>\n",
       "      <td>6</td>\n",
       "      <td>17870</td>\n",
       "    </tr>\n",
       "    <tr>\n",
       "      <th>1</th>\n",
       "      <td>3574</td>\n",
       "      <td>0</td>\n",
       "      <td>0</td>\n",
       "      <td>19</td>\n",
       "      <td>0</td>\n",
       "      <td>0</td>\n",
       "      <td>0</td>\n",
       "      <td>2</td>\n",
       "      <td>0.0000</td>\n",
       "      <td>0</td>\n",
       "      <td>1</td>\n",
       "      <td>0</td>\n",
       "      <td>0</td>\n",
       "      <td>2</td>\n",
       "      <td>2</td>\n",
       "      <td>17870</td>\n",
       "    </tr>\n",
       "    <tr>\n",
       "      <th>2</th>\n",
       "      <td>3574</td>\n",
       "      <td>0</td>\n",
       "      <td>1</td>\n",
       "      <td>4</td>\n",
       "      <td>0</td>\n",
       "      <td>0</td>\n",
       "      <td>0</td>\n",
       "      <td>3</td>\n",
       "      <td>0.2814</td>\n",
       "      <td>0</td>\n",
       "      <td>0</td>\n",
       "      <td>1</td>\n",
       "      <td>0</td>\n",
       "      <td>3</td>\n",
       "      <td>3</td>\n",
       "      <td>17870</td>\n",
       "    </tr>\n",
       "    <tr>\n",
       "      <th>3</th>\n",
       "      <td>3574</td>\n",
       "      <td>0</td>\n",
       "      <td>0</td>\n",
       "      <td>13</td>\n",
       "      <td>0</td>\n",
       "      <td>0</td>\n",
       "      <td>0</td>\n",
       "      <td>4</td>\n",
       "      <td>0.5523</td>\n",
       "      <td>0</td>\n",
       "      <td>0</td>\n",
       "      <td>0</td>\n",
       "      <td>1</td>\n",
       "      <td>9</td>\n",
       "      <td>11</td>\n",
       "      <td>17870</td>\n",
       "    </tr>\n",
       "    <tr>\n",
       "      <th>4</th>\n",
       "      <td>3574</td>\n",
       "      <td>1</td>\n",
       "      <td>0</td>\n",
       "      <td>18</td>\n",
       "      <td>0</td>\n",
       "      <td>0</td>\n",
       "      <td>0</td>\n",
       "      <td>1</td>\n",
       "      <td>-0.1821</td>\n",
       "      <td>1</td>\n",
       "      <td>0</td>\n",
       "      <td>0</td>\n",
       "      <td>0</td>\n",
       "      <td>13</td>\n",
       "      <td>13</td>\n",
       "      <td>17871</td>\n",
       "    </tr>\n",
       "    <tr>\n",
       "      <th>...</th>\n",
       "      <td>...</td>\n",
       "      <td>...</td>\n",
       "      <td>...</td>\n",
       "      <td>...</td>\n",
       "      <td>...</td>\n",
       "      <td>...</td>\n",
       "      <td>...</td>\n",
       "      <td>...</td>\n",
       "      <td>...</td>\n",
       "      <td>...</td>\n",
       "      <td>...</td>\n",
       "      <td>...</td>\n",
       "      <td>...</td>\n",
       "      <td>...</td>\n",
       "      <td>...</td>\n",
       "      <td>...</td>\n",
       "    </tr>\n",
       "    <tr>\n",
       "      <th>67375</th>\n",
       "      <td>8641</td>\n",
       "      <td>3</td>\n",
       "      <td>0</td>\n",
       "      <td>14</td>\n",
       "      <td>1</td>\n",
       "      <td>2</td>\n",
       "      <td>-1</td>\n",
       "      <td>4</td>\n",
       "      <td>0.5523</td>\n",
       "      <td>0</td>\n",
       "      <td>0</td>\n",
       "      <td>0</td>\n",
       "      <td>1</td>\n",
       "      <td>5</td>\n",
       "      <td>7</td>\n",
       "      <td>43208</td>\n",
       "    </tr>\n",
       "    <tr>\n",
       "      <th>67376</th>\n",
       "      <td>8641</td>\n",
       "      <td>4</td>\n",
       "      <td>0</td>\n",
       "      <td>11</td>\n",
       "      <td>0</td>\n",
       "      <td>1</td>\n",
       "      <td>-1</td>\n",
       "      <td>1</td>\n",
       "      <td>-0.1821</td>\n",
       "      <td>1</td>\n",
       "      <td>0</td>\n",
       "      <td>0</td>\n",
       "      <td>0</td>\n",
       "      <td>11</td>\n",
       "      <td>8</td>\n",
       "      <td>43209</td>\n",
       "    </tr>\n",
       "    <tr>\n",
       "      <th>67377</th>\n",
       "      <td>8641</td>\n",
       "      <td>4</td>\n",
       "      <td>1</td>\n",
       "      <td>13</td>\n",
       "      <td>-1</td>\n",
       "      <td>1</td>\n",
       "      <td>-2</td>\n",
       "      <td>2</td>\n",
       "      <td>0.0000</td>\n",
       "      <td>0</td>\n",
       "      <td>1</td>\n",
       "      <td>0</td>\n",
       "      <td>0</td>\n",
       "      <td>3</td>\n",
       "      <td>4</td>\n",
       "      <td>43209</td>\n",
       "    </tr>\n",
       "    <tr>\n",
       "      <th>67378</th>\n",
       "      <td>8641</td>\n",
       "      <td>4</td>\n",
       "      <td>0</td>\n",
       "      <td>3</td>\n",
       "      <td>3</td>\n",
       "      <td>4</td>\n",
       "      <td>-1</td>\n",
       "      <td>3</td>\n",
       "      <td>0.2814</td>\n",
       "      <td>0</td>\n",
       "      <td>0</td>\n",
       "      <td>1</td>\n",
       "      <td>0</td>\n",
       "      <td>3</td>\n",
       "      <td>3</td>\n",
       "      <td>43209</td>\n",
       "    </tr>\n",
       "    <tr>\n",
       "      <th>67379</th>\n",
       "      <td>8641</td>\n",
       "      <td>4</td>\n",
       "      <td>0</td>\n",
       "      <td>9</td>\n",
       "      <td>1</td>\n",
       "      <td>1</td>\n",
       "      <td>0</td>\n",
       "      <td>4</td>\n",
       "      <td>0.5523</td>\n",
       "      <td>0</td>\n",
       "      <td>0</td>\n",
       "      <td>0</td>\n",
       "      <td>1</td>\n",
       "      <td>3</td>\n",
       "      <td>4</td>\n",
       "      <td>43209</td>\n",
       "    </tr>\n",
       "  </tbody>\n",
       "</table>\n",
       "<p>67380 rows × 16 columns</p>\n",
       "</div>"
      ],
      "text/plain": [
       "       round  arena  win  pirate  fa  pfa  nfa  position  position_factor  \\\n",
       "0       3574      0    0       7   0    0    0         1          -0.1821   \n",
       "1       3574      0    0      19   0    0    0         2           0.0000   \n",
       "2       3574      0    1       4   0    0    0         3           0.2814   \n",
       "3       3574      0    0      13   0    0    0         4           0.5523   \n",
       "4       3574      1    0      18   0    0    0         1          -0.1821   \n",
       "...      ...    ...  ...     ...  ..  ...  ...       ...              ...   \n",
       "67375   8641      3    0      14   1    2   -1         4           0.5523   \n",
       "67376   8641      4    0      11   0    1   -1         1          -0.1821   \n",
       "67377   8641      4    1      13  -1    1   -2         2           0.0000   \n",
       "67378   8641      4    0       3   3    4   -1         3           0.2814   \n",
       "67379   8641      4    0       9   1    1    0         4           0.5523   \n",
       "\n",
       "       is_pos1  is_pos2  is_pos3  is_pos4  opening_odds  closing_odds  \\\n",
       "0            1        0        0        0             5             6   \n",
       "1            0        1        0        0             2             2   \n",
       "2            0        0        1        0             3             3   \n",
       "3            0        0        0        1             9            11   \n",
       "4            1        0        0        0            13            13   \n",
       "...        ...      ...      ...      ...           ...           ...   \n",
       "67375        0        0        0        1             5             7   \n",
       "67376        1        0        0        0            11             8   \n",
       "67377        0        1        0        0             3             4   \n",
       "67378        0        0        1        0             3             3   \n",
       "67379        0        0        0        1             3             4   \n",
       "\n",
       "       match_id  \n",
       "0         17870  \n",
       "1         17870  \n",
       "2         17870  \n",
       "3         17870  \n",
       "4         17871  \n",
       "...         ...  \n",
       "67375     43208  \n",
       "67376     43209  \n",
       "67377     43209  \n",
       "67378     43209  \n",
       "67379     43209  \n",
       "\n",
       "[67380 rows x 16 columns]"
      ]
     },
     "execution_count": 199,
     "metadata": {},
     "output_type": "execute_result"
    }
   ],
   "source": [
    "# explode each row of df into four rows, so that the resulting df\n",
    "# contains columns of round, arena, win (0 or 1), pirate, fa, opening_odds, closing_odds, match_id\n",
    "def convert_to_long_format_with_win(df):\n",
    "    long_format_columns = ['round', 'arena', 'win', 'pirate', 'fa', 'pfa', 'nfa', 'position', 'position_factor', 'is_pos1', 'is_pos2', 'is_pos3', 'is_pos4', 'opening_odds', 'closing_odds', 'match_id']\n",
    "    # positional effect is significant but sorta non-linear; this is taken from a model data\n",
    "    # and we'll calculate each pirates \"suscetibility to positional effects\" by fitting a multiplier\n",
    "    position_factor = [-0.1821, 0, 0.2814, 0.5523]\n",
    "    long_format = pd.DataFrame([\n",
    "        (\n",
    "            tup.round,\n",
    "            tup.arena,\n",
    "            1 if 'winner' in df.columns and tup.winner == (i + 1) else 0,\n",
    "            tup.pirates[i],\n",
    "            tup.fas[i],\n",
    "            tup.pfas[i],\n",
    "            tup.nfas[i],\n",
    "            i + 1,\n",
    "            position_factor[i],\n",
    "            1 if i + 1 == 1 else 0,\n",
    "            1 if i + 1 == 2 else 0,\n",
    "            1 if i + 1 == 3 else 0,\n",
    "            1 if i + 1 == 4 else 0,\n",
    "            tup.opening_odds[i],\n",
    "            tup.closing_odds[i],\n",
    "            tup.match_id\n",
    "        )\n",
    "        for tup in df.itertuples() for i in range(4)\n",
    "    ],columns=long_format_columns)\n",
    "    return long_format\n",
    "\n",
    "def convert_to_long_format_without_win(df):\n",
    "    return convert_to_long_format_with_win(df).drop(['win'], axis=1)\n",
    "\n",
    "long_format = convert_to_long_format_with_win(df)\n",
    "long_format"
   ]
  },
  {
   "cell_type": "code",
   "execution_count": 140,
   "metadata": {},
   "outputs": [
    {
     "data": {
      "text/html": [
       "<div>\n",
       "<style scoped>\n",
       "    .dataframe tbody tr th:only-of-type {\n",
       "        vertical-align: middle;\n",
       "    }\n",
       "\n",
       "    .dataframe tbody tr th {\n",
       "        vertical-align: top;\n",
       "    }\n",
       "\n",
       "    .dataframe thead th {\n",
       "        text-align: right;\n",
       "    }\n",
       "</style>\n",
       "<table border=\"1\" class=\"dataframe\">\n",
       "  <thead>\n",
       "    <tr style=\"text-align: right;\">\n",
       "      <th></th>\n",
       "      <th>round</th>\n",
       "      <th>arena</th>\n",
       "      <th>win</th>\n",
       "      <th>pirate</th>\n",
       "      <th>fa</th>\n",
       "      <th>pfa</th>\n",
       "      <th>nfa</th>\n",
       "      <th>position</th>\n",
       "      <th>opening_odds</th>\n",
       "      <th>closing_odds</th>\n",
       "      <th>match_id</th>\n",
       "      <th>log_opening_implied_winrate</th>\n",
       "    </tr>\n",
       "  </thead>\n",
       "  <tbody>\n",
       "    <tr>\n",
       "      <th>0</th>\n",
       "      <td>3574</td>\n",
       "      <td>0</td>\n",
       "      <td>0</td>\n",
       "      <td>7</td>\n",
       "      <td>0</td>\n",
       "      <td>0</td>\n",
       "      <td>0</td>\n",
       "      <td>1</td>\n",
       "      <td>5</td>\n",
       "      <td>6</td>\n",
       "      <td>17870</td>\n",
       "      <td>-1.609438</td>\n",
       "    </tr>\n",
       "    <tr>\n",
       "      <th>1</th>\n",
       "      <td>3574</td>\n",
       "      <td>0</td>\n",
       "      <td>0</td>\n",
       "      <td>19</td>\n",
       "      <td>0</td>\n",
       "      <td>0</td>\n",
       "      <td>0</td>\n",
       "      <td>2</td>\n",
       "      <td>2</td>\n",
       "      <td>2</td>\n",
       "      <td>17870</td>\n",
       "      <td>-0.693147</td>\n",
       "    </tr>\n",
       "    <tr>\n",
       "      <th>2</th>\n",
       "      <td>3574</td>\n",
       "      <td>0</td>\n",
       "      <td>1</td>\n",
       "      <td>4</td>\n",
       "      <td>0</td>\n",
       "      <td>0</td>\n",
       "      <td>0</td>\n",
       "      <td>3</td>\n",
       "      <td>3</td>\n",
       "      <td>3</td>\n",
       "      <td>17870</td>\n",
       "      <td>-1.098612</td>\n",
       "    </tr>\n",
       "    <tr>\n",
       "      <th>3</th>\n",
       "      <td>3574</td>\n",
       "      <td>0</td>\n",
       "      <td>0</td>\n",
       "      <td>13</td>\n",
       "      <td>0</td>\n",
       "      <td>0</td>\n",
       "      <td>0</td>\n",
       "      <td>4</td>\n",
       "      <td>9</td>\n",
       "      <td>11</td>\n",
       "      <td>17870</td>\n",
       "      <td>-2.197225</td>\n",
       "    </tr>\n",
       "    <tr>\n",
       "      <th>4</th>\n",
       "      <td>3574</td>\n",
       "      <td>1</td>\n",
       "      <td>0</td>\n",
       "      <td>18</td>\n",
       "      <td>0</td>\n",
       "      <td>0</td>\n",
       "      <td>0</td>\n",
       "      <td>1</td>\n",
       "      <td>13</td>\n",
       "      <td>13</td>\n",
       "      <td>17871</td>\n",
       "      <td>-2.564949</td>\n",
       "    </tr>\n",
       "    <tr>\n",
       "      <th>...</th>\n",
       "      <td>...</td>\n",
       "      <td>...</td>\n",
       "      <td>...</td>\n",
       "      <td>...</td>\n",
       "      <td>...</td>\n",
       "      <td>...</td>\n",
       "      <td>...</td>\n",
       "      <td>...</td>\n",
       "      <td>...</td>\n",
       "      <td>...</td>\n",
       "      <td>...</td>\n",
       "      <td>...</td>\n",
       "    </tr>\n",
       "    <tr>\n",
       "      <th>67375</th>\n",
       "      <td>8641</td>\n",
       "      <td>3</td>\n",
       "      <td>0</td>\n",
       "      <td>14</td>\n",
       "      <td>1</td>\n",
       "      <td>2</td>\n",
       "      <td>-1</td>\n",
       "      <td>4</td>\n",
       "      <td>5</td>\n",
       "      <td>7</td>\n",
       "      <td>43208</td>\n",
       "      <td>-1.609438</td>\n",
       "    </tr>\n",
       "    <tr>\n",
       "      <th>67376</th>\n",
       "      <td>8641</td>\n",
       "      <td>4</td>\n",
       "      <td>0</td>\n",
       "      <td>11</td>\n",
       "      <td>0</td>\n",
       "      <td>1</td>\n",
       "      <td>-1</td>\n",
       "      <td>1</td>\n",
       "      <td>11</td>\n",
       "      <td>8</td>\n",
       "      <td>43209</td>\n",
       "      <td>-2.397895</td>\n",
       "    </tr>\n",
       "    <tr>\n",
       "      <th>67377</th>\n",
       "      <td>8641</td>\n",
       "      <td>4</td>\n",
       "      <td>1</td>\n",
       "      <td>13</td>\n",
       "      <td>-1</td>\n",
       "      <td>1</td>\n",
       "      <td>-2</td>\n",
       "      <td>2</td>\n",
       "      <td>3</td>\n",
       "      <td>4</td>\n",
       "      <td>43209</td>\n",
       "      <td>-1.098612</td>\n",
       "    </tr>\n",
       "    <tr>\n",
       "      <th>67378</th>\n",
       "      <td>8641</td>\n",
       "      <td>4</td>\n",
       "      <td>0</td>\n",
       "      <td>3</td>\n",
       "      <td>3</td>\n",
       "      <td>4</td>\n",
       "      <td>-1</td>\n",
       "      <td>3</td>\n",
       "      <td>3</td>\n",
       "      <td>3</td>\n",
       "      <td>43209</td>\n",
       "      <td>-1.098612</td>\n",
       "    </tr>\n",
       "    <tr>\n",
       "      <th>67379</th>\n",
       "      <td>8641</td>\n",
       "      <td>4</td>\n",
       "      <td>0</td>\n",
       "      <td>9</td>\n",
       "      <td>1</td>\n",
       "      <td>1</td>\n",
       "      <td>0</td>\n",
       "      <td>4</td>\n",
       "      <td>3</td>\n",
       "      <td>4</td>\n",
       "      <td>43209</td>\n",
       "      <td>-1.098612</td>\n",
       "    </tr>\n",
       "  </tbody>\n",
       "</table>\n",
       "<p>67380 rows × 12 columns</p>\n",
       "</div>"
      ],
      "text/plain": [
       "       round  arena  win  pirate  fa  pfa  nfa  position  opening_odds  \\\n",
       "0       3574      0    0       7   0    0    0         1             5   \n",
       "1       3574      0    0      19   0    0    0         2             2   \n",
       "2       3574      0    1       4   0    0    0         3             3   \n",
       "3       3574      0    0      13   0    0    0         4             9   \n",
       "4       3574      1    0      18   0    0    0         1            13   \n",
       "...      ...    ...  ...     ...  ..  ...  ...       ...           ...   \n",
       "67375   8641      3    0      14   1    2   -1         4             5   \n",
       "67376   8641      4    0      11   0    1   -1         1            11   \n",
       "67377   8641      4    1      13  -1    1   -2         2             3   \n",
       "67378   8641      4    0       3   3    4   -1         3             3   \n",
       "67379   8641      4    0       9   1    1    0         4             3   \n",
       "\n",
       "       closing_odds  match_id  log_opening_implied_winrate  \n",
       "0                 6     17870                    -1.609438  \n",
       "1                 2     17870                    -0.693147  \n",
       "2                 3     17870                    -1.098612  \n",
       "3                11     17870                    -2.197225  \n",
       "4                13     17871                    -2.564949  \n",
       "...             ...       ...                          ...  \n",
       "67375             7     43208                    -1.609438  \n",
       "67376             8     43209                    -2.397895  \n",
       "67377             4     43209                    -1.098612  \n",
       "67378             3     43209                    -1.098612  \n",
       "67379             4     43209                    -1.098612  \n",
       "\n",
       "[67380 rows x 12 columns]"
      ]
     },
     "execution_count": 140,
     "metadata": {},
     "output_type": "execute_result"
    }
   ],
   "source": [
    "long_format['log_opening_implied_winrate'] = np.log(1.0 / long_format['opening_odds'])\n",
    "long_format"
   ]
  },
  {
   "cell_type": "code",
   "execution_count": 141,
   "metadata": {},
   "outputs": [],
   "source": [
    "PIRATE_NAMES = {\n",
    "    1: \"Dan\",\n",
    "    2: \"Sproggie\",\n",
    "    3: \"Orvinn\",\n",
    "    4: \"Lucky\",\n",
    "    5: \"Edmund\",\n",
    "    6: \"Peg Leg\",\n",
    "    7: \"Bonnie\",\n",
    "    8: \"Puffo\",\n",
    "    9: \"Stuff\",\n",
    "    10: \"Squire\",\n",
    "    11: \"Crossblades\",\n",
    "    12: \"Stripey\",\n",
    "    13: \"Ned\",\n",
    "    14: \"Fairfax\",\n",
    "    15: \"Gooblah\",\n",
    "    16: \"Franchisco\",\n",
    "    17: \"Federismo\",\n",
    "    18: \"Blackbeard\",\n",
    "    19: \"Buck\",\n",
    "    20: \"Tailhook\",\n",
    "}"
   ]
  },
  {
   "cell_type": "code",
   "execution_count": 60,
   "metadata": {},
   "outputs": [],
   "source": [
    "pirates_including_the_first = list(range(1, 21))\n",
    "pirates_except_the_first = list(range(2, 21))"
   ]
  },
  {
   "cell_type": "code",
   "execution_count": 61,
   "metadata": {},
   "outputs": [
    {
     "name": "stdout",
     "output_type": "stream",
     "text": [
      "Log-likelihood at zero: -23,352.1285\n",
      "Initial Log-likelihood: -23,352.1285\n"
     ]
    },
    {
     "name": "stderr",
     "output_type": "stream",
     "text": [
      "/home/arsdragonfly/neofoodclub/envs/default/lib/python3.10/site-packages/scipy/optimize/_minimize.py:555: RuntimeWarning: Method BFGS does not use Hessian information (hess).\n",
      "  warn('Method %s does not use Hessian information (hess).' % method,\n"
     ]
    },
    {
     "name": "stdout",
     "output_type": "stream",
     "text": [
      "Estimation Time for Point Estimation: 0.32 seconds.\n",
      "Final log-likelihood: -18,235.0666\n"
     ]
    },
    {
     "data": {
      "text/html": [
       "<table class=\"simpletable\">\n",
       "<caption>Multinomial Logit Model Regression Results</caption>\n",
       "<tr>\n",
       "  <th>Dep. Variable:</th>           <td>win</td>           <th>  No. Observations:  </th>   <td>16,845</td>   \n",
       "</tr>\n",
       "<tr>\n",
       "  <th>Model:</th>         <td>Multinomial Logit Model</td> <th>  Df Residuals:      </th>   <td>16,824</td>   \n",
       "</tr>\n",
       "<tr>\n",
       "  <th>Method:</th>                  <td>MLE</td>           <th>  Df Model:          </th>     <td>21</td>     \n",
       "</tr>\n",
       "<tr>\n",
       "  <th>Date:</th>             <td>Wed, 04 Jan 2023</td>     <th>  Pseudo R-squ.:     </th>    <td>0.219</td>   \n",
       "</tr>\n",
       "<tr>\n",
       "  <th>Time:</th>                 <td>01:16:12</td>         <th>  Pseudo R-bar-squ.: </th>    <td>0.218</td>   \n",
       "</tr>\n",
       "<tr>\n",
       "  <th>AIC:</th>                 <td>36,512.133</td>        <th>  Log-Likelihood:    </th> <td>-18,235.067</td>\n",
       "</tr>\n",
       "<tr>\n",
       "  <th>BIC:</th>                 <td>36,674.501</td>        <th>  LL-Null:           </th> <td>-23,352.129</td>\n",
       "</tr>\n",
       "</table>\n",
       "<table class=\"simpletable\">\n",
       "<tr>\n",
       "               <td></td>                  <th>coef</th>     <th>std err</th>      <th>z</th>      <th>P>|z|</th>  <th>[0.025</th>    <th>0.975]</th>  \n",
       "</tr>\n",
       "<tr>\n",
       "  <th>ASC_2_Sproggie</th>              <td>   -0.3015</td> <td>    0.064</td> <td>   -4.747</td> <td> 0.000</td> <td>   -0.426</td> <td>   -0.177</td>\n",
       "</tr>\n",
       "<tr>\n",
       "  <th>ASC_3_Orvinn</th>                <td>   -0.6093</td> <td>    0.082</td> <td>   -7.432</td> <td> 0.000</td> <td>   -0.770</td> <td>   -0.449</td>\n",
       "</tr>\n",
       "<tr>\n",
       "  <th>ASC_4_Lucky</th>                 <td>   -0.1268</td> <td>    0.055</td> <td>   -2.319</td> <td> 0.020</td> <td>   -0.234</td> <td>   -0.020</td>\n",
       "</tr>\n",
       "<tr>\n",
       "  <th>ASC_5_Edmund</th>                <td>   -0.1442</td> <td>    0.055</td> <td>   -2.600</td> <td> 0.009</td> <td>   -0.253</td> <td>   -0.036</td>\n",
       "</tr>\n",
       "<tr>\n",
       "  <th>ASC_6_Peg Leg</th>               <td>   -0.3446</td> <td>    0.068</td> <td>   -5.051</td> <td> 0.000</td> <td>   -0.478</td> <td>   -0.211</td>\n",
       "</tr>\n",
       "<tr>\n",
       "  <th>ASC_7_Bonnie</th>                <td>   -0.3013</td> <td>    0.059</td> <td>   -5.084</td> <td> 0.000</td> <td>   -0.418</td> <td>   -0.185</td>\n",
       "</tr>\n",
       "<tr>\n",
       "  <th>ASC_8_Puffo</th>                 <td>   -0.4196</td> <td>    0.074</td> <td>   -5.696</td> <td> 0.000</td> <td>   -0.564</td> <td>   -0.275</td>\n",
       "</tr>\n",
       "<tr>\n",
       "  <th>ASC_9_Stuff</th>                 <td>   -0.7360</td> <td>    0.094</td> <td>   -7.799</td> <td> 0.000</td> <td>   -0.921</td> <td>   -0.551</td>\n",
       "</tr>\n",
       "<tr>\n",
       "  <th>ASC_10_Squire</th>               <td>   -0.6544</td> <td>    0.090</td> <td>   -7.307</td> <td> 0.000</td> <td>   -0.830</td> <td>   -0.479</td>\n",
       "</tr>\n",
       "<tr>\n",
       "  <th>ASC_11_Crossblades</th>          <td>   -0.5264</td> <td>    0.079</td> <td>   -6.680</td> <td> 0.000</td> <td>   -0.681</td> <td>   -0.372</td>\n",
       "</tr>\n",
       "<tr>\n",
       "  <th>ASC_12_Stripey</th>              <td>   -0.2692</td> <td>    0.062</td> <td>   -4.333</td> <td> 0.000</td> <td>   -0.391</td> <td>   -0.147</td>\n",
       "</tr>\n",
       "<tr>\n",
       "  <th>ASC_13_Ned</th>                  <td>   -0.1619</td> <td>    0.058</td> <td>   -2.806</td> <td> 0.005</td> <td>   -0.275</td> <td>   -0.049</td>\n",
       "</tr>\n",
       "<tr>\n",
       "  <th>ASC_14_Fairfax</th>              <td>   -0.4022</td> <td>    0.065</td> <td>   -6.163</td> <td> 0.000</td> <td>   -0.530</td> <td>   -0.274</td>\n",
       "</tr>\n",
       "<tr>\n",
       "  <th>ASC_15_Gooblah</th>              <td>    0.4210</td> <td>    0.053</td> <td>    7.962</td> <td> 0.000</td> <td>    0.317</td> <td>    0.525</td>\n",
       "</tr>\n",
       "<tr>\n",
       "  <th>ASC_16_Franchisco</th>           <td>   -0.1499</td> <td>    0.052</td> <td>   -2.875</td> <td> 0.004</td> <td>   -0.252</td> <td>   -0.048</td>\n",
       "</tr>\n",
       "<tr>\n",
       "  <th>ASC_17_Federismo</th>            <td>   -0.1096</td> <td>    0.052</td> <td>   -2.103</td> <td> 0.035</td> <td>   -0.212</td> <td>   -0.007</td>\n",
       "</tr>\n",
       "<tr>\n",
       "  <th>ASC_18_Blackbeard</th>           <td>   -0.3519</td> <td>    0.066</td> <td>   -5.325</td> <td> 0.000</td> <td>   -0.481</td> <td>   -0.222</td>\n",
       "</tr>\n",
       "<tr>\n",
       "  <th>ASC_19_Buck</th>                 <td>    0.2487</td> <td>    0.052</td> <td>    4.751</td> <td> 0.000</td> <td>    0.146</td> <td>    0.351</td>\n",
       "</tr>\n",
       "<tr>\n",
       "  <th>ASC_20_Tailhook</th>             <td>   -0.0842</td> <td>    0.053</td> <td>   -1.584</td> <td> 0.113</td> <td>   -0.188</td> <td>    0.020</td>\n",
       "</tr>\n",
       "<tr>\n",
       "  <th>FA</th>                          <td>    0.0951</td> <td>    0.009</td> <td>   11.029</td> <td> 0.000</td> <td>    0.078</td> <td>    0.112</td>\n",
       "</tr>\n",
       "<tr>\n",
       "  <th>log_opening_implied_winrate</th> <td>    0.8761</td> <td>    0.028</td> <td>   31.458</td> <td> 0.000</td> <td>    0.821</td> <td>    0.931</td>\n",
       "</tr>\n",
       "</table>"
      ],
      "text/plain": [
       "<class 'statsmodels.iolib.summary.Summary'>\n",
       "\"\"\"\n",
       "                     Multinomial Logit Model Regression Results                    \n",
       "===================================================================================\n",
       "Dep. Variable:                         win   No. Observations:               16,845\n",
       "Model:             Multinomial Logit Model   Df Residuals:                   16,824\n",
       "Method:                                MLE   Df Model:                           21\n",
       "Date:                     Wed, 04 Jan 2023   Pseudo R-squ.:                   0.219\n",
       "Time:                             01:16:12   Pseudo R-bar-squ.:               0.218\n",
       "AIC:                            36,512.133   Log-Likelihood:            -18,235.067\n",
       "BIC:                            36,674.501   LL-Null:                   -23,352.129\n",
       "===============================================================================================\n",
       "                                  coef    std err          z      P>|z|      [0.025      0.975]\n",
       "-----------------------------------------------------------------------------------------------\n",
       "ASC_2_Sproggie                 -0.3015      0.064     -4.747      0.000      -0.426      -0.177\n",
       "ASC_3_Orvinn                   -0.6093      0.082     -7.432      0.000      -0.770      -0.449\n",
       "ASC_4_Lucky                    -0.1268      0.055     -2.319      0.020      -0.234      -0.020\n",
       "ASC_5_Edmund                   -0.1442      0.055     -2.600      0.009      -0.253      -0.036\n",
       "ASC_6_Peg Leg                  -0.3446      0.068     -5.051      0.000      -0.478      -0.211\n",
       "ASC_7_Bonnie                   -0.3013      0.059     -5.084      0.000      -0.418      -0.185\n",
       "ASC_8_Puffo                    -0.4196      0.074     -5.696      0.000      -0.564      -0.275\n",
       "ASC_9_Stuff                    -0.7360      0.094     -7.799      0.000      -0.921      -0.551\n",
       "ASC_10_Squire                  -0.6544      0.090     -7.307      0.000      -0.830      -0.479\n",
       "ASC_11_Crossblades             -0.5264      0.079     -6.680      0.000      -0.681      -0.372\n",
       "ASC_12_Stripey                 -0.2692      0.062     -4.333      0.000      -0.391      -0.147\n",
       "ASC_13_Ned                     -0.1619      0.058     -2.806      0.005      -0.275      -0.049\n",
       "ASC_14_Fairfax                 -0.4022      0.065     -6.163      0.000      -0.530      -0.274\n",
       "ASC_15_Gooblah                  0.4210      0.053      7.962      0.000       0.317       0.525\n",
       "ASC_16_Franchisco              -0.1499      0.052     -2.875      0.004      -0.252      -0.048\n",
       "ASC_17_Federismo               -0.1096      0.052     -2.103      0.035      -0.212      -0.007\n",
       "ASC_18_Blackbeard              -0.3519      0.066     -5.325      0.000      -0.481      -0.222\n",
       "ASC_19_Buck                     0.2487      0.052      4.751      0.000       0.146       0.351\n",
       "ASC_20_Tailhook                -0.0842      0.053     -1.584      0.113      -0.188       0.020\n",
       "FA                              0.0951      0.009     11.029      0.000       0.078       0.112\n",
       "log_opening_implied_winrate     0.8761      0.028     31.458      0.000       0.821       0.931\n",
       "===============================================================================================\n",
       "\"\"\""
      ]
     },
     "execution_count": 61,
     "metadata": {},
     "output_type": "execute_result"
    }
   ],
   "source": [
    "with_loiw_specification = OrderedDict()\n",
    "with_loiw_names = OrderedDict()\n",
    "with_loiw_specification[\"intercept\"] = pirates_except_the_first\n",
    "with_loiw_names[\"intercept\"] = [f'ASC_{i}_{PIRATE_NAMES[i]}' for i in pirates_except_the_first]\n",
    "# we use the same FA coefficient and same opening implied winrate coefficient for all pirates\n",
    "with_loiw_specification[\"fa\"] = [pirates_including_the_first]\n",
    "with_loiw_names[\"fa\"] = ['FA']\n",
    "with_loiw_specification[\"log_opening_implied_winrate\"] = [pirates_including_the_first]\n",
    "with_loiw_names[\"log_opening_implied_winrate\"] = ['log_opening_implied_winrate']\n",
    "with_loiw_mnl = pl.create_choice_model(data=long_format,\n",
    "alt_id_col='pirate',\n",
    "obs_id_col='match_id',\n",
    "choice_col='win',\n",
    "specification=with_loiw_specification,\n",
    "model_type='MNL',\n",
    "names=with_loiw_names)\n",
    "with_loiw_mnl.fit_mle(np.zeros(21))\n",
    "with_loiw_mnl.get_statsmodels_summary()"
   ]
  },
  {
   "cell_type": "code",
   "execution_count": 62,
   "metadata": {},
   "outputs": [
    {
     "name": "stdout",
     "output_type": "stream",
     "text": [
      "Log-likelihood at zero: -23,352.1285\n",
      "Initial Log-likelihood: -23,352.1285\n"
     ]
    },
    {
     "name": "stderr",
     "output_type": "stream",
     "text": [
      "/home/arsdragonfly/neofoodclub/envs/default/lib/python3.10/site-packages/scipy/optimize/_minimize.py:555: RuntimeWarning: Method BFGS does not use Hessian information (hess).\n",
      "  warn('Method %s does not use Hessian information (hess).' % method,\n"
     ]
    },
    {
     "name": "stdout",
     "output_type": "stream",
     "text": [
      "Estimation Time for Point Estimation: 0.32 seconds.\n",
      "Final log-likelihood: -18,145.0088\n"
     ]
    },
    {
     "data": {
      "text/html": [
       "<table class=\"simpletable\">\n",
       "<caption>Multinomial Logit Model Regression Results</caption>\n",
       "<tr>\n",
       "  <th>Dep. Variable:</th>           <td>win</td>           <th>  No. Observations:  </th>   <td>16,845</td>   \n",
       "</tr>\n",
       "<tr>\n",
       "  <th>Model:</th>         <td>Multinomial Logit Model</td> <th>  Df Residuals:      </th>   <td>16,823</td>   \n",
       "</tr>\n",
       "<tr>\n",
       "  <th>Method:</th>                  <td>MLE</td>           <th>  Df Model:          </th>     <td>22</td>     \n",
       "</tr>\n",
       "<tr>\n",
       "  <th>Date:</th>             <td>Wed, 04 Jan 2023</td>     <th>  Pseudo R-squ.:     </th>    <td>0.223</td>   \n",
       "</tr>\n",
       "<tr>\n",
       "  <th>Time:</th>                 <td>01:16:18</td>         <th>  Pseudo R-bar-squ.: </th>    <td>0.222</td>   \n",
       "</tr>\n",
       "<tr>\n",
       "  <th>AIC:</th>                 <td>36,334.018</td>        <th>  Log-Likelihood:    </th> <td>-18,145.009</td>\n",
       "</tr>\n",
       "<tr>\n",
       "  <th>BIC:</th>                 <td>36,504.117</td>        <th>  LL-Null:           </th> <td>-23,352.129</td>\n",
       "</tr>\n",
       "</table>\n",
       "<table class=\"simpletable\">\n",
       "<tr>\n",
       "               <td></td>                  <th>coef</th>     <th>std err</th>      <th>z</th>      <th>P>|z|</th>  <th>[0.025</th>    <th>0.975]</th>  \n",
       "</tr>\n",
       "<tr>\n",
       "  <th>ASC_2_Sproggie</th>              <td>   -0.6864</td> <td>    0.070</td> <td>   -9.779</td> <td> 0.000</td> <td>   -0.824</td> <td>   -0.549</td>\n",
       "</tr>\n",
       "<tr>\n",
       "  <th>ASC_3_Orvinn</th>                <td>   -1.2715</td> <td>    0.097</td> <td>  -13.109</td> <td> 0.000</td> <td>   -1.462</td> <td>   -1.081</td>\n",
       "</tr>\n",
       "<tr>\n",
       "  <th>ASC_4_Lucky</th>                 <td>   -0.2781</td> <td>    0.056</td> <td>   -4.950</td> <td> 0.000</td> <td>   -0.388</td> <td>   -0.168</td>\n",
       "</tr>\n",
       "<tr>\n",
       "  <th>ASC_5_Edmund</th>                <td>   -0.3329</td> <td>    0.058</td> <td>   -5.780</td> <td> 0.000</td> <td>   -0.446</td> <td>   -0.220</td>\n",
       "</tr>\n",
       "<tr>\n",
       "  <th>ASC_6_Peg Leg</th>               <td>   -0.7212</td> <td>    0.074</td> <td>   -9.726</td> <td> 0.000</td> <td>   -0.866</td> <td>   -0.576</td>\n",
       "</tr>\n",
       "<tr>\n",
       "  <th>ASC_7_Bonnie</th>                <td>   -0.5968</td> <td>    0.064</td> <td>   -9.373</td> <td> 0.000</td> <td>   -0.722</td> <td>   -0.472</td>\n",
       "</tr>\n",
       "<tr>\n",
       "  <th>ASC_8_Puffo</th>                 <td>   -0.9639</td> <td>    0.085</td> <td>  -11.317</td> <td> 0.000</td> <td>   -1.131</td> <td>   -0.797</td>\n",
       "</tr>\n",
       "<tr>\n",
       "  <th>ASC_9_Stuff</th>                 <td>   -1.3771</td> <td>    0.107</td> <td>  -12.833</td> <td> 0.000</td> <td>   -1.587</td> <td>   -1.167</td>\n",
       "</tr>\n",
       "<tr>\n",
       "  <th>ASC_10_Squire</th>               <td>   -1.2387</td> <td>    0.101</td> <td>  -12.295</td> <td> 0.000</td> <td>   -1.436</td> <td>   -1.041</td>\n",
       "</tr>\n",
       "<tr>\n",
       "  <th>ASC_11_Crossblades</th>          <td>   -1.1123</td> <td>    0.091</td> <td>  -12.208</td> <td> 0.000</td> <td>   -1.291</td> <td>   -0.934</td>\n",
       "</tr>\n",
       "<tr>\n",
       "  <th>ASC_12_Stripey</th>              <td>   -0.6555</td> <td>    0.069</td> <td>   -9.495</td> <td> 0.000</td> <td>   -0.791</td> <td>   -0.520</td>\n",
       "</tr>\n",
       "<tr>\n",
       "  <th>ASC_13_Ned</th>                  <td>   -0.3668</td> <td>    0.060</td> <td>   -6.117</td> <td> 0.000</td> <td>   -0.484</td> <td>   -0.249</td>\n",
       "</tr>\n",
       "<tr>\n",
       "  <th>ASC_14_Fairfax</th>              <td>   -0.8174</td> <td>    0.073</td> <td>  -11.221</td> <td> 0.000</td> <td>   -0.960</td> <td>   -0.675</td>\n",
       "</tr>\n",
       "<tr>\n",
       "  <th>ASC_15_Gooblah</th>              <td>    0.6573</td> <td>    0.056</td> <td>   11.635</td> <td> 0.000</td> <td>    0.547</td> <td>    0.768</td>\n",
       "</tr>\n",
       "<tr>\n",
       "  <th>ASC_16_Franchisco</th>           <td>   -0.2924</td> <td>    0.054</td> <td>   -5.449</td> <td> 0.000</td> <td>   -0.398</td> <td>   -0.187</td>\n",
       "</tr>\n",
       "<tr>\n",
       "  <th>ASC_17_Federismo</th>            <td>   -0.2564</td> <td>    0.054</td> <td>   -4.768</td> <td> 0.000</td> <td>   -0.362</td> <td>   -0.151</td>\n",
       "</tr>\n",
       "<tr>\n",
       "  <th>ASC_18_Blackbeard</th>           <td>   -0.7572</td> <td>    0.073</td> <td>  -10.331</td> <td> 0.000</td> <td>   -0.901</td> <td>   -0.614</td>\n",
       "</tr>\n",
       "<tr>\n",
       "  <th>ASC_19_Buck</th>                 <td>    0.3713</td> <td>    0.054</td> <td>    6.919</td> <td> 0.000</td> <td>    0.266</td> <td>    0.477</td>\n",
       "</tr>\n",
       "<tr>\n",
       "  <th>ASC_20_Tailhook</th>             <td>   -0.1907</td> <td>    0.054</td> <td>   -3.526</td> <td> 0.000</td> <td>   -0.297</td> <td>   -0.085</td>\n",
       "</tr>\n",
       "<tr>\n",
       "  <th>FA</th>                          <td>    0.1730</td> <td>    0.011</td> <td>   16.307</td> <td> 0.000</td> <td>    0.152</td> <td>    0.194</td>\n",
       "</tr>\n",
       "<tr>\n",
       "  <th>log_opening_implied_winrate</th> <td>    0.5182</td> <td>    0.039</td> <td>   13.415</td> <td> 0.000</td> <td>    0.442</td> <td>    0.594</td>\n",
       "</tr>\n",
       "<tr>\n",
       "  <th>position</th>                    <td>    0.1458</td> <td>    0.011</td> <td>   13.288</td> <td> 0.000</td> <td>    0.124</td> <td>    0.167</td>\n",
       "</tr>\n",
       "</table>"
      ],
      "text/plain": [
       "<class 'statsmodels.iolib.summary.Summary'>\n",
       "\"\"\"\n",
       "                     Multinomial Logit Model Regression Results                    \n",
       "===================================================================================\n",
       "Dep. Variable:                         win   No. Observations:               16,845\n",
       "Model:             Multinomial Logit Model   Df Residuals:                   16,823\n",
       "Method:                                MLE   Df Model:                           22\n",
       "Date:                     Wed, 04 Jan 2023   Pseudo R-squ.:                   0.223\n",
       "Time:                             01:16:18   Pseudo R-bar-squ.:               0.222\n",
       "AIC:                            36,334.018   Log-Likelihood:            -18,145.009\n",
       "BIC:                            36,504.117   LL-Null:                   -23,352.129\n",
       "===============================================================================================\n",
       "                                  coef    std err          z      P>|z|      [0.025      0.975]\n",
       "-----------------------------------------------------------------------------------------------\n",
       "ASC_2_Sproggie                 -0.6864      0.070     -9.779      0.000      -0.824      -0.549\n",
       "ASC_3_Orvinn                   -1.2715      0.097    -13.109      0.000      -1.462      -1.081\n",
       "ASC_4_Lucky                    -0.2781      0.056     -4.950      0.000      -0.388      -0.168\n",
       "ASC_5_Edmund                   -0.3329      0.058     -5.780      0.000      -0.446      -0.220\n",
       "ASC_6_Peg Leg                  -0.7212      0.074     -9.726      0.000      -0.866      -0.576\n",
       "ASC_7_Bonnie                   -0.5968      0.064     -9.373      0.000      -0.722      -0.472\n",
       "ASC_8_Puffo                    -0.9639      0.085    -11.317      0.000      -1.131      -0.797\n",
       "ASC_9_Stuff                    -1.3771      0.107    -12.833      0.000      -1.587      -1.167\n",
       "ASC_10_Squire                  -1.2387      0.101    -12.295      0.000      -1.436      -1.041\n",
       "ASC_11_Crossblades             -1.1123      0.091    -12.208      0.000      -1.291      -0.934\n",
       "ASC_12_Stripey                 -0.6555      0.069     -9.495      0.000      -0.791      -0.520\n",
       "ASC_13_Ned                     -0.3668      0.060     -6.117      0.000      -0.484      -0.249\n",
       "ASC_14_Fairfax                 -0.8174      0.073    -11.221      0.000      -0.960      -0.675\n",
       "ASC_15_Gooblah                  0.6573      0.056     11.635      0.000       0.547       0.768\n",
       "ASC_16_Franchisco              -0.2924      0.054     -5.449      0.000      -0.398      -0.187\n",
       "ASC_17_Federismo               -0.2564      0.054     -4.768      0.000      -0.362      -0.151\n",
       "ASC_18_Blackbeard              -0.7572      0.073    -10.331      0.000      -0.901      -0.614\n",
       "ASC_19_Buck                     0.3713      0.054      6.919      0.000       0.266       0.477\n",
       "ASC_20_Tailhook                -0.1907      0.054     -3.526      0.000      -0.297      -0.085\n",
       "FA                              0.1730      0.011     16.307      0.000       0.152       0.194\n",
       "log_opening_implied_winrate     0.5182      0.039     13.415      0.000       0.442       0.594\n",
       "position                        0.1458      0.011     13.288      0.000       0.124       0.167\n",
       "===============================================================================================\n",
       "\"\"\""
      ]
     },
     "execution_count": 62,
     "metadata": {},
     "output_type": "execute_result"
    }
   ],
   "source": [
    "# train a even more sophisticated model that includes the position of the pirate in the lineup\n",
    "with_loiw_and_position_specification = OrderedDict()\n",
    "with_loiw_and_position_names = OrderedDict()\n",
    "with_loiw_and_position_specification[\"intercept\"] = pirates_except_the_first\n",
    "with_loiw_and_position_names[\"intercept\"] = [f'ASC_{i}_{PIRATE_NAMES[i]}' for i in pirates_except_the_first]\n",
    "with_loiw_and_position_specification[\"fa\"] = [pirates_including_the_first]\n",
    "with_loiw_and_position_names[\"fa\"] = ['FA']\n",
    "with_loiw_and_position_specification[\"log_opening_implied_winrate\"] = [pirates_including_the_first]\n",
    "with_loiw_and_position_names[\"log_opening_implied_winrate\"] = ['log_opening_implied_winrate']\n",
    "with_loiw_and_position_specification[\"position\"] = [pirates_including_the_first]\n",
    "with_loiw_and_position_names[\"position\"] = ['position']\n",
    "with_loiw_and_position_mnl = pl.create_choice_model(data=long_format,\n",
    "alt_id_col='pirate',\n",
    "obs_id_col='match_id',\n",
    "choice_col='win',\n",
    "specification=with_loiw_and_position_specification,\n",
    "model_type='MNL',\n",
    "names=with_loiw_and_position_names)\n",
    "with_loiw_and_position_mnl.fit_mle(np.zeros(22))\n",
    "with_loiw_and_position_mnl.get_statsmodels_summary()"
   ]
  },
  {
   "cell_type": "code",
   "execution_count": 63,
   "metadata": {},
   "outputs": [
    {
     "name": "stdout",
     "output_type": "stream",
     "text": [
      "Log-likelihood at zero: -23,352.1285\n",
      "Initial Log-likelihood: -23,352.1285\n"
     ]
    },
    {
     "name": "stderr",
     "output_type": "stream",
     "text": [
      "/home/arsdragonfly/neofoodclub/envs/default/lib/python3.10/site-packages/scipy/optimize/_minimize.py:555: RuntimeWarning: Method BFGS does not use Hessian information (hess).\n",
      "  warn('Method %s does not use Hessian information (hess).' % method,\n"
     ]
    },
    {
     "name": "stdout",
     "output_type": "stream",
     "text": [
      "Estimation Time for Point Estimation: 0.52 seconds.\n",
      "Final log-likelihood: -18,750.3869\n"
     ]
    },
    {
     "data": {
      "text/html": [
       "<table class=\"simpletable\">\n",
       "<caption>Multinomial Logit Model Regression Results</caption>\n",
       "<tr>\n",
       "  <th>Dep. Variable:</th>           <td>win</td>           <th>  No. Observations:  </th>   <td>16,845</td>   \n",
       "</tr>\n",
       "<tr>\n",
       "  <th>Model:</th>         <td>Multinomial Logit Model</td> <th>  Df Residuals:      </th>   <td>16,825</td>   \n",
       "</tr>\n",
       "<tr>\n",
       "  <th>Method:</th>                  <td>MLE</td>           <th>  Df Model:          </th>     <td>20</td>     \n",
       "</tr>\n",
       "<tr>\n",
       "  <th>Date:</th>             <td>Wed, 04 Jan 2023</td>     <th>  Pseudo R-squ.:     </th>    <td>0.197</td>   \n",
       "</tr>\n",
       "<tr>\n",
       "  <th>Time:</th>                 <td>01:16:22</td>         <th>  Pseudo R-bar-squ.: </th>    <td>0.196</td>   \n",
       "</tr>\n",
       "<tr>\n",
       "  <th>AIC:</th>                 <td>37,540.774</td>        <th>  Log-Likelihood:    </th> <td>-18,750.387</td>\n",
       "</tr>\n",
       "<tr>\n",
       "  <th>BIC:</th>                 <td>37,695.410</td>        <th>  LL-Null:           </th> <td>-23,352.129</td>\n",
       "</tr>\n",
       "</table>\n",
       "<table class=\"simpletable\">\n",
       "<tr>\n",
       "           <td></td>             <th>coef</th>     <th>std err</th>      <th>z</th>      <th>P>|z|</th>  <th>[0.025</th>    <th>0.975]</th>  \n",
       "</tr>\n",
       "<tr>\n",
       "  <th>ASC_2_Sproggie</th>     <td>   -1.1955</td> <td>    0.057</td> <td>  -21.044</td> <td> 0.000</td> <td>   -1.307</td> <td>   -1.084</td>\n",
       "</tr>\n",
       "<tr>\n",
       "  <th>ASC_3_Orvinn</th>       <td>   -2.1749</td> <td>    0.067</td> <td>  -32.570</td> <td> 0.000</td> <td>   -2.306</td> <td>   -2.044</td>\n",
       "</tr>\n",
       "<tr>\n",
       "  <th>ASC_4_Lucky</th>        <td>   -0.4858</td> <td>    0.053</td> <td>   -9.130</td> <td> 0.000</td> <td>   -0.590</td> <td>   -0.381</td>\n",
       "</tr>\n",
       "<tr>\n",
       "  <th>ASC_5_Edmund</th>       <td>   -0.5922</td> <td>    0.053</td> <td>  -11.110</td> <td> 0.000</td> <td>   -0.697</td> <td>   -0.488</td>\n",
       "</tr>\n",
       "<tr>\n",
       "  <th>ASC_6_Peg Leg</th>      <td>   -1.2232</td> <td>    0.062</td> <td>  -19.679</td> <td> 0.000</td> <td>   -1.345</td> <td>   -1.101</td>\n",
       "</tr>\n",
       "<tr>\n",
       "  <th>ASC_7_Bonnie</th>       <td>   -0.9844</td> <td>    0.055</td> <td>  -17.846</td> <td> 0.000</td> <td>   -1.092</td> <td>   -0.876</td>\n",
       "</tr>\n",
       "<tr>\n",
       "  <th>ASC_8_Puffo</th>        <td>   -1.6893</td> <td>    0.063</td> <td>  -26.957</td> <td> 0.000</td> <td>   -1.812</td> <td>   -1.567</td>\n",
       "</tr>\n",
       "<tr>\n",
       "  <th>ASC_9_Stuff</th>        <td>   -2.2721</td> <td>    0.082</td> <td>  -27.691</td> <td> 0.000</td> <td>   -2.433</td> <td>   -2.111</td>\n",
       "</tr>\n",
       "<tr>\n",
       "  <th>ASC_10_Squire</th>      <td>   -2.0243</td> <td>    0.079</td> <td>  -25.583</td> <td> 0.000</td> <td>   -2.179</td> <td>   -1.869</td>\n",
       "</tr>\n",
       "<tr>\n",
       "  <th>ASC_11_Crossblades</th> <td>   -1.8984</td> <td>    0.067</td> <td>  -28.489</td> <td> 0.000</td> <td>   -2.029</td> <td>   -1.768</td>\n",
       "</tr>\n",
       "<tr>\n",
       "  <th>ASC_12_Stripey</th>     <td>   -1.1772</td> <td>    0.055</td> <td>  -21.348</td> <td> 0.000</td> <td>   -1.285</td> <td>   -1.069</td>\n",
       "</tr>\n",
       "<tr>\n",
       "  <th>ASC_13_Ned</th>         <td>   -0.6512</td> <td>    0.055</td> <td>  -11.808</td> <td> 0.000</td> <td>   -0.759</td> <td>   -0.543</td>\n",
       "</tr>\n",
       "<tr>\n",
       "  <th>ASC_14_Fairfax</th>     <td>   -1.3846</td> <td>    0.058</td> <td>  -23.989</td> <td> 0.000</td> <td>   -1.498</td> <td>   -1.271</td>\n",
       "</tr>\n",
       "<tr>\n",
       "  <th>ASC_15_Gooblah</th>     <td>    0.9588</td> <td>    0.051</td> <td>   18.983</td> <td> 0.000</td> <td>    0.860</td> <td>    1.058</td>\n",
       "</tr>\n",
       "<tr>\n",
       "  <th>ASC_16_Franchisco</th>  <td>   -0.4885</td> <td>    0.051</td> <td>   -9.593</td> <td> 0.000</td> <td>   -0.588</td> <td>   -0.389</td>\n",
       "</tr>\n",
       "<tr>\n",
       "  <th>ASC_17_Federismo</th>   <td>   -0.4654</td> <td>    0.051</td> <td>   -9.112</td> <td> 0.000</td> <td>   -0.565</td> <td>   -0.365</td>\n",
       "</tr>\n",
       "<tr>\n",
       "  <th>ASC_18_Blackbeard</th>  <td>   -1.3032</td> <td>    0.059</td> <td>  -22.103</td> <td> 0.000</td> <td>   -1.419</td> <td>   -1.188</td>\n",
       "</tr>\n",
       "<tr>\n",
       "  <th>ASC_19_Buck</th>        <td>    0.5275</td> <td>    0.052</td> <td>   10.212</td> <td> 0.000</td> <td>    0.426</td> <td>    0.629</td>\n",
       "</tr>\n",
       "<tr>\n",
       "  <th>ASC_20_Tailhook</th>    <td>   -0.3319</td> <td>    0.052</td> <td>   -6.349</td> <td> 0.000</td> <td>   -0.434</td> <td>   -0.229</td>\n",
       "</tr>\n",
       "<tr>\n",
       "  <th>FA</th>                 <td>    0.2798</td> <td>    0.007</td> <td>   42.317</td> <td> 0.000</td> <td>    0.267</td> <td>    0.293</td>\n",
       "</tr>\n",
       "</table>"
      ],
      "text/plain": [
       "<class 'statsmodels.iolib.summary.Summary'>\n",
       "\"\"\"\n",
       "                     Multinomial Logit Model Regression Results                    \n",
       "===================================================================================\n",
       "Dep. Variable:                         win   No. Observations:               16,845\n",
       "Model:             Multinomial Logit Model   Df Residuals:                   16,825\n",
       "Method:                                MLE   Df Model:                           20\n",
       "Date:                     Wed, 04 Jan 2023   Pseudo R-squ.:                   0.197\n",
       "Time:                             01:16:22   Pseudo R-bar-squ.:               0.196\n",
       "AIC:                            37,540.774   Log-Likelihood:            -18,750.387\n",
       "BIC:                            37,695.410   LL-Null:                   -23,352.129\n",
       "======================================================================================\n",
       "                         coef    std err          z      P>|z|      [0.025      0.975]\n",
       "--------------------------------------------------------------------------------------\n",
       "ASC_2_Sproggie        -1.1955      0.057    -21.044      0.000      -1.307      -1.084\n",
       "ASC_3_Orvinn          -2.1749      0.067    -32.570      0.000      -2.306      -2.044\n",
       "ASC_4_Lucky           -0.4858      0.053     -9.130      0.000      -0.590      -0.381\n",
       "ASC_5_Edmund          -0.5922      0.053    -11.110      0.000      -0.697      -0.488\n",
       "ASC_6_Peg Leg         -1.2232      0.062    -19.679      0.000      -1.345      -1.101\n",
       "ASC_7_Bonnie          -0.9844      0.055    -17.846      0.000      -1.092      -0.876\n",
       "ASC_8_Puffo           -1.6893      0.063    -26.957      0.000      -1.812      -1.567\n",
       "ASC_9_Stuff           -2.2721      0.082    -27.691      0.000      -2.433      -2.111\n",
       "ASC_10_Squire         -2.0243      0.079    -25.583      0.000      -2.179      -1.869\n",
       "ASC_11_Crossblades    -1.8984      0.067    -28.489      0.000      -2.029      -1.768\n",
       "ASC_12_Stripey        -1.1772      0.055    -21.348      0.000      -1.285      -1.069\n",
       "ASC_13_Ned            -0.6512      0.055    -11.808      0.000      -0.759      -0.543\n",
       "ASC_14_Fairfax        -1.3846      0.058    -23.989      0.000      -1.498      -1.271\n",
       "ASC_15_Gooblah         0.9588      0.051     18.983      0.000       0.860       1.058\n",
       "ASC_16_Franchisco     -0.4885      0.051     -9.593      0.000      -0.588      -0.389\n",
       "ASC_17_Federismo      -0.4654      0.051     -9.112      0.000      -0.565      -0.365\n",
       "ASC_18_Blackbeard     -1.3032      0.059    -22.103      0.000      -1.419      -1.188\n",
       "ASC_19_Buck            0.5275      0.052     10.212      0.000       0.426       0.629\n",
       "ASC_20_Tailhook       -0.3319      0.052     -6.349      0.000      -0.434      -0.229\n",
       "FA                     0.2798      0.007     42.317      0.000       0.267       0.293\n",
       "======================================================================================\n",
       "\"\"\""
      ]
     },
     "execution_count": 63,
     "metadata": {},
     "output_type": "execute_result"
    }
   ],
   "source": [
    "# train a reduced model without log opening implied winrate\n",
    "# i.e. we assume that the opening odds don't tell us any extra information\n",
    "simple_specification = OrderedDict()\n",
    "simple_names = OrderedDict()\n",
    "simple_specification[\"intercept\"] = pirates_except_the_first\n",
    "simple_names[\"intercept\"] = [f'ASC_{i}_{PIRATE_NAMES[i]}' for i in pirates_except_the_first]\n",
    "# we use the same FA coefficient and same opening implied winrate coefficient for all pirates\n",
    "simple_specification[\"fa\"] = [pirates_including_the_first]\n",
    "simple_names[\"fa\"] = ['FA']\n",
    "\n",
    "simple_mnl = pl.create_choice_model(data=long_format,\n",
    "alt_id_col='pirate',\n",
    "obs_id_col='match_id',\n",
    "choice_col='win',\n",
    "specification=simple_specification,\n",
    "model_type='MNL',\n",
    "names=simple_names)\n",
    "simple_mnl.fit_mle(np.zeros(20))\n",
    "simple_mnl.get_statsmodels_summary()"
   ]
  },
  {
   "cell_type": "code",
   "execution_count": 64,
   "metadata": {},
   "outputs": [
    {
     "name": "stdout",
     "output_type": "stream",
     "text": [
      "Log-likelihood at zero: -23,352.1285\n",
      "Initial Log-likelihood: -23,352.1285\n"
     ]
    },
    {
     "name": "stderr",
     "output_type": "stream",
     "text": [
      "/home/arsdragonfly/neofoodclub/envs/default/lib/python3.10/site-packages/scipy/optimize/_minimize.py:555: RuntimeWarning: Method BFGS does not use Hessian information (hess).\n",
      "  warn('Method %s does not use Hessian information (hess).' % method,\n"
     ]
    },
    {
     "name": "stdout",
     "output_type": "stream",
     "text": [
      "Estimation Time for Point Estimation: 0.34 seconds.\n",
      "Final log-likelihood: -18,235.2126\n"
     ]
    },
    {
     "data": {
      "text/html": [
       "<table class=\"simpletable\">\n",
       "<caption>Multinomial Logit Model Regression Results</caption>\n",
       "<tr>\n",
       "  <th>Dep. Variable:</th>           <td>win</td>           <th>  No. Observations:  </th>   <td>16,845</td>   \n",
       "</tr>\n",
       "<tr>\n",
       "  <th>Model:</th>         <td>Multinomial Logit Model</td> <th>  Df Residuals:      </th>   <td>16,824</td>   \n",
       "</tr>\n",
       "<tr>\n",
       "  <th>Method:</th>                  <td>MLE</td>           <th>  Df Model:          </th>     <td>21</td>     \n",
       "</tr>\n",
       "<tr>\n",
       "  <th>Date:</th>             <td>Wed, 04 Jan 2023</td>     <th>  Pseudo R-squ.:     </th>    <td>0.219</td>   \n",
       "</tr>\n",
       "<tr>\n",
       "  <th>Time:</th>                 <td>01:16:27</td>         <th>  Pseudo R-bar-squ.: </th>    <td>0.218</td>   \n",
       "</tr>\n",
       "<tr>\n",
       "  <th>AIC:</th>                 <td>36,512.425</td>        <th>  Log-Likelihood:    </th> <td>-18,235.213</td>\n",
       "</tr>\n",
       "<tr>\n",
       "  <th>BIC:</th>                 <td>36,674.793</td>        <th>  LL-Null:           </th> <td>-23,352.129</td>\n",
       "</tr>\n",
       "</table>\n",
       "<table class=\"simpletable\">\n",
       "<tr>\n",
       "           <td></td>             <th>coef</th>     <th>std err</th>      <th>z</th>      <th>P>|z|</th>  <th>[0.025</th>    <th>0.975]</th>  \n",
       "</tr>\n",
       "<tr>\n",
       "  <th>ASC_2_Sproggie</th>     <td>   -1.2326</td> <td>    0.058</td> <td>  -21.391</td> <td> 0.000</td> <td>   -1.346</td> <td>   -1.120</td>\n",
       "</tr>\n",
       "<tr>\n",
       "  <th>ASC_3_Orvinn</th>       <td>   -2.2261</td> <td>    0.068</td> <td>  -32.912</td> <td> 0.000</td> <td>   -2.359</td> <td>   -2.094</td>\n",
       "</tr>\n",
       "<tr>\n",
       "  <th>ASC_4_Lucky</th>        <td>   -0.4951</td> <td>    0.054</td> <td>   -9.166</td> <td> 0.000</td> <td>   -0.601</td> <td>   -0.389</td>\n",
       "</tr>\n",
       "<tr>\n",
       "  <th>ASC_5_Edmund</th>       <td>   -0.6035</td> <td>    0.054</td> <td>  -11.142</td> <td> 0.000</td> <td>   -0.710</td> <td>   -0.497</td>\n",
       "</tr>\n",
       "<tr>\n",
       "  <th>ASC_6_Peg Leg</th>      <td>   -1.2516</td> <td>    0.063</td> <td>  -19.879</td> <td> 0.000</td> <td>   -1.375</td> <td>   -1.128</td>\n",
       "</tr>\n",
       "<tr>\n",
       "  <th>ASC_7_Bonnie</th>       <td>   -1.0144</td> <td>    0.056</td> <td>  -18.140</td> <td> 0.000</td> <td>   -1.124</td> <td>   -0.905</td>\n",
       "</tr>\n",
       "<tr>\n",
       "  <th>ASC_8_Puffo</th>        <td>   -1.7435</td> <td>    0.063</td> <td>  -27.459</td> <td> 0.000</td> <td>   -1.868</td> <td>   -1.619</td>\n",
       "</tr>\n",
       "<tr>\n",
       "  <th>ASC_9_Stuff</th>        <td>   -2.3205</td> <td>    0.083</td> <td>  -28.039</td> <td> 0.000</td> <td>   -2.483</td> <td>   -2.158</td>\n",
       "</tr>\n",
       "<tr>\n",
       "  <th>ASC_10_Squire</th>      <td>   -2.0831</td> <td>    0.080</td> <td>  -26.068</td> <td> 0.000</td> <td>   -2.240</td> <td>   -1.926</td>\n",
       "</tr>\n",
       "<tr>\n",
       "  <th>ASC_11_Crossblades</th> <td>   -1.9504</td> <td>    0.068</td> <td>  -28.892</td> <td> 0.000</td> <td>   -2.083</td> <td>   -1.818</td>\n",
       "</tr>\n",
       "<tr>\n",
       "  <th>ASC_12_Stripey</th>     <td>   -1.2068</td> <td>    0.056</td> <td>  -21.546</td> <td> 0.000</td> <td>   -1.317</td> <td>   -1.097</td>\n",
       "</tr>\n",
       "<tr>\n",
       "  <th>ASC_13_Ned</th>         <td>   -0.6591</td> <td>    0.056</td> <td>  -11.775</td> <td> 0.000</td> <td>   -0.769</td> <td>   -0.549</td>\n",
       "</tr>\n",
       "<tr>\n",
       "  <th>ASC_14_Fairfax</th>     <td>   -1.4113</td> <td>    0.058</td> <td>  -24.126</td> <td> 0.000</td> <td>   -1.526</td> <td>   -1.297</td>\n",
       "</tr>\n",
       "<tr>\n",
       "  <th>ASC_15_Gooblah</th>     <td>    0.9961</td> <td>    0.051</td> <td>   19.411</td> <td> 0.000</td> <td>    0.895</td> <td>    1.097</td>\n",
       "</tr>\n",
       "<tr>\n",
       "  <th>ASC_16_Franchisco</th>  <td>   -0.4977</td> <td>    0.052</td> <td>   -9.613</td> <td> 0.000</td> <td>   -0.599</td> <td>   -0.396</td>\n",
       "</tr>\n",
       "<tr>\n",
       "  <th>ASC_17_Federismo</th>   <td>   -0.4702</td> <td>    0.052</td> <td>   -9.064</td> <td> 0.000</td> <td>   -0.572</td> <td>   -0.368</td>\n",
       "</tr>\n",
       "<tr>\n",
       "  <th>ASC_18_Blackbeard</th>  <td>   -1.3384</td> <td>    0.060</td> <td>  -22.384</td> <td> 0.000</td> <td>   -1.456</td> <td>   -1.221</td>\n",
       "</tr>\n",
       "<tr>\n",
       "  <th>ASC_19_Buck</th>        <td>    0.5466</td> <td>    0.053</td> <td>   10.406</td> <td> 0.000</td> <td>    0.444</td> <td>    0.650</td>\n",
       "</tr>\n",
       "<tr>\n",
       "  <th>ASC_20_Tailhook</th>    <td>   -0.3407</td> <td>    0.053</td> <td>   -6.415</td> <td> 0.000</td> <td>   -0.445</td> <td>   -0.237</td>\n",
       "</tr>\n",
       "<tr>\n",
       "  <th>FA</th>                 <td>    0.2864</td> <td>    0.007</td> <td>   42.667</td> <td> 0.000</td> <td>    0.273</td> <td>    0.300</td>\n",
       "</tr>\n",
       "<tr>\n",
       "  <th>position</th>           <td>    0.2504</td> <td>    0.008</td> <td>   31.589</td> <td> 0.000</td> <td>    0.235</td> <td>    0.266</td>\n",
       "</tr>\n",
       "</table>"
      ],
      "text/plain": [
       "<class 'statsmodels.iolib.summary.Summary'>\n",
       "\"\"\"\n",
       "                     Multinomial Logit Model Regression Results                    \n",
       "===================================================================================\n",
       "Dep. Variable:                         win   No. Observations:               16,845\n",
       "Model:             Multinomial Logit Model   Df Residuals:                   16,824\n",
       "Method:                                MLE   Df Model:                           21\n",
       "Date:                     Wed, 04 Jan 2023   Pseudo R-squ.:                   0.219\n",
       "Time:                             01:16:27   Pseudo R-bar-squ.:               0.218\n",
       "AIC:                            36,512.425   Log-Likelihood:            -18,235.213\n",
       "BIC:                            36,674.793   LL-Null:                   -23,352.129\n",
       "======================================================================================\n",
       "                         coef    std err          z      P>|z|      [0.025      0.975]\n",
       "--------------------------------------------------------------------------------------\n",
       "ASC_2_Sproggie        -1.2326      0.058    -21.391      0.000      -1.346      -1.120\n",
       "ASC_3_Orvinn          -2.2261      0.068    -32.912      0.000      -2.359      -2.094\n",
       "ASC_4_Lucky           -0.4951      0.054     -9.166      0.000      -0.601      -0.389\n",
       "ASC_5_Edmund          -0.6035      0.054    -11.142      0.000      -0.710      -0.497\n",
       "ASC_6_Peg Leg         -1.2516      0.063    -19.879      0.000      -1.375      -1.128\n",
       "ASC_7_Bonnie          -1.0144      0.056    -18.140      0.000      -1.124      -0.905\n",
       "ASC_8_Puffo           -1.7435      0.063    -27.459      0.000      -1.868      -1.619\n",
       "ASC_9_Stuff           -2.3205      0.083    -28.039      0.000      -2.483      -2.158\n",
       "ASC_10_Squire         -2.0831      0.080    -26.068      0.000      -2.240      -1.926\n",
       "ASC_11_Crossblades    -1.9504      0.068    -28.892      0.000      -2.083      -1.818\n",
       "ASC_12_Stripey        -1.2068      0.056    -21.546      0.000      -1.317      -1.097\n",
       "ASC_13_Ned            -0.6591      0.056    -11.775      0.000      -0.769      -0.549\n",
       "ASC_14_Fairfax        -1.4113      0.058    -24.126      0.000      -1.526      -1.297\n",
       "ASC_15_Gooblah         0.9961      0.051     19.411      0.000       0.895       1.097\n",
       "ASC_16_Franchisco     -0.4977      0.052     -9.613      0.000      -0.599      -0.396\n",
       "ASC_17_Federismo      -0.4702      0.052     -9.064      0.000      -0.572      -0.368\n",
       "ASC_18_Blackbeard     -1.3384      0.060    -22.384      0.000      -1.456      -1.221\n",
       "ASC_19_Buck            0.5466      0.053     10.406      0.000       0.444       0.650\n",
       "ASC_20_Tailhook       -0.3407      0.053     -6.415      0.000      -0.445      -0.237\n",
       "FA                     0.2864      0.007     42.667      0.000       0.273       0.300\n",
       "position               0.2504      0.008     31.589      0.000       0.235       0.266\n",
       "======================================================================================\n",
       "\"\"\""
      ]
     },
     "execution_count": 64,
     "metadata": {},
     "output_type": "execute_result"
    }
   ],
   "source": [
    "# train a reduced model without log opening implied winrate but includes position\n",
    "# i.e. we assume that the different positions are rigged, the opening odds don't tell us any extra information\n",
    "with_position_specification = OrderedDict()\n",
    "with_position_names = OrderedDict()\n",
    "with_position_specification[\"intercept\"] = pirates_except_the_first\n",
    "with_position_names[\"intercept\"] = [f'ASC_{i}_{PIRATE_NAMES[i]}' for i in pirates_except_the_first]\n",
    "# we use the same FA coefficient and same opening implied winrate coefficient for all pirates\n",
    "with_position_specification[\"fa\"] = [pirates_including_the_first]\n",
    "with_position_names[\"fa\"] = ['FA']\n",
    "with_position_specification[\"position\"] = [pirates_including_the_first]\n",
    "with_position_names[\"position\"] = ['position']\n",
    "\n",
    "with_position_mnl = pl.create_choice_model(data=long_format,\n",
    "alt_id_col='pirate',\n",
    "obs_id_col='match_id',\n",
    "choice_col='win',\n",
    "specification=with_position_specification,\n",
    "model_type='MNL',\n",
    "names=with_position_names)\n",
    "with_position_mnl.fit_mle(np.zeros(21))\n",
    "with_position_mnl.get_statsmodels_summary()"
   ]
  },
  {
   "cell_type": "code",
   "execution_count": 51,
   "metadata": {},
   "outputs": [],
   "source": [
    "POSITIVE_FAS = {\n",
    "    1: {1: 2, 2: 0, 3: 0, 4: 1, 5: 0, 6: 1, 7: 1, 8: 1, 9: 0, 10: 1, 11: 0, 12: 2, 13: 0, 14: 0, 15: 0, 16: 0, 17: 0, 18: 0, 19: 0, 20: 0, 21: 0, 22: 0, 23: 0, 24: 0, 25: 1, 26: 0, 27: 0, 28: 0, 29: 0, 30: 0, 31: 0, 32: 0, 33: 2, 34: 0, 35: 0, 36: 0, 37: 0, 38: 0, 39: 0, 40: 0},\n",
    "    2: {1: 1, 2: 0, 3: 0, 4: 1, 5: 1, 6: 1, 7: 1, 8: 1, 9: 0, 10: 1, 11: 0, 12: 1, 13: 1, 14: 0, 15: 0, 16: 0, 17: 0, 18: 0, 19: 0, 20: 0, 21: 0, 22: 0, 23: 0, 24: 0, 25: 0, 26: 0, 27: 0, 28: 0, 29: 0, 30: 0, 31: 0, 32: 0, 33: 1, 34: 0, 35: 1, 36: 1, 37: 0, 38: 0, 39: 0, 40: 0},\n",
    "    3: {1: 0, 2: 0, 3: 0, 4: 0, 5: 0, 6: 0, 7: 0, 8: 0, 9: 0, 10: 0, 11: 0, 12: 0, 13: 0, 14: 1, 15: 1, 16: 1, 17: 1, 18: 1, 19: 1, 20: 1, 21: 1, 22: 1, 23: 0, 24: 0, 25: 0, 26: 0, 27: 0, 28: 1, 29: 0, 30: 0, 31: 0, 32: 1, 33: 0, 34: 1, 35: 0, 36: 0, 37: 1, 38: 0, 39: 0, 40: 1},\n",
    "    4: {1: 0, 2: 0, 3: 1, 4: 0, 5: 0, 6: 0, 7: 0, 8: 0, 9: 0, 10: 0, 11: 1, 12: 0, 13: 0, 14: 0, 15: 0, 16: 0, 17: 1, 18: 0, 19: 0, 20: 0, 21: 0, 22: 0, 23: 0, 24: 0, 25: 1, 26: 0, 27: 0, 28: 1, 29: 0, 30: 0, 31: 0, 32: 0, 33: 0, 34: 0, 35: 0, 36: 0, 37: 0, 38: 0, 39: 1, 40: 1},\n",
    "    5: {1: 0, 2: 0, 3: 0, 4: 0, 5: 0, 6: 0, 7: 0, 8: 0, 9: 0, 10: 0, 11: 0, 12: 0, 13: 0, 14: 0, 15: 0, 16: 0, 17: 0, 18: 1, 19: 0, 20: 0, 21: 0, 22: 0, 23: 1, 24: 1, 25: 0, 26: 0, 27: 0, 28: 0, 29: 1, 30: 0, 31: 1, 32: 0, 33: 0, 34: 0, 35: 0, 36: 0, 37: 0, 38: 1, 39: 1, 40: 0},\n",
    "    6: {1: 0, 2: 0, 3: 0, 4: 0, 5: 0, 6: 0, 7: 0, 8: 0, 9: 0, 10: 1, 11: 0, 12: 0, 13: 0, 14: 0, 15: 0, 16: 0, 17: 0, 18: 0, 19: 0, 20: 0, 21: 0, 22: 0, 23: 0, 24: 0, 25: 0, 26: 1, 27: 1, 28: 0, 29: 0, 30: 0, 31: 0, 32: 0, 33: 0, 34: 1, 35: 0, 36: 0, 37: 0, 38: 0, 39: 0, 40: 0},\n",
    "    7: {1: 0, 2: 0, 3: 0, 4: 0, 5: 0, 6: 0, 7: 0, 8: 0, 9: 0, 10: 0, 11: 0, 12: 0, 13: 0, 14: 1, 15: 1, 16: 1, 17: 0, 18: 0, 19: 0, 20: 0, 21: 0, 22: 0, 23: 1, 24: 1, 25: 0, 26: 0, 27: 0, 28: 1, 29: 0, 30: 0, 31: 1, 32: 1, 33: 0, 34: 0, 35: 0, 36: 0, 37: 0, 38: 1, 39: 0, 40: 0},\n",
    "    8: {1: 0, 2: 0, 3: 0, 4: 0, 5: 0, 6: 0, 7: 0, 8: 0, 9: 0, 10: 0, 11: 0, 12: 0, 13: 0, 14: 1, 15: 1, 16: 1, 17: 0, 18: 0, 19: 0, 20: 1, 21: 1, 22: 1, 23: 1, 24: 1, 25: 0, 26: 0, 27: 0, 28: 1, 29: 0, 30: 0, 31: 1, 32: 1, 33: 0, 34: 0, 35: 0, 36: 0, 37: 1, 38: 1, 39: 0, 40: 0},\n",
    "    9: {1: 0, 2: 0, 3: 0, 4: 0, 5: 0, 6: 0, 7: 0, 8: 0, 9: 0, 10: 0, 11: 0, 12: 0, 13: 0, 14: 0, 15: 0, 16: 0, 17: 1, 18: 1, 19: 1, 20: 0, 21: 0, 22: 0, 23: 0, 24: 0, 25: 0, 26: 0, 27: 0, 28: 0, 29: 0, 30: 0, 31: 0, 32: 0, 33: 0, 34: 1, 35: 0, 36: 0, 37: 0, 38: 0, 39: 0, 40: 1},\n",
    "    10: {1: 0, 2: 0, 3: 0, 4: 0, 5: 0, 6: 0, 7: 0, 8: 1, 9: 1, 10: 0, 11: 0, 12: 0, 13: 0, 14: 0, 15: 0, 16: 0, 17: 0, 18: 0, 19: 0, 20: 0, 21: 0, 22: 0, 23: 0, 24: 0, 25: 0, 26: 0, 27: 0, 28: 0, 29: 1, 30: 0, 31: 0, 32: 1, 33: 0, 34: 0, 35: 0, 36: 0, 37: 0, 38: 0, 39: 0, 40: 0},\n",
    "    11: {1: 0, 2: 0, 3: 0, 4: 0, 5: 0, 6: 0, 7: 0, 8: 0, 9: 0, 10: 0, 11: 0, 12: 0, 13: 0, 14: 0, 15: 0, 16: 0, 17: 1, 18: 1, 19: 1, 20: 1, 21: 1, 22: 1, 23: 0, 24: 0, 25: 0, 26: 0, 27: 0, 28: 0, 29: 0, 30: 0, 31: 0, 32: 0, 33: 0, 34: 1, 35: 0, 36: 0, 37: 1, 38: 0, 39: 0, 40: 1},\n",
    "    12: {1: 1, 2: 0, 3: 0, 4: 1, 5: 0, 6: 1, 7: 1, 8: 1, 9: 0, 10: 1, 11: 0, 12: 1, 13: 0, 14: 0, 15: 0, 16: 0, 17: 0, 18: 0, 19: 0, 20: 1, 21: 1, 22: 1, 23: 0, 24: 0, 25: 0, 26: 0, 27: 0, 28: 0, 29: 0, 30: 0, 31: 0, 32: 0, 33: 1, 34: 0, 35: 0, 36: 0, 37: 1, 38: 0, 39: 0, 40: 0},\n",
    "    13: {1: 1, 2: 0, 3: 0, 4: 1, 5: 0, 6: 1, 7: 1, 8: 1, 9: 0, 10: 1, 11: 0, 12: 1, 13: 0, 14: 0, 15: 0, 16: 0, 17: 0, 18: 0, 19: 0, 20: 0, 21: 0, 22: 0, 23: 0, 24: 0, 25: 0, 26: 0, 27: 0, 28: 0, 29: 0, 30: 0, 31: 0, 32: 0, 33: 1, 34: 0, 35: 0, 36: 0, 37: 0, 38: 0, 39: 0, 40: 0},\n",
    "    14: {1: 0, 2: 1, 3: 0, 4: 0, 5: 0, 6: 0, 7: 0, 8: 0, 9: 0, 10: 0, 11: 1, 12: 0, 13: 0, 14: 0, 15: 0, 16: 0, 17: 0, 18: 1, 19: 1, 20: 0, 21: 0, 22: 0, 23: 1, 24: 1, 25: 0, 26: 1, 27: 1, 28: 0, 29: 1, 30: 1, 31: 0, 32: 0, 33: 0, 34: 1, 35: 0, 36: 0, 37: 0, 38: 0, 39: 0, 40: 0},\n",
    "    15: {1: 1, 2: 0, 3: 0, 4: 1, 5: 0, 6: 1, 7: 1, 8: 1, 9: 0, 10: 1, 11: 0, 12: 1, 13: 0, 14: 0, 15: 0, 16: 0, 17: 0, 18: 0, 19: 0, 20: 0, 21: 0, 22: 0, 23: 0, 24: 0, 25: 0, 26: 0, 27: 0, 28: 0, 29: 0, 30: 0, 31: 0, 32: 0, 33: 1, 34: 0, 35: 0, 36: 0, 37: 0, 38: 0, 39: 0, 40: 0},\n",
    "    16: {1: 1, 2: 0, 3: 0, 4: 1, 5: 0, 6: 1, 7: 1, 8: 1, 9: 0, 10: 2, 11: 0, 12: 1, 13: 0, 14: 0, 15: 0, 16: 0, 17: 0, 18: 0, 19: 0, 20: 0, 21: 0, 22: 0, 23: 0, 24: 0, 25: 0, 26: 1, 27: 1, 28: 0, 29: 0, 30: 0, 31: 0, 32: 0, 33: 1, 34: 1, 35: 0, 36: 0, 37: 0, 38: 0, 39: 0, 40: 0},\n",
    "    17: {1: 0, 2: 0, 3: 1, 4: 0, 5: 0, 6: 0, 7: 0, 8: 0, 9: 0, 10: 0, 11: 1, 12: 0, 13: 0, 14: 0, 15: 0, 16: 0, 17: 2, 18: 1, 19: 1, 20: 0, 21: 0, 22: 0, 23: 0, 24: 0, 25: 1, 26: 0, 27: 0, 28: 1, 29: 0, 30: 0, 31: 0, 32: 0, 33: 0, 34: 1, 35: 0, 36: 0, 37: 0, 38: 0, 39: 1, 40: 2},\n",
    "    18: {1: 0, 2: 1, 3: 0, 4: 0, 5: 0, 6: 0, 7: 0, 8: 0, 9: 0, 10: 0, 11: 1, 12: 0, 13: 0, 14: 0, 15: 0, 16: 0, 17: 0, 18: 1, 19: 1, 20: 0, 21: 0, 22: 0, 23: 1, 24: 1, 25: 0, 26: 1, 27: 1, 28: 0, 29: 1, 30: 1, 31: 0, 32: 0, 33: 0, 34: 1, 35: 0, 36: 0, 37: 0, 38: 0, 39: 0, 40: 0},\n",
    "    19: {1: 0, 2: 0, 3: 0, 4: 0, 5: 0, 6: 0, 7: 0, 8: 0, 9: 0, 10: 0, 11: 0, 12: 0, 13: 0, 14: 1, 15: 1, 16: 1, 17: 0, 18: 0, 19: 0, 20: 0, 21: 0, 22: 0, 23: 0, 24: 0, 25: 0, 26: 0, 27: 0, 28: 1, 29: 0, 30: 0, 31: 0, 32: 1, 33: 0, 34: 0, 35: 0, 36: 0, 37: 0, 38: 0, 39: 0, 40: 0},\n",
    "    20: {1: 0, 2: 1, 3: 0, 4: 0, 5: 0, 6: 0, 7: 0, 8: 0, 9: 0, 10: 0, 11: 0, 12: 0, 13: 0, 14: 0, 15: 0, 16: 0, 17: 0, 18: 1, 19: 0, 20: 0, 21: 0, 22: 0, 23: 0, 24: 0, 25: 0, 26: 1, 27: 1, 28: 0, 29: 0, 30: 1, 31: 0, 32: 0, 33: 0, 34: 1, 35: 0, 36: 0, 37: 0, 38: 0, 39: 0, 40: 0}\n",
    "}\n",
    "NEGATIVE_FAS = {\n",
    "    1: {1: 0, 2: 0, 3: 0, 4: 0, 5: 0, 6: 0, 7: 0, 8: 0, 9: 0, 10: 0, 11: 0, 12: 0, 13: 0, 14: 1, 15: 1, 16: 1, 17: 0, 18: 0, 19: 0, 20: 0, 21: 0, 22: 0, 23: 0, 24: 0, 25: 0, 26: 0, 27: 0, 28: 1, 29: 0, 30: 0, 31: 0, 32: 1, 33: 0, 34: 0, 35: 0, 36: 0, 37: 0, 38: 0, 39: 0, 40: 0},\n",
    "    2: {1: 0, 2: 0, 3: 1, 4: 0, 5: 0, 6: 0, 7: 0, 8: 0, 9: 0, 10: 0, 11: 1, 12: 0, 13: 0, 14: 0, 15: 0, 16: 0, 17: 1, 18: 0, 19: 0, 20: 0, 21: 0, 22: 0, 23: 0, 24: 0, 25: 1, 26: 0, 27: 0, 28: 1, 29: 0, 30: 0, 31: 0, 32: 0, 33: 0, 34: 0, 35: 0, 36: 0, 37: 0, 38: 0, 39: 1, 40: 1},\n",
    "    3: {1: 0, 2: 0, 3: 0, 4: 0, 5: 0, 6: 0, 7: 0, 8: 0, 9: 0, 10: 0, 11: 1, 12: 0, 13: 0, 14: 0, 15: 0, 16: 0, 17: 0, 18: 0, 19: 1, 20: 0, 21: 0, 22: 0, 23: 1, 24: 1, 25: 0, 26: 0, 27: 0, 28: 0, 29: 1, 30: 0, 31: 0, 32: 0, 33: 0, 34: 0, 35: 0, 36: 0, 37: 0, 38: 0, 39: 0, 40: 0},\n",
    "    4: {1: 0, 2: 0, 3: 0, 4: 0, 5: 0, 6: 0, 7: 0, 8: 0, 9: 0, 10: 0, 11: 0, 12: 0, 13: 0, 14: 0, 15: 0, 16: 0, 17: 1, 18: 1, 19: 1, 20: 0, 21: 0, 22: 0, 23: 0, 24: 0, 25: 0, 26: 0, 27: 0, 28: 0, 29: 0, 30: 0, 31: 0, 32: 0, 33: 0, 34: 1, 35: 0, 36: 0, 37: 0, 38: 0, 39: 0, 40: 1},\n",
    "    5: {1: 0, 2: 0, 3: 0, 4: 0, 5: 0, 6: 0, 7: 0, 8: 1, 9: 1, 10: 0, 11: 0, 12: 0, 13: 0, 14: 0, 15: 0, 16: 0, 17: 0, 18: 0, 19: 0, 20: 0, 21: 0, 22: 0, 23: 0, 24: 0, 25: 0, 26: 0, 27: 0, 28: 0, 29: 1, 30: 0, 31: 0, 32: 1, 33: 0, 34: 0, 35: 0, 36: 0, 37: 0, 38: 0, 39: 0, 40: 0},\n",
    "    6: {1: 0, 2: 0, 3: 0, 4: 0, 5: 0, 6: 0, 7: 0, 8: 0, 9: 0, 10: 0, 11: 0, 12: 0, 13: 0, 14: 0, 15: 0, 16: 0, 17: 0, 18: 0, 19: 0, 20: 0, 21: 0, 22: 0, 23: 1, 24: 1, 25: 0, 26: 0, 27: 0, 28: 0, 29: 0, 30: 0, 31: 1, 32: 0, 33: 0, 34: 0, 35: 0, 36: 0, 37: 0, 38: 1, 39: 0, 40: 0},\n",
    "    7: {1: 0, 2: 0, 3: 0, 4: 0, 5: 0, 6: 0, 7: 0, 8: 0, 9: 0, 10: 1, 11: 0, 12: 0, 13: 0, 14: 0, 15: 0, 16: 0, 17: 0, 18: 0, 19: 0, 20: 0, 21: 0, 22: 0, 23: 0, 24: 0, 25: 0, 26: 1, 27: 1, 28: 0, 29: 0, 30: 0, 31: 0, 32: 0, 33: 0, 34: 1, 35: 0, 36: 0, 37: 0, 38: 0, 39: 0, 40: 0},\n",
    "    8: {1: 1, 2: 0, 3: 0, 4: 1, 5: 0, 6: 1, 7: 1, 8: 1, 9: 0, 10: 1, 11: 0, 12: 1, 13: 0, 14: 0, 15: 0, 16: 0, 17: 0, 18: 0, 19: 0, 20: 0, 21: 0, 22: 0, 23: 0, 24: 0, 25: 0, 26: 0, 27: 0, 28: 0, 29: 0, 30: 0, 31: 0, 32: 0, 33: 1, 34: 0, 35: 0, 36: 0, 37: 0, 38: 0, 39: 0, 40: 0},\n",
    "    9: {1: 0, 2: 0, 3: 0, 4: 0, 5: 1, 6: 0, 7: 0, 8: 0, 9: 0, 10: 0, 11: 0, 12: 0, 13: 1, 14: 0, 15: 0, 16: 0, 17: 0, 18: 0, 19: 0, 20: 0, 21: 0, 22: 0, 23: 0, 24: 0, 25: 0, 26: 0, 27: 0, 28: 0, 29: 0, 30: 0, 31: 0, 32: 0, 33: 0, 34: 0, 35: 1, 36: 1, 37: 0, 38: 0, 39: 0, 40: 0},\n",
    "    10: {1: 0, 2: 0, 3: 0, 4: 0, 5: 0, 6: 0, 7: 0, 8: 0, 9: 0, 10: 0, 11: 1, 12: 0, 13: 0, 14: 0, 15: 0, 16: 0, 17: 0, 18: 0, 19: 1, 20: 0, 21: 0, 22: 0, 23: 1, 24: 1, 25: 0, 26: 0, 27: 0, 28: 0, 29: 1, 30: 0, 31: 0, 32: 0, 33: 0, 34: 0, 35: 0, 36: 0, 37: 0, 38: 0, 39: 0, 40: 0},\n",
    "    11: {1: 1, 2: 0, 3: 0, 4: 0, 5: 0, 6: 0, 7: 0, 8: 0, 9: 0, 10: 0, 11: 0, 12: 1, 13: 0, 14: 0, 15: 0, 16: 0, 17: 0, 18: 0, 19: 0, 20: 0, 21: 0, 22: 0, 23: 0, 24: 0, 25: 1, 26: 0, 27: 0, 28: 0, 29: 0, 30: 0, 31: 0, 32: 0, 33: 1, 34: 0, 35: 0, 36: 0, 37: 0, 38: 0, 39: 0, 40: 0},\n",
    "    12: {1: 0, 2: 0, 3: 0, 4: 0, 5: 0, 6: 0, 7: 0, 8: 1, 9: 1, 10: 0, 11: 0, 12: 0, 13: 0, 14: 0, 15: 0, 16: 0, 17: 0, 18: 0, 19: 0, 20: 0, 21: 0, 22: 0, 23: 0, 24: 0, 25: 0, 26: 0, 27: 0, 28: 0, 29: 1, 30: 0, 31: 0, 32: 1, 33: 0, 34: 0, 35: 0, 36: 0, 37: 0, 38: 0, 39: 0, 40: 0},\n",
    "    13: {1: 0, 2: 0, 3: 0, 4: 0, 5: 0, 6: 0, 7: 0, 8: 0, 9: 0, 10: 0, 11: 0, 12: 0, 13: 0, 14: 0, 15: 0, 16: 0, 17: 0, 18: 1, 19: 0, 20: 0, 21: 0, 22: 0, 23: 1, 24: 1, 25: 0, 26: 0, 27: 0, 28: 0, 29: 1, 30: 0, 31: 1, 32: 0, 33: 0, 34: 0, 35: 0, 36: 0, 37: 0, 38: 1, 39: 1, 40: 0},\n",
    "    14: {1: 1, 2: 0, 3: 0, 4: 0, 5: 0, 6: 0, 7: 0, 8: 0, 9: 0, 10: 0, 11: 0, 12: 1, 13: 0, 14: 0, 15: 0, 16: 0, 17: 0, 18: 0, 19: 0, 20: 0, 21: 0, 22: 0, 23: 0, 24: 0, 25: 1, 26: 0, 27: 0, 28: 0, 29: 0, 30: 0, 31: 0, 32: 0, 33: 1, 34: 0, 35: 0, 36: 0, 37: 0, 38: 0, 39: 0, 40: 0},\n",
    "    15: {1: 0, 2: 0, 3: 0, 4: 0, 5: 0, 6: 0, 7: 0, 8: 0, 9: 0, 10: 0, 11: 0, 12: 0, 13: 0, 14: 0, 15: 0, 16: 0, 17: 0, 18: 0, 19: 0, 20: 1, 21: 1, 22: 1, 23: 0, 24: 0, 25: 0, 26: 0, 27: 0, 28: 0, 29: 0, 30: 0, 31: 0, 32: 0, 33: 0, 34: 0, 35: 0, 36: 0, 37: 1, 38: 0, 39: 0, 40: 0},\n",
    "    16: {1: 0, 2: 0, 3: 0, 4: 0, 5: 0, 6: 0, 7: 0, 8: 0, 9: 0, 10: 0, 11: 0, 12: 0, 13: 0, 14: 1, 15: 1, 16: 1, 17: 0, 18: 0, 19: 0, 20: 0, 21: 0, 22: 0, 23: 0, 24: 0, 25: 0, 26: 0, 27: 0, 28: 1, 29: 0, 30: 0, 31: 0, 32: 1, 33: 0, 34: 0, 35: 0, 36: 0, 37: 0, 38: 0, 39: 0, 40: 0},\n",
    "    17: {1: 0, 2: 0, 3: 0, 4: 0, 5: 0, 6: 0, 7: 0, 8: 0, 9: 0, 10: 0, 11: 0, 12: 0, 13: 0, 14: 0, 15: 0, 16: 0, 17: 0, 18: 0, 19: 0, 20: 0, 21: 0, 22: 0, 23: 1, 24: 1, 25: 0, 26: 0, 27: 0, 28: 0, 29: 0, 30: 0, 31: 1, 32: 0, 33: 0, 34: 0, 35: 0, 36: 0, 37: 0, 38: 1, 39: 0, 40: 0},\n",
    "    18: {1: 0, 2: 0, 3: 0, 4: 0, 5: 0, 6: 0, 7: 0, 8: 0, 9: 0, 10: 0, 11: 0, 12: 0, 13: 0, 14: 0, 15: 0, 16: 0, 17: 0, 18: 1, 19: 0, 20: 0, 21: 0, 22: 0, 23: 1, 24: 1, 25: 0, 26: 0, 27: 0, 28: 0, 29: 1, 30: 0, 31: 1, 32: 0, 33: 0, 34: 0, 35: 0, 36: 0, 37: 0, 38: 1, 39: 1, 40: 0},\n",
    "    19: {1: 0, 2: 1, 3: 0, 4: 0, 5: 0, 6: 0, 7: 0, 8: 0, 9: 0, 10: 0, 11: 0, 12: 0, 13: 0, 14: 0, 15: 0, 16: 0, 17: 0, 18: 1, 19: 0, 20: 0, 21: 0, 22: 0, 23: 0, 24: 0, 25: 0, 26: 1, 27: 1, 28: 0, 29: 0, 30: 1, 31: 0, 32: 0, 33: 0, 34: 1, 35: 0, 36: 0, 37: 0, 38: 0, 39: 0, 40: 0},\n",
    "    20: {1: 0, 2: 0, 3: 0, 4: 0, 5: 1, 6: 0, 7: 0, 8: 0, 9: 0, 10: 0, 11: 0, 12: 0, 13: 1, 14: 0, 15: 0, 16: 0, 17: 0, 18: 0, 19: 0, 20: 0, 21: 0, 22: 0, 23: 0, 24: 0, 25: 0, 26: 0, 27: 0, 28: 0, 29: 0, 30: 0, 31: 0, 32: 0, 33: 0, 34: 0, 35: 1, 36: 1, 37: 0, 38: 0, 39: 0, 40: 0}\n",
    "}\n",
    "\n",
    "def get_ongoing_df_from_file(path):\n",
    "    columns = ['round', 'arena', 'pirate1', 'pirate2', 'pirate3', 'pirate4', 'fa1', 'fa2', 'fa3', 'fa4', 'opening_odds1', 'opening_odds2', 'opening_odds3', 'opening_odds4', 'closing_odds1', 'closing_odds2', 'closing_odds3', 'closing_odds4']\n",
    "    df = pd.DataFrame([], columns=columns)\n",
    "    with open(path) as json_file:\n",
    "        data = json.load(json_file)\n",
    "        round = data[\"round\"]\n",
    "        for arena in range(5):\n",
    "            pirates = data[\"pirates\"][arena]\n",
    "            # older rounds don't have fa data\n",
    "            fas = [0 for pirate in pirates]\n",
    "            if \"foods\" in data:\n",
    "                foods = data[\"foods\"][arena]\n",
    "                positive_fas = [sum(POSITIVE_FAS[pirate][food] for food in foods) for pirate in pirates]\n",
    "                negative_fas = [-sum(NEGATIVE_FAS[pirate][food] for food in foods) for pirate in pirates]\n",
    "                fas = [sum(x) for x in zip(positive_fas, negative_fas)]\n",
    "            pirate1, pirate2, pirate3, pirate4 = pirates\n",
    "            fa1, fa2, fa3, fa4 = fas\n",
    "            _, opening_odds1, opening_odds2, opening_odds3, opening_odds4 = data[\"openingOdds\"][arena]\n",
    "            _, closing_odds1, closing_odds2, closing_odds3, closing_odds4 = data[\"currentOdds\"][arena]\n",
    "            df_temp = pd.DataFrame([[round, arena, pirate1, pirate2, pirate3, pirate4, fa1, fa2, fa3, fa4, opening_odds1, opening_odds2, opening_odds3, opening_odds4, closing_odds1, closing_odds2, closing_odds3, closing_odds4]], columns=columns)\n",
    "            df = pd.concat([df, df_temp], ignore_index=True)\n",
    "    return df"
   ]
  },
  {
   "cell_type": "code",
   "execution_count": 69,
   "metadata": {},
   "outputs": [
    {
     "data": {
      "text/html": [
       "<div>\n",
       "<style scoped>\n",
       "    .dataframe tbody tr th:only-of-type {\n",
       "        vertical-align: middle;\n",
       "    }\n",
       "\n",
       "    .dataframe tbody tr th {\n",
       "        vertical-align: top;\n",
       "    }\n",
       "\n",
       "    .dataframe thead th {\n",
       "        text-align: right;\n",
       "    }\n",
       "</style>\n",
       "<table border=\"1\" class=\"dataframe\">\n",
       "  <thead>\n",
       "    <tr style=\"text-align: right;\">\n",
       "      <th></th>\n",
       "      <th>round</th>\n",
       "      <th>arena</th>\n",
       "      <th>pirate</th>\n",
       "      <th>fa</th>\n",
       "      <th>position</th>\n",
       "      <th>opening_odds</th>\n",
       "      <th>closing_odds</th>\n",
       "      <th>match_id</th>\n",
       "      <th>intercept</th>\n",
       "    </tr>\n",
       "  </thead>\n",
       "  <tbody>\n",
       "    <tr>\n",
       "      <th>0</th>\n",
       "      <td>8642</td>\n",
       "      <td>0</td>\n",
       "      <td>18</td>\n",
       "      <td>0</td>\n",
       "      <td>1</td>\n",
       "      <td>7</td>\n",
       "      <td>6</td>\n",
       "      <td>43210</td>\n",
       "      <td>1.0</td>\n",
       "    </tr>\n",
       "    <tr>\n",
       "      <th>1</th>\n",
       "      <td>8642</td>\n",
       "      <td>0</td>\n",
       "      <td>9</td>\n",
       "      <td>0</td>\n",
       "      <td>2</td>\n",
       "      <td>13</td>\n",
       "      <td>13</td>\n",
       "      <td>43210</td>\n",
       "      <td>1.0</td>\n",
       "    </tr>\n",
       "    <tr>\n",
       "      <th>2</th>\n",
       "      <td>8642</td>\n",
       "      <td>0</td>\n",
       "      <td>20</td>\n",
       "      <td>0</td>\n",
       "      <td>3</td>\n",
       "      <td>2</td>\n",
       "      <td>2</td>\n",
       "      <td>43210</td>\n",
       "      <td>1.0</td>\n",
       "    </tr>\n",
       "    <tr>\n",
       "      <th>3</th>\n",
       "      <td>8642</td>\n",
       "      <td>0</td>\n",
       "      <td>7</td>\n",
       "      <td>0</td>\n",
       "      <td>4</td>\n",
       "      <td>2</td>\n",
       "      <td>2</td>\n",
       "      <td>43210</td>\n",
       "      <td>1.0</td>\n",
       "    </tr>\n",
       "    <tr>\n",
       "      <th>4</th>\n",
       "      <td>8642</td>\n",
       "      <td>1</td>\n",
       "      <td>1</td>\n",
       "      <td>6</td>\n",
       "      <td>1</td>\n",
       "      <td>4</td>\n",
       "      <td>6</td>\n",
       "      <td>43211</td>\n",
       "      <td>1.0</td>\n",
       "    </tr>\n",
       "    <tr>\n",
       "      <th>5</th>\n",
       "      <td>8642</td>\n",
       "      <td>1</td>\n",
       "      <td>15</td>\n",
       "      <td>5</td>\n",
       "      <td>2</td>\n",
       "      <td>2</td>\n",
       "      <td>2</td>\n",
       "      <td>43211</td>\n",
       "      <td>1.0</td>\n",
       "    </tr>\n",
       "    <tr>\n",
       "      <th>6</th>\n",
       "      <td>8642</td>\n",
       "      <td>1</td>\n",
       "      <td>14</td>\n",
       "      <td>1</td>\n",
       "      <td>3</td>\n",
       "      <td>13</td>\n",
       "      <td>13</td>\n",
       "      <td>43211</td>\n",
       "      <td>1.0</td>\n",
       "    </tr>\n",
       "    <tr>\n",
       "      <th>7</th>\n",
       "      <td>8642</td>\n",
       "      <td>1</td>\n",
       "      <td>19</td>\n",
       "      <td>0</td>\n",
       "      <td>4</td>\n",
       "      <td>10</td>\n",
       "      <td>13</td>\n",
       "      <td>43211</td>\n",
       "      <td>1.0</td>\n",
       "    </tr>\n",
       "    <tr>\n",
       "      <th>8</th>\n",
       "      <td>8642</td>\n",
       "      <td>2</td>\n",
       "      <td>6</td>\n",
       "      <td>2</td>\n",
       "      <td>1</td>\n",
       "      <td>5</td>\n",
       "      <td>5</td>\n",
       "      <td>43212</td>\n",
       "      <td>1.0</td>\n",
       "    </tr>\n",
       "    <tr>\n",
       "      <th>9</th>\n",
       "      <td>8642</td>\n",
       "      <td>2</td>\n",
       "      <td>4</td>\n",
       "      <td>1</td>\n",
       "      <td>2</td>\n",
       "      <td>2</td>\n",
       "      <td>2</td>\n",
       "      <td>43212</td>\n",
       "      <td>1.0</td>\n",
       "    </tr>\n",
       "    <tr>\n",
       "      <th>10</th>\n",
       "      <td>8642</td>\n",
       "      <td>2</td>\n",
       "      <td>2</td>\n",
       "      <td>2</td>\n",
       "      <td>3</td>\n",
       "      <td>4</td>\n",
       "      <td>6</td>\n",
       "      <td>43212</td>\n",
       "      <td>1.0</td>\n",
       "    </tr>\n",
       "    <tr>\n",
       "      <th>11</th>\n",
       "      <td>8642</td>\n",
       "      <td>2</td>\n",
       "      <td>3</td>\n",
       "      <td>3</td>\n",
       "      <td>4</td>\n",
       "      <td>4</td>\n",
       "      <td>6</td>\n",
       "      <td>43212</td>\n",
       "      <td>1.0</td>\n",
       "    </tr>\n",
       "    <tr>\n",
       "      <th>12</th>\n",
       "      <td>8642</td>\n",
       "      <td>3</td>\n",
       "      <td>10</td>\n",
       "      <td>-1</td>\n",
       "      <td>1</td>\n",
       "      <td>13</td>\n",
       "      <td>13</td>\n",
       "      <td>43213</td>\n",
       "      <td>1.0</td>\n",
       "    </tr>\n",
       "    <tr>\n",
       "      <th>13</th>\n",
       "      <td>8642</td>\n",
       "      <td>3</td>\n",
       "      <td>17</td>\n",
       "      <td>-1</td>\n",
       "      <td>2</td>\n",
       "      <td>3</td>\n",
       "      <td>3</td>\n",
       "      <td>43213</td>\n",
       "      <td>1.0</td>\n",
       "    </tr>\n",
       "    <tr>\n",
       "      <th>14</th>\n",
       "      <td>8642</td>\n",
       "      <td>3</td>\n",
       "      <td>12</td>\n",
       "      <td>2</td>\n",
       "      <td>3</td>\n",
       "      <td>4</td>\n",
       "      <td>4</td>\n",
       "      <td>43213</td>\n",
       "      <td>1.0</td>\n",
       "    </tr>\n",
       "    <tr>\n",
       "      <th>15</th>\n",
       "      <td>8642</td>\n",
       "      <td>3</td>\n",
       "      <td>8</td>\n",
       "      <td>5</td>\n",
       "      <td>4</td>\n",
       "      <td>2</td>\n",
       "      <td>2</td>\n",
       "      <td>43213</td>\n",
       "      <td>1.0</td>\n",
       "    </tr>\n",
       "    <tr>\n",
       "      <th>16</th>\n",
       "      <td>8642</td>\n",
       "      <td>4</td>\n",
       "      <td>13</td>\n",
       "      <td>1</td>\n",
       "      <td>1</td>\n",
       "      <td>5</td>\n",
       "      <td>6</td>\n",
       "      <td>43214</td>\n",
       "      <td>1.0</td>\n",
       "    </tr>\n",
       "    <tr>\n",
       "      <th>17</th>\n",
       "      <td>8642</td>\n",
       "      <td>4</td>\n",
       "      <td>5</td>\n",
       "      <td>0</td>\n",
       "      <td>2</td>\n",
       "      <td>4</td>\n",
       "      <td>4</td>\n",
       "      <td>43214</td>\n",
       "      <td>1.0</td>\n",
       "    </tr>\n",
       "    <tr>\n",
       "      <th>18</th>\n",
       "      <td>8642</td>\n",
       "      <td>4</td>\n",
       "      <td>11</td>\n",
       "      <td>3</td>\n",
       "      <td>3</td>\n",
       "      <td>7</td>\n",
       "      <td>7</td>\n",
       "      <td>43214</td>\n",
       "      <td>1.0</td>\n",
       "    </tr>\n",
       "    <tr>\n",
       "      <th>19</th>\n",
       "      <td>8642</td>\n",
       "      <td>4</td>\n",
       "      <td>16</td>\n",
       "      <td>2</td>\n",
       "      <td>4</td>\n",
       "      <td>2</td>\n",
       "      <td>2</td>\n",
       "      <td>43214</td>\n",
       "      <td>1.0</td>\n",
       "    </tr>\n",
       "  </tbody>\n",
       "</table>\n",
       "</div>"
      ],
      "text/plain": [
       "    round  arena  pirate  fa  position  opening_odds  closing_odds  match_id  \\\n",
       "0    8642      0      18   0         1             7             6     43210   \n",
       "1    8642      0       9   0         2            13            13     43210   \n",
       "2    8642      0      20   0         3             2             2     43210   \n",
       "3    8642      0       7   0         4             2             2     43210   \n",
       "4    8642      1       1   6         1             4             6     43211   \n",
       "5    8642      1      15   5         2             2             2     43211   \n",
       "6    8642      1      14   1         3            13            13     43211   \n",
       "7    8642      1      19   0         4            10            13     43211   \n",
       "8    8642      2       6   2         1             5             5     43212   \n",
       "9    8642      2       4   1         2             2             2     43212   \n",
       "10   8642      2       2   2         3             4             6     43212   \n",
       "11   8642      2       3   3         4             4             6     43212   \n",
       "12   8642      3      10  -1         1            13            13     43213   \n",
       "13   8642      3      17  -1         2             3             3     43213   \n",
       "14   8642      3      12   2         3             4             4     43213   \n",
       "15   8642      3       8   5         4             2             2     43213   \n",
       "16   8642      4      13   1         1             5             6     43214   \n",
       "17   8642      4       5   0         2             4             4     43214   \n",
       "18   8642      4      11   3         3             7             7     43214   \n",
       "19   8642      4      16   2         4             2             2     43214   \n",
       "\n",
       "    intercept  \n",
       "0         1.0  \n",
       "1         1.0  \n",
       "2         1.0  \n",
       "3         1.0  \n",
       "4         1.0  \n",
       "5         1.0  \n",
       "6         1.0  \n",
       "7         1.0  \n",
       "8         1.0  \n",
       "9         1.0  \n",
       "10        1.0  \n",
       "11        1.0  \n",
       "12        1.0  \n",
       "13        1.0  \n",
       "14        1.0  \n",
       "15        1.0  \n",
       "16        1.0  \n",
       "17        1.0  \n",
       "18        1.0  \n",
       "19        1.0  "
      ]
     },
     "execution_count": 69,
     "metadata": {},
     "output_type": "execute_result"
    }
   ],
   "source": [
    "# example of prediction\n",
    "round_8642 = convert_to_long_format_without_win(convert_df(get_ongoing_df_from_file('raw_json/8642.json')))\n",
    "prediction_array = with_position_mnl.predict(round_8642)\n",
    "round_8642"
   ]
  },
  {
   "cell_type": "code",
   "execution_count": 70,
   "metadata": {},
   "outputs": [
    {
     "data": {
      "text/plain": [
       "array([0.1125368 , 0.05413828, 0.50355994, 0.32976498, 0.22911598,\n",
       "       0.59841925, 0.0220138 , 0.15045096, 0.1723493 , 0.35425897,\n",
       "       0.28983166, 0.18356008, 0.02994211, 0.19297443, 0.28019508,\n",
       "       0.49688838, 0.16284138, 0.16606903, 0.13098133, 0.54010827])"
      ]
     },
     "execution_count": 70,
     "metadata": {},
     "output_type": "execute_result"
    }
   ],
   "source": [
    "prediction_array"
   ]
  },
  {
   "cell_type": "code",
   "execution_count": 78,
   "metadata": {},
   "outputs": [
    {
     "data": {
      "text/html": [
       "<div>\n",
       "<style scoped>\n",
       "    .dataframe tbody tr th:only-of-type {\n",
       "        vertical-align: middle;\n",
       "    }\n",
       "\n",
       "    .dataframe tbody tr th {\n",
       "        vertical-align: top;\n",
       "    }\n",
       "\n",
       "    .dataframe thead th {\n",
       "        text-align: right;\n",
       "    }\n",
       "</style>\n",
       "<table border=\"1\" class=\"dataframe\">\n",
       "  <thead>\n",
       "    <tr style=\"text-align: right;\">\n",
       "      <th></th>\n",
       "      <th>round</th>\n",
       "      <th>arena</th>\n",
       "      <th>win</th>\n",
       "      <th>pirate</th>\n",
       "      <th>fa</th>\n",
       "      <th>position</th>\n",
       "      <th>opening_odds</th>\n",
       "      <th>closing_odds</th>\n",
       "      <th>match_id</th>\n",
       "    </tr>\n",
       "  </thead>\n",
       "  <tbody>\n",
       "    <tr>\n",
       "      <th>0</th>\n",
       "      <td>8641</td>\n",
       "      <td>0</td>\n",
       "      <td>0</td>\n",
       "      <td>19</td>\n",
       "      <td>2</td>\n",
       "      <td>1</td>\n",
       "      <td>4</td>\n",
       "      <td>4</td>\n",
       "      <td>43205</td>\n",
       "    </tr>\n",
       "    <tr>\n",
       "      <th>1</th>\n",
       "      <td>8641</td>\n",
       "      <td>0</td>\n",
       "      <td>0</td>\n",
       "      <td>12</td>\n",
       "      <td>4</td>\n",
       "      <td>2</td>\n",
       "      <td>13</td>\n",
       "      <td>13</td>\n",
       "      <td>43205</td>\n",
       "    </tr>\n",
       "    <tr>\n",
       "      <th>2</th>\n",
       "      <td>8641</td>\n",
       "      <td>0</td>\n",
       "      <td>0</td>\n",
       "      <td>2</td>\n",
       "      <td>3</td>\n",
       "      <td>3</td>\n",
       "      <td>13</td>\n",
       "      <td>13</td>\n",
       "      <td>43205</td>\n",
       "    </tr>\n",
       "    <tr>\n",
       "      <th>3</th>\n",
       "      <td>8641</td>\n",
       "      <td>0</td>\n",
       "      <td>1</td>\n",
       "      <td>15</td>\n",
       "      <td>3</td>\n",
       "      <td>4</td>\n",
       "      <td>2</td>\n",
       "      <td>2</td>\n",
       "      <td>43205</td>\n",
       "    </tr>\n",
       "    <tr>\n",
       "      <th>4</th>\n",
       "      <td>8641</td>\n",
       "      <td>1</td>\n",
       "      <td>0</td>\n",
       "      <td>10</td>\n",
       "      <td>1</td>\n",
       "      <td>1</td>\n",
       "      <td>13</td>\n",
       "      <td>13</td>\n",
       "      <td>43206</td>\n",
       "    </tr>\n",
       "    <tr>\n",
       "      <th>5</th>\n",
       "      <td>8641</td>\n",
       "      <td>1</td>\n",
       "      <td>0</td>\n",
       "      <td>20</td>\n",
       "      <td>-1</td>\n",
       "      <td>2</td>\n",
       "      <td>8</td>\n",
       "      <td>12</td>\n",
       "      <td>43206</td>\n",
       "    </tr>\n",
       "    <tr>\n",
       "      <th>6</th>\n",
       "      <td>8641</td>\n",
       "      <td>1</td>\n",
       "      <td>0</td>\n",
       "      <td>8</td>\n",
       "      <td>-2</td>\n",
       "      <td>3</td>\n",
       "      <td>13</td>\n",
       "      <td>13</td>\n",
       "      <td>43206</td>\n",
       "    </tr>\n",
       "    <tr>\n",
       "      <th>7</th>\n",
       "      <td>8641</td>\n",
       "      <td>1</td>\n",
       "      <td>1</td>\n",
       "      <td>4</td>\n",
       "      <td>3</td>\n",
       "      <td>4</td>\n",
       "      <td>2</td>\n",
       "      <td>2</td>\n",
       "      <td>43206</td>\n",
       "    </tr>\n",
       "    <tr>\n",
       "      <th>8</th>\n",
       "      <td>8641</td>\n",
       "      <td>2</td>\n",
       "      <td>1</td>\n",
       "      <td>17</td>\n",
       "      <td>4</td>\n",
       "      <td>1</td>\n",
       "      <td>2</td>\n",
       "      <td>2</td>\n",
       "      <td>43207</td>\n",
       "    </tr>\n",
       "    <tr>\n",
       "      <th>9</th>\n",
       "      <td>8641</td>\n",
       "      <td>2</td>\n",
       "      <td>0</td>\n",
       "      <td>7</td>\n",
       "      <td>-1</td>\n",
       "      <td>2</td>\n",
       "      <td>6</td>\n",
       "      <td>6</td>\n",
       "      <td>43207</td>\n",
       "    </tr>\n",
       "    <tr>\n",
       "      <th>10</th>\n",
       "      <td>8641</td>\n",
       "      <td>2</td>\n",
       "      <td>0</td>\n",
       "      <td>18</td>\n",
       "      <td>2</td>\n",
       "      <td>3</td>\n",
       "      <td>5</td>\n",
       "      <td>5</td>\n",
       "      <td>43207</td>\n",
       "    </tr>\n",
       "    <tr>\n",
       "      <th>11</th>\n",
       "      <td>8641</td>\n",
       "      <td>2</td>\n",
       "      <td>0</td>\n",
       "      <td>6</td>\n",
       "      <td>1</td>\n",
       "      <td>4</td>\n",
       "      <td>4</td>\n",
       "      <td>4</td>\n",
       "      <td>43207</td>\n",
       "    </tr>\n",
       "    <tr>\n",
       "      <th>12</th>\n",
       "      <td>8641</td>\n",
       "      <td>3</td>\n",
       "      <td>0</td>\n",
       "      <td>16</td>\n",
       "      <td>-2</td>\n",
       "      <td>1</td>\n",
       "      <td>13</td>\n",
       "      <td>13</td>\n",
       "      <td>43208</td>\n",
       "    </tr>\n",
       "    <tr>\n",
       "      <th>13</th>\n",
       "      <td>8641</td>\n",
       "      <td>3</td>\n",
       "      <td>1</td>\n",
       "      <td>1</td>\n",
       "      <td>-1</td>\n",
       "      <td>2</td>\n",
       "      <td>4</td>\n",
       "      <td>5</td>\n",
       "      <td>43208</td>\n",
       "    </tr>\n",
       "    <tr>\n",
       "      <th>14</th>\n",
       "      <td>8641</td>\n",
       "      <td>3</td>\n",
       "      <td>0</td>\n",
       "      <td>5</td>\n",
       "      <td>4</td>\n",
       "      <td>3</td>\n",
       "      <td>2</td>\n",
       "      <td>2</td>\n",
       "      <td>43208</td>\n",
       "    </tr>\n",
       "    <tr>\n",
       "      <th>15</th>\n",
       "      <td>8641</td>\n",
       "      <td>3</td>\n",
       "      <td>0</td>\n",
       "      <td>14</td>\n",
       "      <td>1</td>\n",
       "      <td>4</td>\n",
       "      <td>5</td>\n",
       "      <td>7</td>\n",
       "      <td>43208</td>\n",
       "    </tr>\n",
       "    <tr>\n",
       "      <th>16</th>\n",
       "      <td>8641</td>\n",
       "      <td>4</td>\n",
       "      <td>0</td>\n",
       "      <td>11</td>\n",
       "      <td>0</td>\n",
       "      <td>1</td>\n",
       "      <td>11</td>\n",
       "      <td>8</td>\n",
       "      <td>43209</td>\n",
       "    </tr>\n",
       "    <tr>\n",
       "      <th>17</th>\n",
       "      <td>8641</td>\n",
       "      <td>4</td>\n",
       "      <td>1</td>\n",
       "      <td>13</td>\n",
       "      <td>-1</td>\n",
       "      <td>2</td>\n",
       "      <td>3</td>\n",
       "      <td>4</td>\n",
       "      <td>43209</td>\n",
       "    </tr>\n",
       "    <tr>\n",
       "      <th>18</th>\n",
       "      <td>8641</td>\n",
       "      <td>4</td>\n",
       "      <td>0</td>\n",
       "      <td>3</td>\n",
       "      <td>3</td>\n",
       "      <td>3</td>\n",
       "      <td>3</td>\n",
       "      <td>3</td>\n",
       "      <td>43209</td>\n",
       "    </tr>\n",
       "    <tr>\n",
       "      <th>19</th>\n",
       "      <td>8641</td>\n",
       "      <td>4</td>\n",
       "      <td>0</td>\n",
       "      <td>9</td>\n",
       "      <td>1</td>\n",
       "      <td>4</td>\n",
       "      <td>3</td>\n",
       "      <td>4</td>\n",
       "      <td>43209</td>\n",
       "    </tr>\n",
       "  </tbody>\n",
       "</table>\n",
       "</div>"
      ],
      "text/plain": [
       "    round  arena  win  pirate  fa  position  opening_odds  closing_odds  \\\n",
       "0    8641      0    0      19   2         1             4             4   \n",
       "1    8641      0    0      12   4         2            13            13   \n",
       "2    8641      0    0       2   3         3            13            13   \n",
       "3    8641      0    1      15   3         4             2             2   \n",
       "4    8641      1    0      10   1         1            13            13   \n",
       "5    8641      1    0      20  -1         2             8            12   \n",
       "6    8641      1    0       8  -2         3            13            13   \n",
       "7    8641      1    1       4   3         4             2             2   \n",
       "8    8641      2    1      17   4         1             2             2   \n",
       "9    8641      2    0       7  -1         2             6             6   \n",
       "10   8641      2    0      18   2         3             5             5   \n",
       "11   8641      2    0       6   1         4             4             4   \n",
       "12   8641      3    0      16  -2         1            13            13   \n",
       "13   8641      3    1       1  -1         2             4             5   \n",
       "14   8641      3    0       5   4         3             2             2   \n",
       "15   8641      3    0      14   1         4             5             7   \n",
       "16   8641      4    0      11   0         1            11             8   \n",
       "17   8641      4    1      13  -1         2             3             4   \n",
       "18   8641      4    0       3   3         3             3             3   \n",
       "19   8641      4    0       9   1         4             3             4   \n",
       "\n",
       "    match_id  \n",
       "0      43205  \n",
       "1      43205  \n",
       "2      43205  \n",
       "3      43205  \n",
       "4      43206  \n",
       "5      43206  \n",
       "6      43206  \n",
       "7      43206  \n",
       "8      43207  \n",
       "9      43207  \n",
       "10     43207  \n",
       "11     43207  \n",
       "12     43208  \n",
       "13     43208  \n",
       "14     43208  \n",
       "15     43208  \n",
       "16     43209  \n",
       "17     43209  \n",
       "18     43209  \n",
       "19     43209  "
      ]
     },
     "execution_count": 78,
     "metadata": {},
     "output_type": "execute_result"
    }
   ],
   "source": [
    "# backtesting\n",
    "def get_data_for_round(df, round):\n",
    "    return df[df['round'] == round]\n",
    "\n",
    "convert_to_long_format_with_win(get_data_for_round(df, 8641))\n"
   ]
  },
  {
   "cell_type": "code",
   "execution_count": 81,
   "metadata": {},
   "outputs": [
    {
     "data": {
      "text/plain": [
       "3124"
      ]
     },
     "execution_count": 81,
     "metadata": {},
     "output_type": "execute_result"
    }
   ],
   "source": [
    "def generate_bets():\n",
    "    for i in range(5):\n",
    "        for j in range(5):\n",
    "            for k in range(5):\n",
    "                for l in range(5):\n",
    "                    for m in range(5):\n",
    "                        if i != 0 or j != 0 or k != 0 or l != 0 or m != 0:\n",
    "                            yield (i, j, k, l, m)\n",
    "\n",
    "len(list(generate_bets()))"
   ]
  },
  {
   "cell_type": "code",
   "execution_count": 101,
   "metadata": {},
   "outputs": [
    {
     "data": {
      "text/plain": [
       "96"
      ]
     },
     "execution_count": 101,
     "metadata": {},
     "output_type": "execute_result"
    }
   ],
   "source": [
    "def get_odds_of_bet(bet, odds):\n",
    "    prod = 1\n",
    "    for arena, pos in enumerate(bet):\n",
    "        if pos != 0:\n",
    "            prod *= odds[arena * 4 + pos - 1]\n",
    "    return prod\n",
    "\n",
    "tmp = convert_to_long_format_with_win(get_data_for_round(df, 8641))\n",
    "get_odds_of_bet((4,2,0,0,2), tmp['closing_odds'])"
   ]
  },
  {
   "cell_type": "code",
   "execution_count": 237,
   "metadata": {},
   "outputs": [
    {
     "data": {
      "text/html": [
       "<div>\n",
       "<style scoped>\n",
       "    .dataframe tbody tr th:only-of-type {\n",
       "        vertical-align: middle;\n",
       "    }\n",
       "\n",
       "    .dataframe tbody tr th {\n",
       "        vertical-align: top;\n",
       "    }\n",
       "\n",
       "    .dataframe thead th {\n",
       "        text-align: right;\n",
       "    }\n",
       "</style>\n",
       "<table border=\"1\" class=\"dataframe\">\n",
       "  <thead>\n",
       "    <tr style=\"text-align: right;\">\n",
       "      <th></th>\n",
       "      <th>round</th>\n",
       "      <th>arena</th>\n",
       "      <th>win</th>\n",
       "      <th>pirate</th>\n",
       "      <th>fa</th>\n",
       "      <th>position</th>\n",
       "      <th>opening_odds</th>\n",
       "      <th>closing_odds</th>\n",
       "      <th>match_id</th>\n",
       "    </tr>\n",
       "  </thead>\n",
       "  <tbody>\n",
       "    <tr>\n",
       "      <th>0</th>\n",
       "      <td>8641</td>\n",
       "      <td>0</td>\n",
       "      <td>0</td>\n",
       "      <td>19</td>\n",
       "      <td>2</td>\n",
       "      <td>1</td>\n",
       "      <td>4</td>\n",
       "      <td>4</td>\n",
       "      <td>43205</td>\n",
       "    </tr>\n",
       "    <tr>\n",
       "      <th>1</th>\n",
       "      <td>8641</td>\n",
       "      <td>0</td>\n",
       "      <td>0</td>\n",
       "      <td>12</td>\n",
       "      <td>4</td>\n",
       "      <td>2</td>\n",
       "      <td>13</td>\n",
       "      <td>13</td>\n",
       "      <td>43205</td>\n",
       "    </tr>\n",
       "    <tr>\n",
       "      <th>2</th>\n",
       "      <td>8641</td>\n",
       "      <td>0</td>\n",
       "      <td>0</td>\n",
       "      <td>2</td>\n",
       "      <td>3</td>\n",
       "      <td>3</td>\n",
       "      <td>13</td>\n",
       "      <td>13</td>\n",
       "      <td>43205</td>\n",
       "    </tr>\n",
       "    <tr>\n",
       "      <th>3</th>\n",
       "      <td>8641</td>\n",
       "      <td>0</td>\n",
       "      <td>1</td>\n",
       "      <td>15</td>\n",
       "      <td>3</td>\n",
       "      <td>4</td>\n",
       "      <td>2</td>\n",
       "      <td>2</td>\n",
       "      <td>43205</td>\n",
       "    </tr>\n",
       "    <tr>\n",
       "      <th>4</th>\n",
       "      <td>8641</td>\n",
       "      <td>1</td>\n",
       "      <td>0</td>\n",
       "      <td>10</td>\n",
       "      <td>1</td>\n",
       "      <td>1</td>\n",
       "      <td>13</td>\n",
       "      <td>13</td>\n",
       "      <td>43206</td>\n",
       "    </tr>\n",
       "    <tr>\n",
       "      <th>5</th>\n",
       "      <td>8641</td>\n",
       "      <td>1</td>\n",
       "      <td>0</td>\n",
       "      <td>20</td>\n",
       "      <td>-1</td>\n",
       "      <td>2</td>\n",
       "      <td>8</td>\n",
       "      <td>12</td>\n",
       "      <td>43206</td>\n",
       "    </tr>\n",
       "    <tr>\n",
       "      <th>6</th>\n",
       "      <td>8641</td>\n",
       "      <td>1</td>\n",
       "      <td>0</td>\n",
       "      <td>8</td>\n",
       "      <td>-2</td>\n",
       "      <td>3</td>\n",
       "      <td>13</td>\n",
       "      <td>13</td>\n",
       "      <td>43206</td>\n",
       "    </tr>\n",
       "    <tr>\n",
       "      <th>7</th>\n",
       "      <td>8641</td>\n",
       "      <td>1</td>\n",
       "      <td>1</td>\n",
       "      <td>4</td>\n",
       "      <td>3</td>\n",
       "      <td>4</td>\n",
       "      <td>2</td>\n",
       "      <td>2</td>\n",
       "      <td>43206</td>\n",
       "    </tr>\n",
       "    <tr>\n",
       "      <th>8</th>\n",
       "      <td>8641</td>\n",
       "      <td>2</td>\n",
       "      <td>1</td>\n",
       "      <td>17</td>\n",
       "      <td>4</td>\n",
       "      <td>1</td>\n",
       "      <td>2</td>\n",
       "      <td>2</td>\n",
       "      <td>43207</td>\n",
       "    </tr>\n",
       "    <tr>\n",
       "      <th>9</th>\n",
       "      <td>8641</td>\n",
       "      <td>2</td>\n",
       "      <td>0</td>\n",
       "      <td>7</td>\n",
       "      <td>-1</td>\n",
       "      <td>2</td>\n",
       "      <td>6</td>\n",
       "      <td>6</td>\n",
       "      <td>43207</td>\n",
       "    </tr>\n",
       "    <tr>\n",
       "      <th>10</th>\n",
       "      <td>8641</td>\n",
       "      <td>2</td>\n",
       "      <td>0</td>\n",
       "      <td>18</td>\n",
       "      <td>2</td>\n",
       "      <td>3</td>\n",
       "      <td>5</td>\n",
       "      <td>5</td>\n",
       "      <td>43207</td>\n",
       "    </tr>\n",
       "    <tr>\n",
       "      <th>11</th>\n",
       "      <td>8641</td>\n",
       "      <td>2</td>\n",
       "      <td>0</td>\n",
       "      <td>6</td>\n",
       "      <td>1</td>\n",
       "      <td>4</td>\n",
       "      <td>4</td>\n",
       "      <td>4</td>\n",
       "      <td>43207</td>\n",
       "    </tr>\n",
       "    <tr>\n",
       "      <th>12</th>\n",
       "      <td>8641</td>\n",
       "      <td>3</td>\n",
       "      <td>0</td>\n",
       "      <td>16</td>\n",
       "      <td>-2</td>\n",
       "      <td>1</td>\n",
       "      <td>13</td>\n",
       "      <td>13</td>\n",
       "      <td>43208</td>\n",
       "    </tr>\n",
       "    <tr>\n",
       "      <th>13</th>\n",
       "      <td>8641</td>\n",
       "      <td>3</td>\n",
       "      <td>1</td>\n",
       "      <td>1</td>\n",
       "      <td>-1</td>\n",
       "      <td>2</td>\n",
       "      <td>4</td>\n",
       "      <td>5</td>\n",
       "      <td>43208</td>\n",
       "    </tr>\n",
       "    <tr>\n",
       "      <th>14</th>\n",
       "      <td>8641</td>\n",
       "      <td>3</td>\n",
       "      <td>0</td>\n",
       "      <td>5</td>\n",
       "      <td>4</td>\n",
       "      <td>3</td>\n",
       "      <td>2</td>\n",
       "      <td>2</td>\n",
       "      <td>43208</td>\n",
       "    </tr>\n",
       "    <tr>\n",
       "      <th>15</th>\n",
       "      <td>8641</td>\n",
       "      <td>3</td>\n",
       "      <td>0</td>\n",
       "      <td>14</td>\n",
       "      <td>1</td>\n",
       "      <td>4</td>\n",
       "      <td>5</td>\n",
       "      <td>7</td>\n",
       "      <td>43208</td>\n",
       "    </tr>\n",
       "    <tr>\n",
       "      <th>16</th>\n",
       "      <td>8641</td>\n",
       "      <td>4</td>\n",
       "      <td>0</td>\n",
       "      <td>11</td>\n",
       "      <td>0</td>\n",
       "      <td>1</td>\n",
       "      <td>11</td>\n",
       "      <td>8</td>\n",
       "      <td>43209</td>\n",
       "    </tr>\n",
       "    <tr>\n",
       "      <th>17</th>\n",
       "      <td>8641</td>\n",
       "      <td>4</td>\n",
       "      <td>1</td>\n",
       "      <td>13</td>\n",
       "      <td>-1</td>\n",
       "      <td>2</td>\n",
       "      <td>3</td>\n",
       "      <td>4</td>\n",
       "      <td>43209</td>\n",
       "    </tr>\n",
       "    <tr>\n",
       "      <th>18</th>\n",
       "      <td>8641</td>\n",
       "      <td>4</td>\n",
       "      <td>0</td>\n",
       "      <td>3</td>\n",
       "      <td>3</td>\n",
       "      <td>3</td>\n",
       "      <td>3</td>\n",
       "      <td>3</td>\n",
       "      <td>43209</td>\n",
       "    </tr>\n",
       "    <tr>\n",
       "      <th>19</th>\n",
       "      <td>8641</td>\n",
       "      <td>4</td>\n",
       "      <td>0</td>\n",
       "      <td>9</td>\n",
       "      <td>1</td>\n",
       "      <td>4</td>\n",
       "      <td>3</td>\n",
       "      <td>4</td>\n",
       "      <td>43209</td>\n",
       "    </tr>\n",
       "  </tbody>\n",
       "</table>\n",
       "</div>"
      ],
      "text/plain": [
       "    round  arena  win  pirate  fa  position  opening_odds  closing_odds  \\\n",
       "0    8641      0    0      19   2         1             4             4   \n",
       "1    8641      0    0      12   4         2            13            13   \n",
       "2    8641      0    0       2   3         3            13            13   \n",
       "3    8641      0    1      15   3         4             2             2   \n",
       "4    8641      1    0      10   1         1            13            13   \n",
       "5    8641      1    0      20  -1         2             8            12   \n",
       "6    8641      1    0       8  -2         3            13            13   \n",
       "7    8641      1    1       4   3         4             2             2   \n",
       "8    8641      2    1      17   4         1             2             2   \n",
       "9    8641      2    0       7  -1         2             6             6   \n",
       "10   8641      2    0      18   2         3             5             5   \n",
       "11   8641      2    0       6   1         4             4             4   \n",
       "12   8641      3    0      16  -2         1            13            13   \n",
       "13   8641      3    1       1  -1         2             4             5   \n",
       "14   8641      3    0       5   4         3             2             2   \n",
       "15   8641      3    0      14   1         4             5             7   \n",
       "16   8641      4    0      11   0         1            11             8   \n",
       "17   8641      4    1      13  -1         2             3             4   \n",
       "18   8641      4    0       3   3         3             3             3   \n",
       "19   8641      4    0       9   1         4             3             4   \n",
       "\n",
       "    match_id  \n",
       "0      43205  \n",
       "1      43205  \n",
       "2      43205  \n",
       "3      43205  \n",
       "4      43206  \n",
       "5      43206  \n",
       "6      43206  \n",
       "7      43206  \n",
       "8      43207  \n",
       "9      43207  \n",
       "10     43207  \n",
       "11     43207  \n",
       "12     43208  \n",
       "13     43208  \n",
       "14     43208  \n",
       "15     43208  \n",
       "16     43209  \n",
       "17     43209  \n",
       "18     43209  \n",
       "19     43209  "
      ]
     },
     "execution_count": 237,
     "metadata": {},
     "output_type": "execute_result"
    }
   ],
   "source": [
    "tmp"
   ]
  },
  {
   "cell_type": "code",
   "execution_count": 87,
   "metadata": {},
   "outputs": [
    {
     "data": {
      "text/plain": [
       "array([0.16157463, 0.06373219, 0.05991459, 0.71477859, 0.04079771,\n",
       "       0.16877705, 0.04003437, 0.75039087, 0.50519039, 0.08993386,\n",
       "       0.19730162, 0.20757413, 0.07093716, 0.19958858, 0.58709458,\n",
       "       0.14237969, 0.10620913, 0.3726731 , 0.31408067, 0.2070371 ])"
      ]
     },
     "execution_count": 87,
     "metadata": {},
     "output_type": "execute_result"
    }
   ],
   "source": [
    "def get_estimated_probabilities(df, model):\n",
    "    return model.predict(df)\n",
    "\n",
    "get_estimated_probabilities(tmp, with_position_mnl)"
   ]
  },
  {
   "cell_type": "code",
   "execution_count": 102,
   "metadata": {},
   "outputs": [
    {
     "data": {
      "text/plain": [
       "0.04495861984084361"
      ]
     },
     "execution_count": 102,
     "metadata": {},
     "output_type": "execute_result"
    }
   ],
   "source": [
    "def get_estimated_probability_of_bet(bet, probabilities):\n",
    "    prod = 1\n",
    "    for arena, pos in enumerate(bet):\n",
    "        if pos != 0:\n",
    "            prod *= probabilities[arena * 4 + pos - 1]\n",
    "    return prod\n",
    "\n",
    "get_estimated_probability_of_bet((4,2,0,0,2), get_estimated_probabilities(tmp, with_position_mnl))"
   ]
  },
  {
   "cell_type": "code",
   "execution_count": 103,
   "metadata": {},
   "outputs": [
    {
     "data": {
      "text/plain": [
       "4.316027504720987"
      ]
     },
     "execution_count": 103,
     "metadata": {},
     "output_type": "execute_result"
    }
   ],
   "source": [
    "def get_estimated_return_per_unit_of_bet(bet, odds, probabilities):\n",
    "    return get_odds_of_bet(bet, odds) * get_estimated_probability_of_bet(bet, probabilities)\n",
    "\n",
    "get_estimated_return_per_unit_of_bet((4,2,0,0,2), tmp['closing_odds'], get_estimated_probabilities(tmp, with_position_mnl))"
   ]
  },
  {
   "cell_type": "code",
   "execution_count": 104,
   "metadata": {},
   "outputs": [
    {
     "data": {
      "text/plain": [
       "10417"
      ]
     },
     "execution_count": 104,
     "metadata": {},
     "output_type": "execute_result"
    }
   ],
   "source": [
    "def get_max_possible_bet_amount_floor(odds):\n",
    "    return 1000000 // odds\n",
    "\n",
    "def get_max_possible_bet_amount_ceil(odds):\n",
    "    return -(1000000 // -odds)\n",
    "\n",
    "get_max_possible_bet_amount_floor(96)\n",
    "get_max_possible_bet_amount_ceil(96)"
   ]
  },
  {
   "cell_type": "code",
   "execution_count": 105,
   "metadata": {},
   "outputs": [
    {
     "data": {
      "text/plain": [
       "(10417, 44958.61984084361)"
      ]
     },
     "execution_count": 105,
     "metadata": {},
     "output_type": "execute_result"
    }
   ],
   "source": [
    "def get_estimated_return_of_bet_amount(bet, odds, probabilities, bet_amount):\n",
    "    odds_of_bet = get_odds_of_bet(bet, odds)\n",
    "    estimated_probability = get_estimated_probability_of_bet(bet, probabilities)\n",
    "    payout = min(1000000, bet_amount * odds_of_bet)\n",
    "    return payout * estimated_probability\n",
    "\n",
    "def get_best_bet_amount_and_estimated_return(bet, odds, probabilities):\n",
    "    max_possible_bet_amount_floor = get_max_possible_bet_amount_floor(get_odds_of_bet(bet, odds))\n",
    "    max_possible_bet_amount_ceil = get_max_possible_bet_amount_ceil(get_odds_of_bet(bet, odds))\n",
    "    estimated_return_bet_amount_floor = get_estimated_return_of_bet_amount(bet, odds, probabilities, max_possible_bet_amount_floor)\n",
    "    estimated_return_bet_amount_ceil = get_estimated_return_of_bet_amount(bet, odds, probabilities, max_possible_bet_amount_ceil)\n",
    "    if (estimated_return_bet_amount_floor - max_possible_bet_amount_floor) >= (estimated_return_bet_amount_ceil - max_possible_bet_amount_ceil):\n",
    "        return max_possible_bet_amount_floor, estimated_return_bet_amount_floor\n",
    "    else:\n",
    "        return max_possible_bet_amount_ceil, estimated_return_bet_amount_ceil\n",
    "\n",
    "def get_best_bet_amount_and_estimated_return_given_personal_cap(bet, odds, probabilities, cap):\n",
    "    amount, estimated_return = get_best_bet_amount_and_estimated_return(bet, odds, probabilities)\n",
    "    if cap >= amount:\n",
    "        return amount, estimated_return\n",
    "    else:\n",
    "        return cap, get_estimated_return_of_bet_amount(bet, odds, probabilities, cap)\n"
   ]
  },
  {
   "cell_type": "code",
   "execution_count": 106,
   "metadata": {},
   "outputs": [
    {
     "data": {
      "text/plain": [
       "(10417, 44958.61984084361)"
      ]
     },
     "execution_count": 106,
     "metadata": {},
     "output_type": "execute_result"
    }
   ],
   "source": [
    "\n",
    "get_best_bet_amount_and_estimated_return_given_personal_cap((4,2,0,0,2), tmp['closing_odds'], get_estimated_probabilities(tmp, with_position_mnl), 11376)"
   ]
  },
  {
   "cell_type": "code",
   "execution_count": 107,
   "metadata": {},
   "outputs": [
    {
     "data": {
      "text/plain": [
       "(11376, 43163.815662257344)"
      ]
     },
     "execution_count": 107,
     "metadata": {},
     "output_type": "execute_result"
    }
   ],
   "source": [
    "get_best_bet_amount_and_estimated_return_given_personal_cap((4,4,1,3,2), tmp['closing_odds'], get_estimated_probabilities(tmp, with_position_mnl), 11376)"
   ]
  },
  {
   "cell_type": "code",
   "execution_count": 110,
   "metadata": {},
   "outputs": [
    {
     "data": {
      "text/plain": [
       "[((4, 2, 0, 0, 2), 10417, 44958.61984084361, 34541.61984084361, 1000000),\n",
       " ((4, 4, 1, 3, 2), 11376, 43163.815662257344, 31787.815662257344, 728064),\n",
       " ((4, 4, 0, 3, 2), 11376, 42720.34501306255, 31344.34501306255, 364032),\n",
       " ((4, 2, 0, 3, 0), 11376, 38674.42059593612, 27298.42059593612, 546048),\n",
       " ((0, 2, 0, 3, 2), 10417, 36927.465501978426, 26510.465501978426, 1000000),\n",
       " ((4, 4, 1, 0, 2), 11376, 36760.53007304534, 25384.53007304534, 364032),\n",
       " ((4, 2, 1, 3, 0), 10417, 35780.63776446788, 25363.63776446788, 1000000),\n",
       " ((4, 4, 0, 0, 2), 11376, 36382.84761179591, 25006.847611795907, 182016),\n",
       " ((4, 4, 0, 2, 2), 11376, 36308.003888469844, 24932.003888469844, 910080),\n",
       " ((4, 4, 3, 0, 2), 11376, 35891.97356129807, 24515.973561298073, 910080)]"
      ]
     },
     "execution_count": 110,
     "metadata": {},
     "output_type": "execute_result"
    }
   ],
   "source": [
    "def get_profitable_bets(odds, probabilities, cap):\n",
    "    for bet in generate_bets():\n",
    "        if get_estimated_return_per_unit_of_bet(bet, odds, probabilities) > 1:\n",
    "            bet_amount, estimated_return = get_best_bet_amount_and_estimated_return_given_personal_cap(bet, odds, probabilities, cap)\n",
    "            estimated_profit = estimated_return - bet_amount\n",
    "            return_if_won = min(1000000, bet_amount * get_odds_of_bet(bet, odds))\n",
    "            yield bet, bet_amount, estimated_return, estimated_profit, return_if_won\n",
    "\n",
    "# 10 best bets for round 8641\n",
    "sorted(list(get_profitable_bets(tmp['closing_odds'], get_estimated_probabilities(tmp, with_position_mnl), 11376)), key=lambda x: x[3], reverse=True)[:10]"
   ]
  },
  {
   "cell_type": "code",
   "execution_count": 111,
   "metadata": {},
   "outputs": [],
   "source": [
    "def is_winning_bet(bet, winners):\n",
    "    for arena, pos in enumerate(bet):\n",
    "        if pos != 0 and winners[arena] != pos:\n",
    "            return False\n",
    "    return True\n",
    "\n",
    "def get_actual_return_of_bet(bet, winners, return_if_won):\n",
    "    if is_winning_bet(bet, winners):\n",
    "        return min(1000000, return_if_won)\n",
    "    else:\n",
    "        return 0\n"
   ]
  },
  {
   "cell_type": "code",
   "execution_count": 124,
   "metadata": {},
   "outputs": [
    {
     "data": {
      "text/plain": [
       "3369"
      ]
     },
     "execution_count": 124,
     "metadata": {},
     "output_type": "execute_result"
    }
   ],
   "source": [
    "history_rounds = df[\"round\"].unique().tolist()\n",
    "len(history_rounds)"
   ]
  },
  {
   "cell_type": "code",
   "execution_count": 128,
   "metadata": {},
   "outputs": [],
   "source": [
    "from tqdm import tqdm\n",
    "def backtest_model_with_cap(mnl, cap, history_rounds):\n",
    "    total_bet_amount = 0\n",
    "    total_return = 0\n",
    "    total_potential_bet_amount = cap * 10 * len(history_rounds)\n",
    "    for round in tqdm(history_rounds):\n",
    "        tmp = convert_to_long_format_with_win(get_data_for_round(df, round))\n",
    "        winners = df[df['round'] == round]['winner'].tolist()\n",
    "        best_ten_bets = sorted(list(get_profitable_bets(tmp['closing_odds'], get_estimated_probabilities(tmp, mnl), cap)), key=lambda x: x[3], reverse=True)[:10]\n",
    "        for bet, bet_amount, estimated_return, estimated_profit, return_if_won in best_ten_bets:\n",
    "            total_bet_amount += bet_amount\n",
    "            total_return += get_actual_return_of_bet(bet, winners, return_if_won)\n",
    "    return total_bet_amount, total_potential_bet_amount, total_return, total_return - total_bet_amount, 1 + (total_return - total_bet_amount) / total_potential_bet_amount"
   ]
  },
  {
   "cell_type": "code",
   "execution_count": 130,
   "metadata": {},
   "outputs": [
    {
     "name": "stderr",
     "output_type": "stream",
     "text": [
      "100%|██████████| 3369/3369 [03:11<00:00, 17.63it/s]\n"
     ]
    },
    {
     "data": {
      "text/plain": [
       "(325253969, 336900000, 647768680, 322514711, 1.9573010121697834)"
      ]
     },
     "execution_count": 130,
     "metadata": {},
     "output_type": "execute_result"
    }
   ],
   "source": [
    "backtest_model_with_cap(with_position_mnl, 10000, history_rounds)"
   ]
  },
  {
   "cell_type": "code",
   "execution_count": 131,
   "metadata": {},
   "outputs": [
    {
     "name": "stderr",
     "output_type": "stream",
     "text": [
      "100%|██████████| 3369/3369 [03:20<00:00, 16.83it/s]\n"
     ]
    },
    {
     "data": {
      "text/plain": [
       "(33355474, 33690000, 60393856, 27038382, 1.8025640249332147)"
      ]
     },
     "execution_count": 131,
     "metadata": {},
     "output_type": "execute_result"
    }
   ],
   "source": [
    "backtest_model_with_cap(with_position_mnl, 1000, history_rounds)"
   ]
  },
  {
   "cell_type": "code",
   "execution_count": 132,
   "metadata": {},
   "outputs": [
    {
     "name": "stderr",
     "output_type": "stream",
     "text": [
      "100%|██████████| 3369/3369 [03:26<00:00, 16.34it/s]\n"
     ]
    },
    {
     "data": {
      "text/plain": [
       "(3362857, 3369000, 6586100, 3223243, 1.9567358266547936)"
      ]
     },
     "execution_count": 132,
     "metadata": {},
     "output_type": "execute_result"
    }
   ],
   "source": [
    "backtest_model_with_cap(with_position_mnl, 100, history_rounds)"
   ]
  },
  {
   "cell_type": "code",
   "execution_count": 133,
   "metadata": {},
   "outputs": [
    {
     "name": "stderr",
     "output_type": "stream",
     "text": [
      "100%|██████████| 3369/3369 [03:28<00:00, 16.18it/s]\n"
     ]
    },
    {
     "data": {
      "text/plain": [
       "(336868, 336900, 588040, 251172, 1.7455387355298309)"
      ]
     },
     "execution_count": 133,
     "metadata": {},
     "output_type": "execute_result"
    }
   ],
   "source": [
    "backtest_model_with_cap(with_position_mnl, 10, history_rounds)"
   ]
  },
  {
   "cell_type": "code",
   "execution_count": 134,
   "metadata": {},
   "outputs": [
    {
     "name": "stderr",
     "output_type": "stream",
     "text": [
      "100%|██████████| 3369/3369 [03:28<00:00, 16.14it/s]\n"
     ]
    },
    {
     "data": {
      "text/plain": [
       "(33689, 33690, 58804, 25115, 1.7454734342534877)"
      ]
     },
     "execution_count": 134,
     "metadata": {},
     "output_type": "execute_result"
    }
   ],
   "source": [
    "backtest_model_with_cap(with_position_mnl, 1, history_rounds)"
   ]
  },
  {
   "cell_type": "code",
   "execution_count": 164,
   "metadata": {},
   "outputs": [
    {
     "name": "stdout",
     "output_type": "stream",
     "text": [
      "Log-likelihood at zero: -23,352.1285\n",
      "Initial Log-likelihood: -23,352.1285\n"
     ]
    },
    {
     "name": "stderr",
     "output_type": "stream",
     "text": [
      "/home/arsdragonfly/neofoodclub/envs/default/lib/python3.10/site-packages/scipy/optimize/_minimize.py:555: RuntimeWarning: Method BFGS does not use Hessian information (hess).\n",
      "  warn('Method %s does not use Hessian information (hess).' % method,\n"
     ]
    },
    {
     "name": "stdout",
     "output_type": "stream",
     "text": [
      "Estimation Time for Point Estimation: 0.36 seconds.\n",
      "Final log-likelihood: -18,142.6405\n"
     ]
    },
    {
     "data": {
      "text/html": [
       "<table class=\"simpletable\">\n",
       "<caption>Multinomial Logit Model Regression Results</caption>\n",
       "<tr>\n",
       "  <th>Dep. Variable:</th>           <td>win</td>           <th>  No. Observations:  </th>   <td>16,845</td>   \n",
       "</tr>\n",
       "<tr>\n",
       "  <th>Model:</th>         <td>Multinomial Logit Model</td> <th>  Df Residuals:      </th>   <td>16,823</td>   \n",
       "</tr>\n",
       "<tr>\n",
       "  <th>Method:</th>                  <td>MLE</td>           <th>  Df Model:          </th>     <td>22</td>     \n",
       "</tr>\n",
       "<tr>\n",
       "  <th>Date:</th>             <td>Wed, 04 Jan 2023</td>     <th>  Pseudo R-squ.:     </th>    <td>0.223</td>   \n",
       "</tr>\n",
       "<tr>\n",
       "  <th>Time:</th>                 <td>18:59:28</td>         <th>  Pseudo R-bar-squ.: </th>    <td>0.222</td>   \n",
       "</tr>\n",
       "<tr>\n",
       "  <th>AIC:</th>                 <td>36,329.281</td>        <th>  Log-Likelihood:    </th> <td>-18,142.641</td>\n",
       "</tr>\n",
       "<tr>\n",
       "  <th>BIC:</th>                 <td>36,499.381</td>        <th>  LL-Null:           </th> <td>-23,352.129</td>\n",
       "</tr>\n",
       "</table>\n",
       "<table class=\"simpletable\">\n",
       "<tr>\n",
       "           <td></td>             <th>coef</th>     <th>std err</th>      <th>z</th>      <th>P>|z|</th>  <th>[0.025</th>    <th>0.975]</th>  \n",
       "</tr>\n",
       "<tr>\n",
       "  <th>ASC_2_Sproggie</th>     <td>   -1.1866</td> <td>    0.058</td> <td>  -20.518</td> <td> 0.000</td> <td>   -1.300</td> <td>   -1.073</td>\n",
       "</tr>\n",
       "<tr>\n",
       "  <th>ASC_3_Orvinn</th>       <td>   -2.1865</td> <td>    0.068</td> <td>  -32.337</td> <td> 0.000</td> <td>   -2.319</td> <td>   -2.054</td>\n",
       "</tr>\n",
       "<tr>\n",
       "  <th>ASC_4_Lucky</th>        <td>   -0.5921</td> <td>    0.055</td> <td>  -10.840</td> <td> 0.000</td> <td>   -0.699</td> <td>   -0.485</td>\n",
       "</tr>\n",
       "<tr>\n",
       "  <th>ASC_5_Edmund</th>       <td>   -0.7312</td> <td>    0.055</td> <td>  -13.277</td> <td> 0.000</td> <td>   -0.839</td> <td>   -0.623</td>\n",
       "</tr>\n",
       "<tr>\n",
       "  <th>ASC_6_Peg Leg</th>      <td>   -1.4406</td> <td>    0.065</td> <td>  -22.283</td> <td> 0.000</td> <td>   -1.567</td> <td>   -1.314</td>\n",
       "</tr>\n",
       "<tr>\n",
       "  <th>ASC_7_Bonnie</th>       <td>   -1.1051</td> <td>    0.056</td> <td>  -19.577</td> <td> 0.000</td> <td>   -1.216</td> <td>   -0.994</td>\n",
       "</tr>\n",
       "<tr>\n",
       "  <th>ASC_8_Puffo</th>        <td>   -1.6565</td> <td>    0.064</td> <td>  -25.919</td> <td> 0.000</td> <td>   -1.782</td> <td>   -1.531</td>\n",
       "</tr>\n",
       "<tr>\n",
       "  <th>ASC_9_Stuff</th>        <td>   -2.4872</td> <td>    0.084</td> <td>  -29.661</td> <td> 0.000</td> <td>   -2.652</td> <td>   -2.323</td>\n",
       "</tr>\n",
       "<tr>\n",
       "  <th>ASC_10_Squire</th>      <td>   -2.2411</td> <td>    0.081</td> <td>  -27.696</td> <td> 0.000</td> <td>   -2.400</td> <td>   -2.083</td>\n",
       "</tr>\n",
       "<tr>\n",
       "  <th>ASC_11_Crossblades</th> <td>   -2.0420</td> <td>    0.068</td> <td>  -30.065</td> <td> 0.000</td> <td>   -2.175</td> <td>   -1.909</td>\n",
       "</tr>\n",
       "<tr>\n",
       "  <th>ASC_12_Stripey</th>     <td>   -1.2472</td> <td>    0.056</td> <td>  -22.210</td> <td> 0.000</td> <td>   -1.357</td> <td>   -1.137</td>\n",
       "</tr>\n",
       "<tr>\n",
       "  <th>ASC_13_Ned</th>         <td>   -0.6811</td> <td>    0.056</td> <td>  -12.134</td> <td> 0.000</td> <td>   -0.791</td> <td>   -0.571</td>\n",
       "</tr>\n",
       "<tr>\n",
       "  <th>ASC_14_Fairfax</th>     <td>   -1.4607</td> <td>    0.059</td> <td>  -24.900</td> <td> 0.000</td> <td>   -1.576</td> <td>   -1.346</td>\n",
       "</tr>\n",
       "<tr>\n",
       "  <th>ASC_15_Gooblah</th>     <td>    0.9023</td> <td>    0.052</td> <td>   17.379</td> <td> 0.000</td> <td>    0.801</td> <td>    1.004</td>\n",
       "</tr>\n",
       "<tr>\n",
       "  <th>ASC_16_Franchisco</th>  <td>   -0.5020</td> <td>    0.052</td> <td>   -9.685</td> <td> 0.000</td> <td>   -0.604</td> <td>   -0.400</td>\n",
       "</tr>\n",
       "<tr>\n",
       "  <th>ASC_17_Federismo</th>   <td>   -0.5001</td> <td>    0.052</td> <td>   -9.645</td> <td> 0.000</td> <td>   -0.602</td> <td>   -0.398</td>\n",
       "</tr>\n",
       "<tr>\n",
       "  <th>ASC_18_Blackbeard</th>  <td>   -1.2987</td> <td>    0.060</td> <td>  -21.677</td> <td> 0.000</td> <td>   -1.416</td> <td>   -1.181</td>\n",
       "</tr>\n",
       "<tr>\n",
       "  <th>ASC_19_Buck</th>        <td>    0.4531</td> <td>    0.053</td> <td>    8.526</td> <td> 0.000</td> <td>    0.349</td> <td>    0.557</td>\n",
       "</tr>\n",
       "<tr>\n",
       "  <th>ASC_20_Tailhook</th>    <td>   -0.4847</td> <td>    0.054</td> <td>   -8.922</td> <td> 0.000</td> <td>   -0.591</td> <td>   -0.378</td>\n",
       "</tr>\n",
       "<tr>\n",
       "  <th>PFA</th>                <td>    0.2134</td> <td>    0.009</td> <td>   24.921</td> <td> 0.000</td> <td>    0.197</td> <td>    0.230</td>\n",
       "</tr>\n",
       "<tr>\n",
       "  <th>NFA</th>                <td>    0.4185</td> <td>    0.012</td> <td>   34.918</td> <td> 0.000</td> <td>    0.395</td> <td>    0.442</td>\n",
       "</tr>\n",
       "<tr>\n",
       "  <th>position</th>           <td>    0.2510</td> <td>    0.008</td> <td>   31.597</td> <td> 0.000</td> <td>    0.235</td> <td>    0.267</td>\n",
       "</tr>\n",
       "</table>"
      ],
      "text/plain": [
       "<class 'statsmodels.iolib.summary.Summary'>\n",
       "\"\"\"\n",
       "                     Multinomial Logit Model Regression Results                    \n",
       "===================================================================================\n",
       "Dep. Variable:                         win   No. Observations:               16,845\n",
       "Model:             Multinomial Logit Model   Df Residuals:                   16,823\n",
       "Method:                                MLE   Df Model:                           22\n",
       "Date:                     Wed, 04 Jan 2023   Pseudo R-squ.:                   0.223\n",
       "Time:                             18:59:28   Pseudo R-bar-squ.:               0.222\n",
       "AIC:                            36,329.281   Log-Likelihood:            -18,142.641\n",
       "BIC:                            36,499.381   LL-Null:                   -23,352.129\n",
       "======================================================================================\n",
       "                         coef    std err          z      P>|z|      [0.025      0.975]\n",
       "--------------------------------------------------------------------------------------\n",
       "ASC_2_Sproggie        -1.1866      0.058    -20.518      0.000      -1.300      -1.073\n",
       "ASC_3_Orvinn          -2.1865      0.068    -32.337      0.000      -2.319      -2.054\n",
       "ASC_4_Lucky           -0.5921      0.055    -10.840      0.000      -0.699      -0.485\n",
       "ASC_5_Edmund          -0.7312      0.055    -13.277      0.000      -0.839      -0.623\n",
       "ASC_6_Peg Leg         -1.4406      0.065    -22.283      0.000      -1.567      -1.314\n",
       "ASC_7_Bonnie          -1.1051      0.056    -19.577      0.000      -1.216      -0.994\n",
       "ASC_8_Puffo           -1.6565      0.064    -25.919      0.000      -1.782      -1.531\n",
       "ASC_9_Stuff           -2.4872      0.084    -29.661      0.000      -2.652      -2.323\n",
       "ASC_10_Squire         -2.2411      0.081    -27.696      0.000      -2.400      -2.083\n",
       "ASC_11_Crossblades    -2.0420      0.068    -30.065      0.000      -2.175      -1.909\n",
       "ASC_12_Stripey        -1.2472      0.056    -22.210      0.000      -1.357      -1.137\n",
       "ASC_13_Ned            -0.6811      0.056    -12.134      0.000      -0.791      -0.571\n",
       "ASC_14_Fairfax        -1.4607      0.059    -24.900      0.000      -1.576      -1.346\n",
       "ASC_15_Gooblah         0.9023      0.052     17.379      0.000       0.801       1.004\n",
       "ASC_16_Franchisco     -0.5020      0.052     -9.685      0.000      -0.604      -0.400\n",
       "ASC_17_Federismo      -0.5001      0.052     -9.645      0.000      -0.602      -0.398\n",
       "ASC_18_Blackbeard     -1.2987      0.060    -21.677      0.000      -1.416      -1.181\n",
       "ASC_19_Buck            0.4531      0.053      8.526      0.000       0.349       0.557\n",
       "ASC_20_Tailhook       -0.4847      0.054     -8.922      0.000      -0.591      -0.378\n",
       "PFA                    0.2134      0.009     24.921      0.000       0.197       0.230\n",
       "NFA                    0.4185      0.012     34.918      0.000       0.395       0.442\n",
       "position               0.2510      0.008     31.597      0.000       0.235       0.267\n",
       "======================================================================================\n",
       "\"\"\""
      ]
     },
     "execution_count": 164,
     "metadata": {},
     "output_type": "execute_result"
    }
   ],
   "source": [
    "# next, we train a model where pirates share one coeff for favorites and one coeff for allergies\n",
    "split_fa_specification = OrderedDict()\n",
    "split_fa_names = OrderedDict()\n",
    "split_fa_specification[\"intercept\"] = pirates_except_the_first\n",
    "split_fa_names[\"intercept\"] = [f'ASC_{i}_{PIRATE_NAMES[i]}' for i in pirates_except_the_first]\n",
    "# we use the same FA coefficient and same opening implied winrate coefficient for all pirates\n",
    "split_fa_specification[\"pfa\"] = [pirates_including_the_first]\n",
    "split_fa_names[\"pfa\"] = ['PFA']\n",
    "split_fa_specification[\"nfa\"] = [pirates_including_the_first]\n",
    "split_fa_names[\"nfa\"] = ['NFA']\n",
    "split_fa_specification[\"position\"] = [pirates_including_the_first]\n",
    "split_fa_names[\"position\"] = ['position']\n",
    "\n",
    "split_fa_mnl = pl.create_choice_model(data=long_format,\n",
    "alt_id_col='pirate',\n",
    "obs_id_col='match_id',\n",
    "choice_col='win',\n",
    "specification=split_fa_specification,\n",
    "model_type='MNL',\n",
    "names=split_fa_names)\n",
    "split_fa_mnl.fit_mle(np.zeros(22))\n",
    "split_fa_mnl.get_statsmodels_summary()"
   ]
  },
  {
   "cell_type": "code",
   "execution_count": 146,
   "metadata": {},
   "outputs": [
    {
     "name": "stderr",
     "output_type": "stream",
     "text": [
      "100%|██████████| 3369/3369 [03:25<00:00, 16.41it/s]\n"
     ]
    },
    {
     "data": {
      "text/plain": [
       "(33682, 33690, 96461, 62779, 2.863431285247848)"
      ]
     },
     "execution_count": 146,
     "metadata": {},
     "output_type": "execute_result"
    }
   ],
   "source": [
    "backtest_model_with_cap(split_fa_mnl, 1, history_rounds)"
   ]
  },
  {
   "cell_type": "code",
   "execution_count": 147,
   "metadata": {},
   "outputs": [
    {
     "name": "stderr",
     "output_type": "stream",
     "text": [
      "100%|██████████| 3369/3369 [03:07<00:00, 17.99it/s]\n"
     ]
    },
    {
     "data": {
      "text/plain": [
       "(326782178, 336900000, 649728421, 322946243, 1.9585819026417335)"
      ]
     },
     "execution_count": 147,
     "metadata": {},
     "output_type": "execute_result"
    }
   ],
   "source": [
    "backtest_model_with_cap(split_fa_mnl, 10000, history_rounds)"
   ]
  },
  {
   "cell_type": "code",
   "execution_count": null,
   "metadata": {},
   "outputs": [],
   "source": [
    "# OMFG splitting favorite count and allergy count is absolutely necessary!"
   ]
  },
  {
   "cell_type": "code",
   "execution_count": 168,
   "metadata": {},
   "outputs": [
    {
     "name": "stdout",
     "output_type": "stream",
     "text": [
      "Log-likelihood at zero: -23,352.1285\n",
      "Initial Log-likelihood: -23,352.1285\n"
     ]
    },
    {
     "name": "stderr",
     "output_type": "stream",
     "text": [
      "/home/arsdragonfly/neofoodclub/envs/default/lib/python3.10/site-packages/scipy/optimize/_minimize.py:555: RuntimeWarning: Method BFGS does not use Hessian information (hess).\n",
      "  warn('Method %s does not use Hessian information (hess).' % method,\n"
     ]
    },
    {
     "name": "stdout",
     "output_type": "stream",
     "text": [
      "Estimation Time for Point Estimation: 0.37 seconds.\n",
      "Final log-likelihood: -18,138.9254\n"
     ]
    },
    {
     "data": {
      "text/html": [
       "<table class=\"simpletable\">\n",
       "<caption>Multinomial Logit Model Regression Results</caption>\n",
       "<tr>\n",
       "  <th>Dep. Variable:</th>           <td>win</td>           <th>  No. Observations:  </th>   <td>16,845</td>   \n",
       "</tr>\n",
       "<tr>\n",
       "  <th>Model:</th>         <td>Multinomial Logit Model</td> <th>  Df Residuals:      </th>   <td>16,821</td>   \n",
       "</tr>\n",
       "<tr>\n",
       "  <th>Method:</th>                  <td>MLE</td>           <th>  Df Model:          </th>     <td>24</td>     \n",
       "</tr>\n",
       "<tr>\n",
       "  <th>Date:</th>             <td>Wed, 04 Jan 2023</td>     <th>  Pseudo R-squ.:     </th>    <td>0.223</td>   \n",
       "</tr>\n",
       "<tr>\n",
       "  <th>Time:</th>                 <td>19:04:15</td>         <th>  Pseudo R-bar-squ.: </th>    <td>0.222</td>   \n",
       "</tr>\n",
       "<tr>\n",
       "  <th>AIC:</th>                 <td>36,325.851</td>        <th>  Log-Likelihood:    </th> <td>-18,138.925</td>\n",
       "</tr>\n",
       "<tr>\n",
       "  <th>BIC:</th>                 <td>36,511.414</td>        <th>  LL-Null:           </th> <td>-23,352.129</td>\n",
       "</tr>\n",
       "</table>\n",
       "<table class=\"simpletable\">\n",
       "<tr>\n",
       "           <td></td>             <th>coef</th>     <th>std err</th>      <th>z</th>      <th>P>|z|</th>  <th>[0.025</th>    <th>0.975]</th>  \n",
       "</tr>\n",
       "<tr>\n",
       "  <th>ASC_2_Sproggie</th>     <td>   -1.1877</td> <td>    0.058</td> <td>  -20.528</td> <td> 0.000</td> <td>   -1.301</td> <td>   -1.074</td>\n",
       "</tr>\n",
       "<tr>\n",
       "  <th>ASC_3_Orvinn</th>       <td>   -2.1886</td> <td>    0.068</td> <td>  -32.358</td> <td> 0.000</td> <td>   -2.321</td> <td>   -2.056</td>\n",
       "</tr>\n",
       "<tr>\n",
       "  <th>ASC_4_Lucky</th>        <td>   -0.5932</td> <td>    0.055</td> <td>  -10.860</td> <td> 0.000</td> <td>   -0.700</td> <td>   -0.486</td>\n",
       "</tr>\n",
       "<tr>\n",
       "  <th>ASC_5_Edmund</th>       <td>   -0.7330</td> <td>    0.055</td> <td>  -13.306</td> <td> 0.000</td> <td>   -0.841</td> <td>   -0.625</td>\n",
       "</tr>\n",
       "<tr>\n",
       "  <th>ASC_6_Peg Leg</th>      <td>   -1.4415</td> <td>    0.065</td> <td>  -22.291</td> <td> 0.000</td> <td>   -1.568</td> <td>   -1.315</td>\n",
       "</tr>\n",
       "<tr>\n",
       "  <th>ASC_7_Bonnie</th>       <td>   -1.1063</td> <td>    0.056</td> <td>  -19.592</td> <td> 0.000</td> <td>   -1.217</td> <td>   -0.996</td>\n",
       "</tr>\n",
       "<tr>\n",
       "  <th>ASC_8_Puffo</th>        <td>   -1.6580</td> <td>    0.064</td> <td>  -25.933</td> <td> 0.000</td> <td>   -1.783</td> <td>   -1.533</td>\n",
       "</tr>\n",
       "<tr>\n",
       "  <th>ASC_9_Stuff</th>        <td>   -2.4890</td> <td>    0.084</td> <td>  -29.677</td> <td> 0.000</td> <td>   -2.653</td> <td>   -2.325</td>\n",
       "</tr>\n",
       "<tr>\n",
       "  <th>ASC_10_Squire</th>      <td>   -2.2447</td> <td>    0.081</td> <td>  -27.729</td> <td> 0.000</td> <td>   -2.403</td> <td>   -2.086</td>\n",
       "</tr>\n",
       "<tr>\n",
       "  <th>ASC_11_Crossblades</th> <td>   -2.0439</td> <td>    0.068</td> <td>  -30.086</td> <td> 0.000</td> <td>   -2.177</td> <td>   -1.911</td>\n",
       "</tr>\n",
       "<tr>\n",
       "  <th>ASC_12_Stripey</th>     <td>   -1.2485</td> <td>    0.056</td> <td>  -22.226</td> <td> 0.000</td> <td>   -1.359</td> <td>   -1.138</td>\n",
       "</tr>\n",
       "<tr>\n",
       "  <th>ASC_13_Ned</th>         <td>   -0.6826</td> <td>    0.056</td> <td>  -12.160</td> <td> 0.000</td> <td>   -0.793</td> <td>   -0.573</td>\n",
       "</tr>\n",
       "<tr>\n",
       "  <th>ASC_14_Fairfax</th>     <td>   -1.4623</td> <td>    0.059</td> <td>  -24.919</td> <td> 0.000</td> <td>   -1.577</td> <td>   -1.347</td>\n",
       "</tr>\n",
       "<tr>\n",
       "  <th>ASC_15_Gooblah</th>     <td>    0.9004</td> <td>    0.052</td> <td>   17.341</td> <td> 0.000</td> <td>    0.799</td> <td>    1.002</td>\n",
       "</tr>\n",
       "<tr>\n",
       "  <th>ASC_16_Franchisco</th>  <td>   -0.5027</td> <td>    0.052</td> <td>   -9.697</td> <td> 0.000</td> <td>   -0.604</td> <td>   -0.401</td>\n",
       "</tr>\n",
       "<tr>\n",
       "  <th>ASC_17_Federismo</th>   <td>   -0.5015</td> <td>    0.052</td> <td>   -9.669</td> <td> 0.000</td> <td>   -0.603</td> <td>   -0.400</td>\n",
       "</tr>\n",
       "<tr>\n",
       "  <th>ASC_18_Blackbeard</th>  <td>   -1.2998</td> <td>    0.060</td> <td>  -21.691</td> <td> 0.000</td> <td>   -1.417</td> <td>   -1.182</td>\n",
       "</tr>\n",
       "<tr>\n",
       "  <th>ASC_19_Buck</th>        <td>    0.4517</td> <td>    0.053</td> <td>    8.499</td> <td> 0.000</td> <td>    0.348</td> <td>    0.556</td>\n",
       "</tr>\n",
       "<tr>\n",
       "  <th>ASC_20_Tailhook</th>    <td>   -0.4859</td> <td>    0.054</td> <td>   -8.943</td> <td> 0.000</td> <td>   -0.592</td> <td>   -0.379</td>\n",
       "</tr>\n",
       "<tr>\n",
       "  <th>PFA</th>                <td>    0.2135</td> <td>    0.009</td> <td>   24.925</td> <td> 0.000</td> <td>    0.197</td> <td>    0.230</td>\n",
       "</tr>\n",
       "<tr>\n",
       "  <th>NFA</th>                <td>    0.4186</td> <td>    0.012</td> <td>   34.926</td> <td> 0.000</td> <td>    0.395</td> <td>    0.442</td>\n",
       "</tr>\n",
       "<tr>\n",
       "  <th>is_pos2</th>            <td>    0.1823</td> <td>    0.027</td> <td>    6.751</td> <td> 0.000</td> <td>    0.129</td> <td>    0.235</td>\n",
       "</tr>\n",
       "<tr>\n",
       "  <th>is_pos3</th>            <td>    0.4633</td> <td>    0.026</td> <td>   17.850</td> <td> 0.000</td> <td>    0.412</td> <td>    0.514</td>\n",
       "</tr>\n",
       "<tr>\n",
       "  <th>is_pos4</th>            <td>    0.7334</td> <td>    0.025</td> <td>   29.093</td> <td> 0.000</td> <td>    0.684</td> <td>    0.783</td>\n",
       "</tr>\n",
       "</table>"
      ],
      "text/plain": [
       "<class 'statsmodels.iolib.summary.Summary'>\n",
       "\"\"\"\n",
       "                     Multinomial Logit Model Regression Results                    \n",
       "===================================================================================\n",
       "Dep. Variable:                         win   No. Observations:               16,845\n",
       "Model:             Multinomial Logit Model   Df Residuals:                   16,821\n",
       "Method:                                MLE   Df Model:                           24\n",
       "Date:                     Wed, 04 Jan 2023   Pseudo R-squ.:                   0.223\n",
       "Time:                             19:04:15   Pseudo R-bar-squ.:               0.222\n",
       "AIC:                            36,325.851   Log-Likelihood:            -18,138.925\n",
       "BIC:                            36,511.414   LL-Null:                   -23,352.129\n",
       "======================================================================================\n",
       "                         coef    std err          z      P>|z|      [0.025      0.975]\n",
       "--------------------------------------------------------------------------------------\n",
       "ASC_2_Sproggie        -1.1877      0.058    -20.528      0.000      -1.301      -1.074\n",
       "ASC_3_Orvinn          -2.1886      0.068    -32.358      0.000      -2.321      -2.056\n",
       "ASC_4_Lucky           -0.5932      0.055    -10.860      0.000      -0.700      -0.486\n",
       "ASC_5_Edmund          -0.7330      0.055    -13.306      0.000      -0.841      -0.625\n",
       "ASC_6_Peg Leg         -1.4415      0.065    -22.291      0.000      -1.568      -1.315\n",
       "ASC_7_Bonnie          -1.1063      0.056    -19.592      0.000      -1.217      -0.996\n",
       "ASC_8_Puffo           -1.6580      0.064    -25.933      0.000      -1.783      -1.533\n",
       "ASC_9_Stuff           -2.4890      0.084    -29.677      0.000      -2.653      -2.325\n",
       "ASC_10_Squire         -2.2447      0.081    -27.729      0.000      -2.403      -2.086\n",
       "ASC_11_Crossblades    -2.0439      0.068    -30.086      0.000      -2.177      -1.911\n",
       "ASC_12_Stripey        -1.2485      0.056    -22.226      0.000      -1.359      -1.138\n",
       "ASC_13_Ned            -0.6826      0.056    -12.160      0.000      -0.793      -0.573\n",
       "ASC_14_Fairfax        -1.4623      0.059    -24.919      0.000      -1.577      -1.347\n",
       "ASC_15_Gooblah         0.9004      0.052     17.341      0.000       0.799       1.002\n",
       "ASC_16_Franchisco     -0.5027      0.052     -9.697      0.000      -0.604      -0.401\n",
       "ASC_17_Federismo      -0.5015      0.052     -9.669      0.000      -0.603      -0.400\n",
       "ASC_18_Blackbeard     -1.2998      0.060    -21.691      0.000      -1.417      -1.182\n",
       "ASC_19_Buck            0.4517      0.053      8.499      0.000       0.348       0.556\n",
       "ASC_20_Tailhook       -0.4859      0.054     -8.943      0.000      -0.592      -0.379\n",
       "PFA                    0.2135      0.009     24.925      0.000       0.197       0.230\n",
       "NFA                    0.4186      0.012     34.926      0.000       0.395       0.442\n",
       "is_pos2                0.1823      0.027      6.751      0.000       0.129       0.235\n",
       "is_pos3                0.4633      0.026     17.850      0.000       0.412       0.514\n",
       "is_pos4                0.7334      0.025     29.093      0.000       0.684       0.783\n",
       "======================================================================================\n",
       "\"\"\""
      ]
     },
     "execution_count": 168,
     "metadata": {},
     "output_type": "execute_result"
    }
   ],
   "source": [
    "# next step is to split the coefficients for positional (dis-)advantages\n",
    "split_position_specification = OrderedDict()\n",
    "split_position_names = OrderedDict()\n",
    "split_position_specification[\"intercept\"] = pirates_except_the_first\n",
    "split_position_names[\"intercept\"] = [f'ASC_{i}_{PIRATE_NAMES[i]}' for i in pirates_except_the_first]\n",
    "# we use the same FA coefficient and same opening implied winrate coefficient for all pirates\n",
    "split_position_specification[\"pfa\"] = [pirates_including_the_first]\n",
    "split_position_names[\"pfa\"] = ['PFA']\n",
    "split_position_specification[\"nfa\"] = [pirates_including_the_first]\n",
    "split_position_names[\"nfa\"] = ['NFA']\n",
    "# split_position_specification[\"is_pos1\"] = [pirates_including_the_first]\n",
    "# split_position_names[\"is_pos1\"] = ['is_pos1']\n",
    "split_position_specification[\"is_pos2\"] = [pirates_including_the_first]\n",
    "split_position_names[\"is_pos2\"] = ['is_pos2']\n",
    "split_position_specification[\"is_pos3\"] = [pirates_including_the_first]\n",
    "split_position_names[\"is_pos3\"] = ['is_pos3']\n",
    "split_position_specification[\"is_pos4\"] = [pirates_including_the_first]\n",
    "split_position_names[\"is_pos4\"] = ['is_pos4']\n",
    "\n",
    "split_position_mnl = pl.create_choice_model(data=long_format,\n",
    "alt_id_col='pirate',\n",
    "obs_id_col='match_id',\n",
    "choice_col='win',\n",
    "specification=split_position_specification,\n",
    "model_type='MNL',\n",
    "names=split_position_names)\n",
    "split_position_mnl.fit_mle(np.zeros(24))\n",
    "split_position_mnl.get_statsmodels_summary()"
   ]
  },
  {
   "cell_type": "code",
   "execution_count": null,
   "metadata": {},
   "outputs": [],
   "source": [
    "# positional advantage is non-linear,\n",
    "# so splitting it into 3 coefficients makes sense"
   ]
  },
  {
   "cell_type": "code",
   "execution_count": 169,
   "metadata": {},
   "outputs": [
    {
     "name": "stderr",
     "output_type": "stream",
     "text": [
      "100%|██████████| 3369/3369 [03:25<00:00, 16.39it/s]\n"
     ]
    },
    {
     "data": {
      "text/plain": [
       "(33683, 33690, 83862, 50179, 2.489433066191748)"
      ]
     },
     "execution_count": 169,
     "metadata": {},
     "output_type": "execute_result"
    }
   ],
   "source": [
    "backtest_model_with_cap(split_position_mnl, 1, history_rounds)"
   ]
  },
  {
   "cell_type": "code",
   "execution_count": null,
   "metadata": {},
   "outputs": [],
   "source": [
    "# even though this is theoretically a better model than the previous one\n",
    "# (it takes into account of non-linearity of positional advantage)\n",
    "# the backtest ROI result is worse (dropped from 2.863 to 2.489)\n",
    "# it probably takes an eternity for a model to converge to its true ROI\n",
    "# given how long-tail the gambit bets are!"
   ]
  },
  {
   "cell_type": "code",
   "execution_count": 170,
   "metadata": {},
   "outputs": [
    {
     "name": "stderr",
     "output_type": "stream",
     "text": [
      "100%|██████████| 3369/3369 [03:10<00:00, 17.73it/s]\n"
     ]
    },
    {
     "data": {
      "text/plain": [
       "(326868956, 336900000, 659088561, 332219605, 1.9861074651231818)"
      ]
     },
     "execution_count": 170,
     "metadata": {},
     "output_type": "execute_result"
    }
   ],
   "source": [
    "backtest_model_with_cap(split_position_mnl, 10000, history_rounds)"
   ]
  },
  {
   "cell_type": "code",
   "execution_count": 198,
   "metadata": {},
   "outputs": [
    {
     "name": "stdout",
     "output_type": "stream",
     "text": [
      "Log-likelihood at zero: -23,352.1285\n",
      "Initial Log-likelihood: -23,352.1285\n"
     ]
    },
    {
     "name": "stderr",
     "output_type": "stream",
     "text": [
      "/home/arsdragonfly/neofoodclub/envs/default/lib/python3.10/site-packages/scipy/optimize/_minimize.py:555: RuntimeWarning: Method BFGS does not use Hessian information (hess).\n",
      "  warn('Method %s does not use Hessian information (hess).' % method,\n"
     ]
    },
    {
     "name": "stdout",
     "output_type": "stream",
     "text": [
      "Estimation Time for Point Estimation: 1.89 seconds.\n",
      "Final log-likelihood: -18,093.0123\n"
     ]
    },
    {
     "data": {
      "text/html": [
       "<table class=\"simpletable\">\n",
       "<caption>Multinomial Logit Model Regression Results</caption>\n",
       "<tr>\n",
       "  <th>Dep. Variable:</th>           <td>win</td>           <th>  No. Observations:  </th>   <td>16,845</td>   \n",
       "</tr>\n",
       "<tr>\n",
       "  <th>Model:</th>         <td>Multinomial Logit Model</td> <th>  Df Residuals:      </th>   <td>16,783</td>   \n",
       "</tr>\n",
       "<tr>\n",
       "  <th>Method:</th>                  <td>MLE</td>           <th>  Df Model:          </th>     <td>62</td>     \n",
       "</tr>\n",
       "<tr>\n",
       "  <th>Date:</th>             <td>Wed, 04 Jan 2023</td>     <th>  Pseudo R-squ.:     </th>    <td>0.225</td>   \n",
       "</tr>\n",
       "<tr>\n",
       "  <th>Time:</th>                 <td>20:52:46</td>         <th>  Pseudo R-bar-squ.: </th>    <td>0.223</td>   \n",
       "</tr>\n",
       "<tr>\n",
       "  <th>AIC:</th>                 <td>36,310.025</td>        <th>  Log-Likelihood:    </th> <td>-18,093.012</td>\n",
       "</tr>\n",
       "<tr>\n",
       "  <th>BIC:</th>                 <td>36,789.397</td>        <th>  LL-Null:           </th> <td>-23,352.129</td>\n",
       "</tr>\n",
       "</table>\n",
       "<table class=\"simpletable\">\n",
       "<tr>\n",
       "           <td></td>             <th>coef</th>     <th>std err</th>      <th>z</th>      <th>P>|z|</th>  <th>[0.025</th>    <th>0.975]</th>  \n",
       "</tr>\n",
       "<tr>\n",
       "  <th>ASC_2_Sproggie</th>     <td>   -1.7172</td> <td>    0.170</td> <td>  -10.080</td> <td> 0.000</td> <td>   -2.051</td> <td>   -1.383</td>\n",
       "</tr>\n",
       "<tr>\n",
       "  <th>ASC_3_Orvinn</th>       <td>   -2.6557</td> <td>    0.205</td> <td>  -12.951</td> <td> 0.000</td> <td>   -3.058</td> <td>   -2.254</td>\n",
       "</tr>\n",
       "<tr>\n",
       "  <th>ASC_4_Lucky</th>        <td>   -0.5649</td> <td>    0.126</td> <td>   -4.487</td> <td> 0.000</td> <td>   -0.812</td> <td>   -0.318</td>\n",
       "</tr>\n",
       "<tr>\n",
       "  <th>ASC_5_Edmund</th>       <td>   -1.0848</td> <td>    0.128</td> <td>   -8.448</td> <td> 0.000</td> <td>   -1.337</td> <td>   -0.833</td>\n",
       "</tr>\n",
       "<tr>\n",
       "  <th>ASC_6_Peg Leg</th>      <td>   -1.7609</td> <td>    0.137</td> <td>  -12.830</td> <td> 0.000</td> <td>   -2.030</td> <td>   -1.492</td>\n",
       "</tr>\n",
       "<tr>\n",
       "  <th>ASC_7_Bonnie</th>       <td>   -1.5237</td> <td>    0.144</td> <td>  -10.578</td> <td> 0.000</td> <td>   -1.806</td> <td>   -1.241</td>\n",
       "</tr>\n",
       "<tr>\n",
       "  <th>ASC_8_Puffo</th>        <td>   -2.3337</td> <td>    0.205</td> <td>  -11.369</td> <td> 0.000</td> <td>   -2.736</td> <td>   -1.931</td>\n",
       "</tr>\n",
       "<tr>\n",
       "  <th>ASC_9_Stuff</th>        <td>   -3.1271</td> <td>    0.192</td> <td>  -16.313</td> <td> 0.000</td> <td>   -3.503</td> <td>   -2.751</td>\n",
       "</tr>\n",
       "<tr>\n",
       "  <th>ASC_10_Squire</th>      <td>   -2.5223</td> <td>    0.164</td> <td>  -15.374</td> <td> 0.000</td> <td>   -2.844</td> <td>   -2.201</td>\n",
       "</tr>\n",
       "<tr>\n",
       "  <th>ASC_11_Crossblades</th> <td>   -2.1477</td> <td>    0.168</td> <td>  -12.757</td> <td> 0.000</td> <td>   -2.478</td> <td>   -1.818</td>\n",
       "</tr>\n",
       "<tr>\n",
       "  <th>ASC_12_Stripey</th>     <td>   -1.3767</td> <td>    0.145</td> <td>   -9.478</td> <td> 0.000</td> <td>   -1.661</td> <td>   -1.092</td>\n",
       "</tr>\n",
       "<tr>\n",
       "  <th>ASC_13_Ned</th>         <td>   -0.8082</td> <td>    0.144</td> <td>   -5.594</td> <td> 0.000</td> <td>   -1.091</td> <td>   -0.525</td>\n",
       "</tr>\n",
       "<tr>\n",
       "  <th>ASC_14_Fairfax</th>     <td>   -1.8138</td> <td>    0.158</td> <td>  -11.466</td> <td> 0.000</td> <td>   -2.124</td> <td>   -1.504</td>\n",
       "</tr>\n",
       "<tr>\n",
       "  <th>ASC_15_Gooblah</th>     <td>    0.6469</td> <td>    0.127</td> <td>    5.101</td> <td> 0.000</td> <td>    0.398</td> <td>    0.895</td>\n",
       "</tr>\n",
       "<tr>\n",
       "  <th>ASC_16_Franchisco</th>  <td>   -0.6474</td> <td>    0.134</td> <td>   -4.814</td> <td> 0.000</td> <td>   -0.911</td> <td>   -0.384</td>\n",
       "</tr>\n",
       "<tr>\n",
       "  <th>ASC_17_Federismo</th>   <td>   -0.5100</td> <td>    0.134</td> <td>   -3.815</td> <td> 0.000</td> <td>   -0.772</td> <td>   -0.248</td>\n",
       "</tr>\n",
       "<tr>\n",
       "  <th>ASC_18_Blackbeard</th>  <td>   -1.3606</td> <td>    0.150</td> <td>   -9.049</td> <td> 0.000</td> <td>   -1.655</td> <td>   -1.066</td>\n",
       "</tr>\n",
       "<tr>\n",
       "  <th>ASC_19_Buck</th>        <td>    0.1630</td> <td>    0.125</td> <td>    1.302</td> <td> 0.193</td> <td>   -0.082</td> <td>    0.408</td>\n",
       "</tr>\n",
       "<tr>\n",
       "  <th>ASC_20_Tailhook</th>    <td>   -0.8270</td> <td>    0.130</td> <td>   -6.383</td> <td> 0.000</td> <td>   -1.081</td> <td>   -0.573</td>\n",
       "</tr>\n",
       "<tr>\n",
       "  <th>PFA_1_Dan</th>          <td>    0.1719</td> <td>    0.023</td> <td>    7.563</td> <td> 0.000</td> <td>    0.127</td> <td>    0.216</td>\n",
       "</tr>\n",
       "<tr>\n",
       "  <th>PFA_2_Sproggie</th>     <td>    0.2563</td> <td>    0.035</td> <td>    7.270</td> <td> 0.000</td> <td>    0.187</td> <td>    0.325</td>\n",
       "</tr>\n",
       "<tr>\n",
       "  <th>PFA_3_Orvinn</th>       <td>    0.2549</td> <td>    0.041</td> <td>    6.205</td> <td> 0.000</td> <td>    0.174</td> <td>    0.335</td>\n",
       "</tr>\n",
       "<tr>\n",
       "  <th>PFA_4_Lucky</th>        <td>    0.1597</td> <td>    0.040</td> <td>    3.944</td> <td> 0.000</td> <td>    0.080</td> <td>    0.239</td>\n",
       "</tr>\n",
       "<tr>\n",
       "  <th>PFA_5_Edmund</th>       <td>    0.2659</td> <td>    0.039</td> <td>    6.810</td> <td> 0.000</td> <td>    0.189</td> <td>    0.342</td>\n",
       "</tr>\n",
       "<tr>\n",
       "  <th>PFA_6_Peg Leg</th>      <td>    0.3145</td> <td>    0.061</td> <td>    5.176</td> <td> 0.000</td> <td>    0.195</td> <td>    0.434</td>\n",
       "</tr>\n",
       "<tr>\n",
       "  <th>PFA_7_Bonnie</th>       <td>    0.2449</td> <td>    0.037</td> <td>    6.656</td> <td> 0.000</td> <td>    0.173</td> <td>    0.317</td>\n",
       "</tr>\n",
       "<tr>\n",
       "  <th>PFA_8_Puffo</th>        <td>    0.2894</td> <td>    0.040</td> <td>    7.291</td> <td> 0.000</td> <td>    0.212</td> <td>    0.367</td>\n",
       "</tr>\n",
       "<tr>\n",
       "  <th>PFA_9_Stuff</th>        <td>    0.3941</td> <td>    0.078</td> <td>    5.063</td> <td> 0.000</td> <td>    0.242</td> <td>    0.547</td>\n",
       "</tr>\n",
       "<tr>\n",
       "  <th>PFA_10_Squire</th>      <td>    0.2337</td> <td>    0.083</td> <td>    2.810</td> <td> 0.005</td> <td>    0.071</td> <td>    0.397</td>\n",
       "</tr>\n",
       "<tr>\n",
       "  <th>PFA_11_Crossblades</th> <td>    0.1587</td> <td>    0.047</td> <td>    3.350</td> <td> 0.001</td> <td>    0.066</td> <td>    0.252</td>\n",
       "</tr>\n",
       "<tr>\n",
       "  <th>PFA_12_Stripey</th>     <td>    0.2070</td> <td>    0.033</td> <td>    6.201</td> <td> 0.000</td> <td>    0.142</td> <td>    0.272</td>\n",
       "</tr>\n",
       "<tr>\n",
       "  <th>PFA_13_Ned</th>         <td>    0.2110</td> <td>    0.038</td> <td>    5.500</td> <td> 0.000</td> <td>    0.136</td> <td>    0.286</td>\n",
       "</tr>\n",
       "<tr>\n",
       "  <th>PFA_14_Fairfax</th>     <td>    0.2438</td> <td>    0.035</td> <td>    6.949</td> <td> 0.000</td> <td>    0.175</td> <td>    0.313</td>\n",
       "</tr>\n",
       "<tr>\n",
       "  <th>PFA_15_Gooblah</th>     <td>    0.2901</td> <td>    0.035</td> <td>    8.394</td> <td> 0.000</td> <td>    0.222</td> <td>    0.358</td>\n",
       "</tr>\n",
       "<tr>\n",
       "  <th>PFA_16_Franchisco</th>  <td>    0.1926</td> <td>    0.027</td> <td>    7.214</td> <td> 0.000</td> <td>    0.140</td> <td>    0.245</td>\n",
       "</tr>\n",
       "<tr>\n",
       "  <th>PFA_17_Federismo</th>   <td>    0.1647</td> <td>    0.024</td> <td>    6.729</td> <td> 0.000</td> <td>    0.117</td> <td>    0.213</td>\n",
       "</tr>\n",
       "<tr>\n",
       "  <th>PFA_18_Blackbeard</th>  <td>    0.1765</td> <td>    0.040</td> <td>    4.371</td> <td> 0.000</td> <td>    0.097</td> <td>    0.256</td>\n",
       "</tr>\n",
       "<tr>\n",
       "  <th>PFA_19_Buck</th>        <td>    0.2427</td> <td>    0.041</td> <td>    5.886</td> <td> 0.000</td> <td>    0.162</td> <td>    0.324</td>\n",
       "</tr>\n",
       "<tr>\n",
       "  <th>PFA_20_Tailhook</th>    <td>    0.2611</td> <td>    0.040</td> <td>    6.489</td> <td> 0.000</td> <td>    0.182</td> <td>    0.340</td>\n",
       "</tr>\n",
       "<tr>\n",
       "  <th>NFA_1_Dan</th>          <td>    0.4940</td> <td>    0.042</td> <td>   11.690</td> <td> 0.000</td> <td>    0.411</td> <td>    0.577</td>\n",
       "</tr>\n",
       "<tr>\n",
       "  <th>NFA_2_Sproggie</th>     <td>    0.2915</td> <td>    0.046</td> <td>    6.293</td> <td> 0.000</td> <td>    0.201</td> <td>    0.382</td>\n",
       "</tr>\n",
       "<tr>\n",
       "  <th>NFA_3_Orvinn</th>       <td>    0.3280</td> <td>    0.065</td> <td>    5.045</td> <td> 0.000</td> <td>    0.201</td> <td>    0.455</td>\n",
       "</tr>\n",
       "<tr>\n",
       "  <th>NFA_4_Lucky</th>        <td>    0.5623</td> <td>    0.051</td> <td>   11.116</td> <td> 0.000</td> <td>    0.463</td> <td>    0.661</td>\n",
       "</tr>\n",
       "<tr>\n",
       "  <th>NFA_5_Edmund</th>       <td>    0.3678</td> <td>    0.052</td> <td>    7.050</td> <td> 0.000</td> <td>    0.266</td> <td>    0.470</td>\n",
       "</tr>\n",
       "<tr>\n",
       "  <th>NFA_6_Peg Leg</th>      <td>    0.4205</td> <td>    0.067</td> <td>    6.296</td> <td> 0.000</td> <td>    0.290</td> <td>    0.551</td>\n",
       "</tr>\n",
       "<tr>\n",
       "  <th>NFA_7_Bonnie</th>       <td>    0.2682</td> <td>    0.055</td> <td>    4.896</td> <td> 0.000</td> <td>    0.161</td> <td>    0.376</td>\n",
       "</tr>\n",
       "<tr>\n",
       "  <th>NFA_8_Puffo</th>        <td>    0.2967</td> <td>    0.054</td> <td>    5.490</td> <td> 0.000</td> <td>    0.191</td> <td>    0.403</td>\n",
       "</tr>\n",
       "<tr>\n",
       "  <th>NFA_9_Stuff</th>        <td>    0.2230</td> <td>    0.095</td> <td>    2.347</td> <td> 0.019</td> <td>    0.037</td> <td>    0.409</td>\n",
       "</tr>\n",
       "<tr>\n",
       "  <th>NFA_10_Squire</th>      <td>    0.3784</td> <td>    0.084</td> <td>    4.508</td> <td> 0.000</td> <td>    0.214</td> <td>    0.543</td>\n",
       "</tr>\n",
       "<tr>\n",
       "  <th>NFA_11_Crossblades</th> <td>    0.3944</td> <td>    0.076</td> <td>    5.195</td> <td> 0.000</td> <td>    0.246</td> <td>    0.543</td>\n",
       "</tr>\n",
       "<tr>\n",
       "  <th>NFA_12_Stripey</th>     <td>    0.4975</td> <td>    0.057</td> <td>    8.786</td> <td> 0.000</td> <td>    0.387</td> <td>    0.608</td>\n",
       "</tr>\n",
       "<tr>\n",
       "  <th>NFA_13_Ned</th>         <td>    0.4741</td> <td>    0.044</td> <td>   10.887</td> <td> 0.000</td> <td>    0.389</td> <td>    0.559</td>\n",
       "</tr>\n",
       "<tr>\n",
       "  <th>NFA_14_Fairfax</th>     <td>    0.3611</td> <td>    0.061</td> <td>    5.929</td> <td> 0.000</td> <td>    0.242</td> <td>    0.480</td>\n",
       "</tr>\n",
       "<tr>\n",
       "  <th>NFA_15_Gooblah</th>     <td>    0.5147</td> <td>    0.046</td> <td>   11.145</td> <td> 0.000</td> <td>    0.424</td> <td>    0.605</td>\n",
       "</tr>\n",
       "<tr>\n",
       "  <th>NFA_16_Franchisco</th>  <td>    0.4232</td> <td>    0.044</td> <td>    9.533</td> <td> 0.000</td> <td>    0.336</td> <td>    0.510</td>\n",
       "</tr>\n",
       "<tr>\n",
       "  <th>NFA_17_Federismo</th>   <td>    0.4805</td> <td>    0.049</td> <td>    9.902</td> <td> 0.000</td> <td>    0.385</td> <td>    0.576</td>\n",
       "</tr>\n",
       "<tr>\n",
       "  <th>NFA_18_Blackbeard</th>  <td>    0.4537</td> <td>    0.052</td> <td>    8.779</td> <td> 0.000</td> <td>    0.352</td> <td>    0.555</td>\n",
       "</tr>\n",
       "<tr>\n",
       "  <th>NFA_19_Buck</th>        <td>    0.3896</td> <td>    0.039</td> <td>    9.969</td> <td> 0.000</td> <td>    0.313</td> <td>    0.466</td>\n",
       "</tr>\n",
       "<tr>\n",
       "  <th>NFA_20_Tailhook</th>    <td>    0.3593</td> <td>    0.050</td> <td>    7.226</td> <td> 0.000</td> <td>    0.262</td> <td>    0.457</td>\n",
       "</tr>\n",
       "<tr>\n",
       "  <th>is_pos1</th>            <td>   -0.1821</td> <td>    0.027</td> <td>   -6.730</td> <td> 0.000</td> <td>   -0.235</td> <td>   -0.129</td>\n",
       "</tr>\n",
       "<tr>\n",
       "  <th>is_pos3</th>            <td>    0.2814</td> <td>    0.025</td> <td>   11.266</td> <td> 0.000</td> <td>    0.232</td> <td>    0.330</td>\n",
       "</tr>\n",
       "<tr>\n",
       "  <th>is_pos4</th>            <td>    0.5523</td> <td>    0.024</td> <td>   22.868</td> <td> 0.000</td> <td>    0.505</td> <td>    0.600</td>\n",
       "</tr>\n",
       "</table>"
      ],
      "text/plain": [
       "<class 'statsmodels.iolib.summary.Summary'>\n",
       "\"\"\"\n",
       "                     Multinomial Logit Model Regression Results                    \n",
       "===================================================================================\n",
       "Dep. Variable:                         win   No. Observations:               16,845\n",
       "Model:             Multinomial Logit Model   Df Residuals:                   16,783\n",
       "Method:                                MLE   Df Model:                           62\n",
       "Date:                     Wed, 04 Jan 2023   Pseudo R-squ.:                   0.225\n",
       "Time:                             20:52:46   Pseudo R-bar-squ.:               0.223\n",
       "AIC:                            36,310.025   Log-Likelihood:            -18,093.012\n",
       "BIC:                            36,789.397   LL-Null:                   -23,352.129\n",
       "======================================================================================\n",
       "                         coef    std err          z      P>|z|      [0.025      0.975]\n",
       "--------------------------------------------------------------------------------------\n",
       "ASC_2_Sproggie        -1.7172      0.170    -10.080      0.000      -2.051      -1.383\n",
       "ASC_3_Orvinn          -2.6557      0.205    -12.951      0.000      -3.058      -2.254\n",
       "ASC_4_Lucky           -0.5649      0.126     -4.487      0.000      -0.812      -0.318\n",
       "ASC_5_Edmund          -1.0848      0.128     -8.448      0.000      -1.337      -0.833\n",
       "ASC_6_Peg Leg         -1.7609      0.137    -12.830      0.000      -2.030      -1.492\n",
       "ASC_7_Bonnie          -1.5237      0.144    -10.578      0.000      -1.806      -1.241\n",
       "ASC_8_Puffo           -2.3337      0.205    -11.369      0.000      -2.736      -1.931\n",
       "ASC_9_Stuff           -3.1271      0.192    -16.313      0.000      -3.503      -2.751\n",
       "ASC_10_Squire         -2.5223      0.164    -15.374      0.000      -2.844      -2.201\n",
       "ASC_11_Crossblades    -2.1477      0.168    -12.757      0.000      -2.478      -1.818\n",
       "ASC_12_Stripey        -1.3767      0.145     -9.478      0.000      -1.661      -1.092\n",
       "ASC_13_Ned            -0.8082      0.144     -5.594      0.000      -1.091      -0.525\n",
       "ASC_14_Fairfax        -1.8138      0.158    -11.466      0.000      -2.124      -1.504\n",
       "ASC_15_Gooblah         0.6469      0.127      5.101      0.000       0.398       0.895\n",
       "ASC_16_Franchisco     -0.6474      0.134     -4.814      0.000      -0.911      -0.384\n",
       "ASC_17_Federismo      -0.5100      0.134     -3.815      0.000      -0.772      -0.248\n",
       "ASC_18_Blackbeard     -1.3606      0.150     -9.049      0.000      -1.655      -1.066\n",
       "ASC_19_Buck            0.1630      0.125      1.302      0.193      -0.082       0.408\n",
       "ASC_20_Tailhook       -0.8270      0.130     -6.383      0.000      -1.081      -0.573\n",
       "PFA_1_Dan              0.1719      0.023      7.563      0.000       0.127       0.216\n",
       "PFA_2_Sproggie         0.2563      0.035      7.270      0.000       0.187       0.325\n",
       "PFA_3_Orvinn           0.2549      0.041      6.205      0.000       0.174       0.335\n",
       "PFA_4_Lucky            0.1597      0.040      3.944      0.000       0.080       0.239\n",
       "PFA_5_Edmund           0.2659      0.039      6.810      0.000       0.189       0.342\n",
       "PFA_6_Peg Leg          0.3145      0.061      5.176      0.000       0.195       0.434\n",
       "PFA_7_Bonnie           0.2449      0.037      6.656      0.000       0.173       0.317\n",
       "PFA_8_Puffo            0.2894      0.040      7.291      0.000       0.212       0.367\n",
       "PFA_9_Stuff            0.3941      0.078      5.063      0.000       0.242       0.547\n",
       "PFA_10_Squire          0.2337      0.083      2.810      0.005       0.071       0.397\n",
       "PFA_11_Crossblades     0.1587      0.047      3.350      0.001       0.066       0.252\n",
       "PFA_12_Stripey         0.2070      0.033      6.201      0.000       0.142       0.272\n",
       "PFA_13_Ned             0.2110      0.038      5.500      0.000       0.136       0.286\n",
       "PFA_14_Fairfax         0.2438      0.035      6.949      0.000       0.175       0.313\n",
       "PFA_15_Gooblah         0.2901      0.035      8.394      0.000       0.222       0.358\n",
       "PFA_16_Franchisco      0.1926      0.027      7.214      0.000       0.140       0.245\n",
       "PFA_17_Federismo       0.1647      0.024      6.729      0.000       0.117       0.213\n",
       "PFA_18_Blackbeard      0.1765      0.040      4.371      0.000       0.097       0.256\n",
       "PFA_19_Buck            0.2427      0.041      5.886      0.000       0.162       0.324\n",
       "PFA_20_Tailhook        0.2611      0.040      6.489      0.000       0.182       0.340\n",
       "NFA_1_Dan              0.4940      0.042     11.690      0.000       0.411       0.577\n",
       "NFA_2_Sproggie         0.2915      0.046      6.293      0.000       0.201       0.382\n",
       "NFA_3_Orvinn           0.3280      0.065      5.045      0.000       0.201       0.455\n",
       "NFA_4_Lucky            0.5623      0.051     11.116      0.000       0.463       0.661\n",
       "NFA_5_Edmund           0.3678      0.052      7.050      0.000       0.266       0.470\n",
       "NFA_6_Peg Leg          0.4205      0.067      6.296      0.000       0.290       0.551\n",
       "NFA_7_Bonnie           0.2682      0.055      4.896      0.000       0.161       0.376\n",
       "NFA_8_Puffo            0.2967      0.054      5.490      0.000       0.191       0.403\n",
       "NFA_9_Stuff            0.2230      0.095      2.347      0.019       0.037       0.409\n",
       "NFA_10_Squire          0.3784      0.084      4.508      0.000       0.214       0.543\n",
       "NFA_11_Crossblades     0.3944      0.076      5.195      0.000       0.246       0.543\n",
       "NFA_12_Stripey         0.4975      0.057      8.786      0.000       0.387       0.608\n",
       "NFA_13_Ned             0.4741      0.044     10.887      0.000       0.389       0.559\n",
       "NFA_14_Fairfax         0.3611      0.061      5.929      0.000       0.242       0.480\n",
       "NFA_15_Gooblah         0.5147      0.046     11.145      0.000       0.424       0.605\n",
       "NFA_16_Franchisco      0.4232      0.044      9.533      0.000       0.336       0.510\n",
       "NFA_17_Federismo       0.4805      0.049      9.902      0.000       0.385       0.576\n",
       "NFA_18_Blackbeard      0.4537      0.052      8.779      0.000       0.352       0.555\n",
       "NFA_19_Buck            0.3896      0.039      9.969      0.000       0.313       0.466\n",
       "NFA_20_Tailhook        0.3593      0.050      7.226      0.000       0.262       0.457\n",
       "is_pos1               -0.1821      0.027     -6.730      0.000      -0.235      -0.129\n",
       "is_pos3                0.2814      0.025     11.266      0.000       0.232       0.330\n",
       "is_pos4                0.5523      0.024     22.868      0.000       0.505       0.600\n",
       "======================================================================================\n",
       "\"\"\""
      ]
     },
     "execution_count": 198,
     "metadata": {},
     "output_type": "execute_result"
    }
   ],
   "source": [
    "# next we split FA coefficients for each pirate\n",
    "per_pirate_fa_specification = OrderedDict()\n",
    "per_pirate_fa_names = OrderedDict()\n",
    "per_pirate_fa_specification[\"intercept\"] = pirates_except_the_first\n",
    "per_pirate_fa_names[\"intercept\"] = [f'ASC_{i}_{PIRATE_NAMES[i]}' for i in pirates_except_the_first]\n",
    "per_pirate_fa_specification[\"pfa\"] = pirates_including_the_first\n",
    "per_pirate_fa_names[\"pfa\"] = [f'PFA_{i}_{PIRATE_NAMES[i]}' for i in pirates_including_the_first]\n",
    "per_pirate_fa_specification[\"nfa\"] = pirates_including_the_first\n",
    "per_pirate_fa_names[\"nfa\"] = [f'NFA_{i}_{PIRATE_NAMES[i]}' for i in pirates_including_the_first]\n",
    "per_pirate_fa_specification[\"is_pos1\"] = [pirates_including_the_first]\n",
    "per_pirate_fa_names[\"is_pos1\"] = ['is_pos1']\n",
    "# per_pirate_fa_specification[\"is_pos2\"] = [pirates_including_the_first]\n",
    "# per_pirate_fa_names[\"is_pos2\"] = ['is_pos2']\n",
    "per_pirate_fa_specification[\"is_pos3\"] = [pirates_including_the_first]\n",
    "per_pirate_fa_names[\"is_pos3\"] = ['is_pos3']\n",
    "per_pirate_fa_specification[\"is_pos4\"] = [pirates_including_the_first]\n",
    "per_pirate_fa_names[\"is_pos4\"] = ['is_pos4']\n",
    "\n",
    "per_pirate_fa_mnl = pl.create_choice_model(data=long_format,\n",
    "alt_id_col='pirate',\n",
    "obs_id_col='match_id',\n",
    "choice_col='win',\n",
    "specification=per_pirate_fa_specification,\n",
    "model_type='MNL',\n",
    "names=per_pirate_fa_names)\n",
    "per_pirate_fa_mnl.fit_mle(np.zeros(62))\n",
    "per_pirate_fa_mnl.get_statsmodels_summary()"
   ]
  },
  {
   "cell_type": "code",
   "execution_count": 191,
   "metadata": {},
   "outputs": [
    {
     "name": "stderr",
     "output_type": "stream",
     "text": [
      "100%|██████████| 3369/3369 [03:30<00:00, 16.00it/s]\n"
     ]
    },
    {
     "data": {
      "text/plain": [
       "(33684, 33690, 106976, 73292, 3.175482338972989)"
      ]
     },
     "execution_count": 191,
     "metadata": {},
     "output_type": "execute_result"
    }
   ],
   "source": [
    "backtest_model_with_cap(per_pirate_fa_mnl, 1, history_rounds)"
   ]
  },
  {
   "cell_type": "code",
   "execution_count": 192,
   "metadata": {},
   "outputs": [
    {
     "name": "stderr",
     "output_type": "stream",
     "text": [
      "100%|██████████| 3369/3369 [03:13<00:00, 17.39it/s]\n"
     ]
    },
    {
     "data": {
      "text/plain": [
       "(326864356, 336900000, 696148633, 369284277, 2.096124300979519)"
      ]
     },
     "execution_count": 192,
     "metadata": {},
     "output_type": "execute_result"
    }
   ],
   "source": [
    "backtest_model_with_cap(per_pirate_fa_mnl, 10000, history_rounds)"
   ]
  },
  {
   "cell_type": "code",
   "execution_count": 202,
   "metadata": {},
   "outputs": [
    {
     "name": "stdout",
     "output_type": "stream",
     "text": [
      "Log-likelihood at zero: -23,352.1285\n",
      "Initial Log-likelihood: -23,352.1285\n"
     ]
    },
    {
     "name": "stderr",
     "output_type": "stream",
     "text": [
      "/home/arsdragonfly/neofoodclub/envs/default/lib/python3.10/site-packages/scipy/optimize/_minimize.py:555: RuntimeWarning: Method BFGS does not use Hessian information (hess).\n",
      "  warn('Method %s does not use Hessian information (hess).' % method,\n"
     ]
    },
    {
     "name": "stdout",
     "output_type": "stream",
     "text": [
      "Estimation Time for Point Estimation: 6.31 seconds.\n",
      "Final log-likelihood: -18,078.1295\n"
     ]
    },
    {
     "data": {
      "text/html": [
       "<table class=\"simpletable\">\n",
       "<caption>Multinomial Logit Model Regression Results</caption>\n",
       "<tr>\n",
       "  <th>Dep. Variable:</th>           <td>win</td>           <th>  No. Observations:  </th>   <td>16,845</td>   \n",
       "</tr>\n",
       "<tr>\n",
       "  <th>Model:</th>         <td>Multinomial Logit Model</td> <th>  Df Residuals:      </th>   <td>16,766</td>   \n",
       "</tr>\n",
       "<tr>\n",
       "  <th>Method:</th>                  <td>MLE</td>           <th>  Df Model:          </th>     <td>79</td>     \n",
       "</tr>\n",
       "<tr>\n",
       "  <th>Date:</th>             <td>Wed, 04 Jan 2023</td>     <th>  Pseudo R-squ.:     </th>    <td>0.226</td>   \n",
       "</tr>\n",
       "<tr>\n",
       "  <th>Time:</th>                 <td>21:13:26</td>         <th>  Pseudo R-bar-squ.: </th>    <td>0.222</td>   \n",
       "</tr>\n",
       "<tr>\n",
       "  <th>AIC:</th>                 <td>36,314.259</td>        <th>  Log-Likelihood:    </th> <td>-18,078.129</td>\n",
       "</tr>\n",
       "<tr>\n",
       "  <th>BIC:</th>                 <td>36,925.072</td>        <th>  LL-Null:           </th> <td>-23,352.129</td>\n",
       "</tr>\n",
       "</table>\n",
       "<table class=\"simpletable\">\n",
       "<tr>\n",
       "                 <td></td>                   <th>coef</th>     <th>std err</th>      <th>z</th>      <th>P>|z|</th>  <th>[0.025</th>    <th>0.975]</th>  \n",
       "</tr>\n",
       "<tr>\n",
       "  <th>ASC_1_Dan</th>                      <td>   -0.6198</td> <td>    0.130</td> <td>   -4.763</td> <td> 0.000</td> <td>   -0.875</td> <td>   -0.365</td>\n",
       "</tr>\n",
       "<tr>\n",
       "  <th>ASC_2_Sproggie</th>                 <td>   -2.3731</td> <td>    0.175</td> <td>  -13.545</td> <td> 0.000</td> <td>   -2.717</td> <td>   -2.030</td>\n",
       "</tr>\n",
       "<tr>\n",
       "  <th>ASC_3_Orvinn</th>                   <td>   -3.3557</td> <td>    0.212</td> <td>  -15.861</td> <td> 0.000</td> <td>   -3.770</td> <td>   -2.941</td>\n",
       "</tr>\n",
       "<tr>\n",
       "  <th>ASC_4_Lucky</th>                    <td>   -1.2663</td> <td>    0.130</td> <td>   -9.723</td> <td> 0.000</td> <td>   -1.522</td> <td>   -1.011</td>\n",
       "</tr>\n",
       "<tr>\n",
       "  <th>ASC_5_Edmund</th>                   <td>   -1.7855</td> <td>    0.133</td> <td>  -13.471</td> <td> 0.000</td> <td>   -2.045</td> <td>   -1.526</td>\n",
       "</tr>\n",
       "<tr>\n",
       "  <th>ASC_6_Peg Leg</th>                  <td>   -2.4166</td> <td>    0.143</td> <td>  -16.944</td> <td> 0.000</td> <td>   -2.696</td> <td>   -2.137</td>\n",
       "</tr>\n",
       "<tr>\n",
       "  <th>ASC_7_Bonnie</th>                   <td>   -2.1906</td> <td>    0.150</td> <td>  -14.649</td> <td> 0.000</td> <td>   -2.484</td> <td>   -1.897</td>\n",
       "</tr>\n",
       "<tr>\n",
       "  <th>ASC_8_Puffo</th>                    <td>   -2.9591</td> <td>    0.210</td> <td>  -14.098</td> <td> 0.000</td> <td>   -3.370</td> <td>   -2.548</td>\n",
       "</tr>\n",
       "<tr>\n",
       "  <th>ASC_9_Stuff</th>                    <td>   -3.8389</td> <td>    0.204</td> <td>  -18.819</td> <td> 0.000</td> <td>   -4.239</td> <td>   -3.439</td>\n",
       "</tr>\n",
       "<tr>\n",
       "  <th>ASC_10_Squire</th>                  <td>   -3.2848</td> <td>    0.180</td> <td>  -18.290</td> <td> 0.000</td> <td>   -3.637</td> <td>   -2.933</td>\n",
       "</tr>\n",
       "<tr>\n",
       "  <th>ASC_11_Crossblades</th>             <td>   -2.8585</td> <td>    0.175</td> <td>  -16.306</td> <td> 0.000</td> <td>   -3.202</td> <td>   -2.515</td>\n",
       "</tr>\n",
       "<tr>\n",
       "  <th>ASC_12_Stripey</th>                 <td>   -2.1179</td> <td>    0.149</td> <td>  -14.168</td> <td> 0.000</td> <td>   -2.411</td> <td>   -1.825</td>\n",
       "</tr>\n",
       "<tr>\n",
       "  <th>ASC_13_Ned</th>                     <td>   -1.5461</td> <td>    0.148</td> <td>  -10.437</td> <td> 0.000</td> <td>   -1.836</td> <td>   -1.256</td>\n",
       "</tr>\n",
       "<tr>\n",
       "  <th>ASC_14_Fairfax</th>                 <td>   -2.5004</td> <td>    0.163</td> <td>  -15.332</td> <td> 0.000</td> <td>   -2.820</td> <td>   -2.181</td>\n",
       "</tr>\n",
       "<tr>\n",
       "  <th>ASC_16_Franchisco</th>              <td>   -1.3108</td> <td>    0.139</td> <td>   -9.451</td> <td> 0.000</td> <td>   -1.583</td> <td>   -1.039</td>\n",
       "</tr>\n",
       "<tr>\n",
       "  <th>ASC_17_Federismo</th>               <td>   -1.1296</td> <td>    0.136</td> <td>   -8.288</td> <td> 0.000</td> <td>   -1.397</td> <td>   -0.862</td>\n",
       "</tr>\n",
       "<tr>\n",
       "  <th>ASC_18_Blackbeard</th>              <td>   -2.0534</td> <td>    0.154</td> <td>  -13.327</td> <td> 0.000</td> <td>   -2.355</td> <td>   -1.751</td>\n",
       "</tr>\n",
       "<tr>\n",
       "  <th>ASC_19_Buck</th>                    <td>   -0.5117</td> <td>    0.129</td> <td>   -3.961</td> <td> 0.000</td> <td>   -0.765</td> <td>   -0.259</td>\n",
       "</tr>\n",
       "<tr>\n",
       "  <th>ASC_20_Tailhook</th>                <td>   -1.5502</td> <td>    0.132</td> <td>  -11.724</td> <td> 0.000</td> <td>   -1.809</td> <td>   -1.291</td>\n",
       "</tr>\n",
       "<tr>\n",
       "  <th>PFA_1_Dan</th>                      <td>    0.1701</td> <td>    0.023</td> <td>    7.519</td> <td> 0.000</td> <td>    0.126</td> <td>    0.214</td>\n",
       "</tr>\n",
       "<tr>\n",
       "  <th>PFA_2_Sproggie</th>                 <td>    0.2553</td> <td>    0.035</td> <td>    7.239</td> <td> 0.000</td> <td>    0.186</td> <td>    0.324</td>\n",
       "</tr>\n",
       "<tr>\n",
       "  <th>PFA_3_Orvinn</th>                   <td>    0.2560</td> <td>    0.041</td> <td>    6.215</td> <td> 0.000</td> <td>    0.175</td> <td>    0.337</td>\n",
       "</tr>\n",
       "<tr>\n",
       "  <th>PFA_4_Lucky</th>                    <td>    0.1616</td> <td>    0.041</td> <td>    3.971</td> <td> 0.000</td> <td>    0.082</td> <td>    0.241</td>\n",
       "</tr>\n",
       "<tr>\n",
       "  <th>PFA_5_Edmund</th>                   <td>    0.2680</td> <td>    0.039</td> <td>    6.842</td> <td> 0.000</td> <td>    0.191</td> <td>    0.345</td>\n",
       "</tr>\n",
       "<tr>\n",
       "  <th>PFA_6_Peg Leg</th>                  <td>    0.3154</td> <td>    0.061</td> <td>    5.195</td> <td> 0.000</td> <td>    0.196</td> <td>    0.434</td>\n",
       "</tr>\n",
       "<tr>\n",
       "  <th>PFA_7_Bonnie</th>                   <td>    0.2449</td> <td>    0.037</td> <td>    6.654</td> <td> 0.000</td> <td>    0.173</td> <td>    0.317</td>\n",
       "</tr>\n",
       "<tr>\n",
       "  <th>PFA_8_Puffo</th>                    <td>    0.2885</td> <td>    0.040</td> <td>    7.285</td> <td> 0.000</td> <td>    0.211</td> <td>    0.366</td>\n",
       "</tr>\n",
       "<tr>\n",
       "  <th>PFA_9_Stuff</th>                    <td>    0.3963</td> <td>    0.078</td> <td>    5.085</td> <td> 0.000</td> <td>    0.244</td> <td>    0.549</td>\n",
       "</tr>\n",
       "<tr>\n",
       "  <th>PFA_10_Squire</th>                  <td>    0.2337</td> <td>    0.083</td> <td>    2.802</td> <td> 0.005</td> <td>    0.070</td> <td>    0.397</td>\n",
       "</tr>\n",
       "<tr>\n",
       "  <th>PFA_11_Crossblades</th>             <td>    0.1577</td> <td>    0.047</td> <td>    3.324</td> <td> 0.001</td> <td>    0.065</td> <td>    0.251</td>\n",
       "</tr>\n",
       "<tr>\n",
       "  <th>PFA_12_Stripey</th>                 <td>    0.2098</td> <td>    0.034</td> <td>    6.245</td> <td> 0.000</td> <td>    0.144</td> <td>    0.276</td>\n",
       "</tr>\n",
       "<tr>\n",
       "  <th>PFA_13_Ned</th>                     <td>    0.2147</td> <td>    0.039</td> <td>    5.559</td> <td> 0.000</td> <td>    0.139</td> <td>    0.290</td>\n",
       "</tr>\n",
       "<tr>\n",
       "  <th>PFA_14_Fairfax</th>                 <td>    0.2452</td> <td>    0.035</td> <td>    6.977</td> <td> 0.000</td> <td>    0.176</td> <td>    0.314</td>\n",
       "</tr>\n",
       "<tr>\n",
       "  <th>PFA_15_Gooblah</th>                 <td>    0.2881</td> <td>    0.034</td> <td>    8.365</td> <td> 0.000</td> <td>    0.221</td> <td>    0.356</td>\n",
       "</tr>\n",
       "<tr>\n",
       "  <th>PFA_16_Franchisco</th>              <td>    0.1925</td> <td>    0.027</td> <td>    7.214</td> <td> 0.000</td> <td>    0.140</td> <td>    0.245</td>\n",
       "</tr>\n",
       "<tr>\n",
       "  <th>PFA_17_Federismo</th>               <td>    0.1639</td> <td>    0.024</td> <td>    6.725</td> <td> 0.000</td> <td>    0.116</td> <td>    0.212</td>\n",
       "</tr>\n",
       "<tr>\n",
       "  <th>PFA_18_Blackbeard</th>              <td>    0.1762</td> <td>    0.040</td> <td>    4.355</td> <td> 0.000</td> <td>    0.097</td> <td>    0.255</td>\n",
       "</tr>\n",
       "<tr>\n",
       "  <th>PFA_19_Buck</th>                    <td>    0.2420</td> <td>    0.041</td> <td>    5.872</td> <td> 0.000</td> <td>    0.161</td> <td>    0.323</td>\n",
       "</tr>\n",
       "<tr>\n",
       "  <th>PFA_20_Tailhook</th>                <td>    0.2618</td> <td>    0.040</td> <td>    6.473</td> <td> 0.000</td> <td>    0.183</td> <td>    0.341</td>\n",
       "</tr>\n",
       "<tr>\n",
       "  <th>NFA_1_Dan</th>                      <td>    0.4897</td> <td>    0.042</td> <td>   11.648</td> <td> 0.000</td> <td>    0.407</td> <td>    0.572</td>\n",
       "</tr>\n",
       "<tr>\n",
       "  <th>NFA_2_Sproggie</th>                 <td>    0.2915</td> <td>    0.046</td> <td>    6.299</td> <td> 0.000</td> <td>    0.201</td> <td>    0.382</td>\n",
       "</tr>\n",
       "<tr>\n",
       "  <th>NFA_3_Orvinn</th>                   <td>    0.3312</td> <td>    0.065</td> <td>    5.077</td> <td> 0.000</td> <td>    0.203</td> <td>    0.459</td>\n",
       "</tr>\n",
       "<tr>\n",
       "  <th>NFA_4_Lucky</th>                    <td>    0.5644</td> <td>    0.051</td> <td>   11.105</td> <td> 0.000</td> <td>    0.465</td> <td>    0.664</td>\n",
       "</tr>\n",
       "<tr>\n",
       "  <th>NFA_5_Edmund</th>                   <td>    0.3686</td> <td>    0.052</td> <td>    7.041</td> <td> 0.000</td> <td>    0.266</td> <td>    0.471</td>\n",
       "</tr>\n",
       "<tr>\n",
       "  <th>NFA_6_Peg Leg</th>                  <td>    0.4198</td> <td>    0.067</td> <td>    6.291</td> <td> 0.000</td> <td>    0.289</td> <td>    0.551</td>\n",
       "</tr>\n",
       "<tr>\n",
       "  <th>NFA_7_Bonnie</th>                   <td>    0.2667</td> <td>    0.055</td> <td>    4.868</td> <td> 0.000</td> <td>    0.159</td> <td>    0.374</td>\n",
       "</tr>\n",
       "<tr>\n",
       "  <th>NFA_8_Puffo</th>                    <td>    0.2946</td> <td>    0.054</td> <td>    5.466</td> <td> 0.000</td> <td>    0.189</td> <td>    0.400</td>\n",
       "</tr>\n",
       "<tr>\n",
       "  <th>NFA_9_Stuff</th>                    <td>    0.2232</td> <td>    0.095</td> <td>    2.348</td> <td> 0.019</td> <td>    0.037</td> <td>    0.410</td>\n",
       "</tr>\n",
       "<tr>\n",
       "  <th>NFA_10_Squire</th>                  <td>    0.3781</td> <td>    0.084</td> <td>    4.489</td> <td> 0.000</td> <td>    0.213</td> <td>    0.543</td>\n",
       "</tr>\n",
       "<tr>\n",
       "  <th>NFA_11_Crossblades</th>             <td>    0.3956</td> <td>    0.076</td> <td>    5.196</td> <td> 0.000</td> <td>    0.246</td> <td>    0.545</td>\n",
       "</tr>\n",
       "<tr>\n",
       "  <th>NFA_12_Stripey</th>                 <td>    0.4962</td> <td>    0.057</td> <td>    8.721</td> <td> 0.000</td> <td>    0.385</td> <td>    0.608</td>\n",
       "</tr>\n",
       "<tr>\n",
       "  <th>NFA_13_Ned</th>                     <td>    0.4783</td> <td>    0.044</td> <td>   10.914</td> <td> 0.000</td> <td>    0.392</td> <td>    0.564</td>\n",
       "</tr>\n",
       "<tr>\n",
       "  <th>NFA_14_Fairfax</th>                 <td>    0.3615</td> <td>    0.061</td> <td>    5.930</td> <td> 0.000</td> <td>    0.242</td> <td>    0.481</td>\n",
       "</tr>\n",
       "<tr>\n",
       "  <th>NFA_15_Gooblah</th>                 <td>    0.5079</td> <td>    0.046</td> <td>   11.019</td> <td> 0.000</td> <td>    0.418</td> <td>    0.598</td>\n",
       "</tr>\n",
       "<tr>\n",
       "  <th>NFA_16_Franchisco</th>              <td>    0.4232</td> <td>    0.044</td> <td>    9.537</td> <td> 0.000</td> <td>    0.336</td> <td>    0.510</td>\n",
       "</tr>\n",
       "<tr>\n",
       "  <th>NFA_17_Federismo</th>               <td>    0.4745</td> <td>    0.048</td> <td>    9.816</td> <td> 0.000</td> <td>    0.380</td> <td>    0.569</td>\n",
       "</tr>\n",
       "<tr>\n",
       "  <th>NFA_18_Blackbeard</th>              <td>    0.4552</td> <td>    0.052</td> <td>    8.782</td> <td> 0.000</td> <td>    0.354</td> <td>    0.557</td>\n",
       "</tr>\n",
       "<tr>\n",
       "  <th>NFA_19_Buck</th>                    <td>    0.3896</td> <td>    0.039</td> <td>    9.967</td> <td> 0.000</td> <td>    0.313</td> <td>    0.466</td>\n",
       "</tr>\n",
       "<tr>\n",
       "  <th>NFA_20_Tailhook</th>                <td>    0.3636</td> <td>    0.050</td> <td>    7.266</td> <td> 0.000</td> <td>    0.265</td> <td>    0.462</td>\n",
       "</tr>\n",
       "<tr>\n",
       "  <th>position_factor_1_Dan</th>          <td>    0.6664</td> <td>    0.137</td> <td>    4.875</td> <td> 0.000</td> <td>    0.398</td> <td>    0.934</td>\n",
       "</tr>\n",
       "<tr>\n",
       "  <th>position_factor_2_Sproggie</th>     <td>    0.9278</td> <td>    0.165</td> <td>    5.609</td> <td> 0.000</td> <td>    0.604</td> <td>    1.252</td>\n",
       "</tr>\n",
       "<tr>\n",
       "  <th>position_factor_3_Orvinn</th>       <td>    1.1018</td> <td>    0.206</td> <td>    5.351</td> <td> 0.000</td> <td>    0.698</td> <td>    1.505</td>\n",
       "</tr>\n",
       "<tr>\n",
       "  <th>position_factor_4_Lucky</th>        <td>    1.1284</td> <td>    0.150</td> <td>    7.534</td> <td> 0.000</td> <td>    0.835</td> <td>    1.422</td>\n",
       "</tr>\n",
       "<tr>\n",
       "  <th>position_factor_5_Edmund</th>       <td>    1.1082</td> <td>    0.150</td> <td>    7.404</td> <td> 0.000</td> <td>    0.815</td> <td>    1.402</td>\n",
       "</tr>\n",
       "<tr>\n",
       "  <th>position_factor_6_Peg Leg</th>      <td>    0.9140</td> <td>    0.184</td> <td>    4.973</td> <td> 0.000</td> <td>    0.554</td> <td>    1.274</td>\n",
       "</tr>\n",
       "<tr>\n",
       "  <th>position_factor_7_Bonnie</th>       <td>    0.9572</td> <td>    0.157</td> <td>    6.103</td> <td> 0.000</td> <td>    0.650</td> <td>    1.265</td>\n",
       "</tr>\n",
       "<tr>\n",
       "  <th>position_factor_8_Puffo</th>        <td>    0.7770</td> <td>    0.192</td> <td>    4.054</td> <td> 0.000</td> <td>    0.401</td> <td>    1.153</td>\n",
       "</tr>\n",
       "<tr>\n",
       "  <th>position_factor_9_Stuff</th>        <td>    1.1319</td> <td>    0.272</td> <td>    4.158</td> <td> 0.000</td> <td>    0.598</td> <td>    1.665</td>\n",
       "</tr>\n",
       "<tr>\n",
       "  <th>position_factor_10_Squire</th>      <td>    1.3217</td> <td>    0.262</td> <td>    5.052</td> <td> 0.000</td> <td>    0.809</td> <td>    1.834</td>\n",
       "</tr>\n",
       "<tr>\n",
       "  <th>position_factor_11_Crossblades</th> <td>    1.1544</td> <td>    0.209</td> <td>    5.535</td> <td> 0.000</td> <td>    0.746</td> <td>    1.563</td>\n",
       "</tr>\n",
       "<tr>\n",
       "  <th>position_factor_12_Stripey</th>     <td>    1.2610</td> <td>    0.160</td> <td>    7.891</td> <td> 0.000</td> <td>    0.948</td> <td>    1.574</td>\n",
       "</tr>\n",
       "<tr>\n",
       "  <th>position_factor_13_Ned</th>         <td>    1.3040</td> <td>    0.157</td> <td>    8.289</td> <td> 0.000</td> <td>    0.996</td> <td>    1.612</td>\n",
       "</tr>\n",
       "<tr>\n",
       "  <th>position_factor_14_Fairfax</th>     <td>    1.0440</td> <td>    0.168</td> <td>    6.198</td> <td> 0.000</td> <td>    0.714</td> <td>    1.374</td>\n",
       "</tr>\n",
       "<tr>\n",
       "  <th>position_factor_15_Gooblah</th>     <td>    0.7602</td> <td>    0.141</td> <td>    5.395</td> <td> 0.000</td> <td>    0.484</td> <td>    1.036</td>\n",
       "</tr>\n",
       "<tr>\n",
       "  <th>position_factor_16_Franchisco</th>  <td>    0.9412</td> <td>    0.141</td> <td>    6.657</td> <td> 0.000</td> <td>    0.664</td> <td>    1.218</td>\n",
       "</tr>\n",
       "<tr>\n",
       "  <th>position_factor_17_Federismo</th>   <td>    0.6753</td> <td>    0.137</td> <td>    4.933</td> <td> 0.000</td> <td>    0.407</td> <td>    0.944</td>\n",
       "</tr>\n",
       "<tr>\n",
       "  <th>position_factor_18_Blackbeard</th>  <td>    1.0950</td> <td>    0.176</td> <td>    6.222</td> <td> 0.000</td> <td>    0.750</td> <td>    1.440</td>\n",
       "</tr>\n",
       "<tr>\n",
       "  <th>position_factor_19_Buck</th>        <td>    1.0004</td> <td>    0.136</td> <td>    7.342</td> <td> 0.000</td> <td>    0.733</td> <td>    1.267</td>\n",
       "</tr>\n",
       "<tr>\n",
       "  <th>position_factor_20_Tailhook</th>    <td>    1.2521</td> <td>    0.146</td> <td>    8.564</td> <td> 0.000</td> <td>    0.966</td> <td>    1.539</td>\n",
       "</tr>\n",
       "</table>"
      ],
      "text/plain": [
       "<class 'statsmodels.iolib.summary.Summary'>\n",
       "\"\"\"\n",
       "                     Multinomial Logit Model Regression Results                    \n",
       "===================================================================================\n",
       "Dep. Variable:                         win   No. Observations:               16,845\n",
       "Model:             Multinomial Logit Model   Df Residuals:                   16,766\n",
       "Method:                                MLE   Df Model:                           79\n",
       "Date:                     Wed, 04 Jan 2023   Pseudo R-squ.:                   0.226\n",
       "Time:                             21:13:26   Pseudo R-bar-squ.:               0.222\n",
       "AIC:                            36,314.259   Log-Likelihood:            -18,078.129\n",
       "BIC:                            36,925.072   LL-Null:                   -23,352.129\n",
       "==================================================================================================\n",
       "                                     coef    std err          z      P>|z|      [0.025      0.975]\n",
       "--------------------------------------------------------------------------------------------------\n",
       "ASC_1_Dan                         -0.6198      0.130     -4.763      0.000      -0.875      -0.365\n",
       "ASC_2_Sproggie                    -2.3731      0.175    -13.545      0.000      -2.717      -2.030\n",
       "ASC_3_Orvinn                      -3.3557      0.212    -15.861      0.000      -3.770      -2.941\n",
       "ASC_4_Lucky                       -1.2663      0.130     -9.723      0.000      -1.522      -1.011\n",
       "ASC_5_Edmund                      -1.7855      0.133    -13.471      0.000      -2.045      -1.526\n",
       "ASC_6_Peg Leg                     -2.4166      0.143    -16.944      0.000      -2.696      -2.137\n",
       "ASC_7_Bonnie                      -2.1906      0.150    -14.649      0.000      -2.484      -1.897\n",
       "ASC_8_Puffo                       -2.9591      0.210    -14.098      0.000      -3.370      -2.548\n",
       "ASC_9_Stuff                       -3.8389      0.204    -18.819      0.000      -4.239      -3.439\n",
       "ASC_10_Squire                     -3.2848      0.180    -18.290      0.000      -3.637      -2.933\n",
       "ASC_11_Crossblades                -2.8585      0.175    -16.306      0.000      -3.202      -2.515\n",
       "ASC_12_Stripey                    -2.1179      0.149    -14.168      0.000      -2.411      -1.825\n",
       "ASC_13_Ned                        -1.5461      0.148    -10.437      0.000      -1.836      -1.256\n",
       "ASC_14_Fairfax                    -2.5004      0.163    -15.332      0.000      -2.820      -2.181\n",
       "ASC_16_Franchisco                 -1.3108      0.139     -9.451      0.000      -1.583      -1.039\n",
       "ASC_17_Federismo                  -1.1296      0.136     -8.288      0.000      -1.397      -0.862\n",
       "ASC_18_Blackbeard                 -2.0534      0.154    -13.327      0.000      -2.355      -1.751\n",
       "ASC_19_Buck                       -0.5117      0.129     -3.961      0.000      -0.765      -0.259\n",
       "ASC_20_Tailhook                   -1.5502      0.132    -11.724      0.000      -1.809      -1.291\n",
       "PFA_1_Dan                          0.1701      0.023      7.519      0.000       0.126       0.214\n",
       "PFA_2_Sproggie                     0.2553      0.035      7.239      0.000       0.186       0.324\n",
       "PFA_3_Orvinn                       0.2560      0.041      6.215      0.000       0.175       0.337\n",
       "PFA_4_Lucky                        0.1616      0.041      3.971      0.000       0.082       0.241\n",
       "PFA_5_Edmund                       0.2680      0.039      6.842      0.000       0.191       0.345\n",
       "PFA_6_Peg Leg                      0.3154      0.061      5.195      0.000       0.196       0.434\n",
       "PFA_7_Bonnie                       0.2449      0.037      6.654      0.000       0.173       0.317\n",
       "PFA_8_Puffo                        0.2885      0.040      7.285      0.000       0.211       0.366\n",
       "PFA_9_Stuff                        0.3963      0.078      5.085      0.000       0.244       0.549\n",
       "PFA_10_Squire                      0.2337      0.083      2.802      0.005       0.070       0.397\n",
       "PFA_11_Crossblades                 0.1577      0.047      3.324      0.001       0.065       0.251\n",
       "PFA_12_Stripey                     0.2098      0.034      6.245      0.000       0.144       0.276\n",
       "PFA_13_Ned                         0.2147      0.039      5.559      0.000       0.139       0.290\n",
       "PFA_14_Fairfax                     0.2452      0.035      6.977      0.000       0.176       0.314\n",
       "PFA_15_Gooblah                     0.2881      0.034      8.365      0.000       0.221       0.356\n",
       "PFA_16_Franchisco                  0.1925      0.027      7.214      0.000       0.140       0.245\n",
       "PFA_17_Federismo                   0.1639      0.024      6.725      0.000       0.116       0.212\n",
       "PFA_18_Blackbeard                  0.1762      0.040      4.355      0.000       0.097       0.255\n",
       "PFA_19_Buck                        0.2420      0.041      5.872      0.000       0.161       0.323\n",
       "PFA_20_Tailhook                    0.2618      0.040      6.473      0.000       0.183       0.341\n",
       "NFA_1_Dan                          0.4897      0.042     11.648      0.000       0.407       0.572\n",
       "NFA_2_Sproggie                     0.2915      0.046      6.299      0.000       0.201       0.382\n",
       "NFA_3_Orvinn                       0.3312      0.065      5.077      0.000       0.203       0.459\n",
       "NFA_4_Lucky                        0.5644      0.051     11.105      0.000       0.465       0.664\n",
       "NFA_5_Edmund                       0.3686      0.052      7.041      0.000       0.266       0.471\n",
       "NFA_6_Peg Leg                      0.4198      0.067      6.291      0.000       0.289       0.551\n",
       "NFA_7_Bonnie                       0.2667      0.055      4.868      0.000       0.159       0.374\n",
       "NFA_8_Puffo                        0.2946      0.054      5.466      0.000       0.189       0.400\n",
       "NFA_9_Stuff                        0.2232      0.095      2.348      0.019       0.037       0.410\n",
       "NFA_10_Squire                      0.3781      0.084      4.489      0.000       0.213       0.543\n",
       "NFA_11_Crossblades                 0.3956      0.076      5.196      0.000       0.246       0.545\n",
       "NFA_12_Stripey                     0.4962      0.057      8.721      0.000       0.385       0.608\n",
       "NFA_13_Ned                         0.4783      0.044     10.914      0.000       0.392       0.564\n",
       "NFA_14_Fairfax                     0.3615      0.061      5.930      0.000       0.242       0.481\n",
       "NFA_15_Gooblah                     0.5079      0.046     11.019      0.000       0.418       0.598\n",
       "NFA_16_Franchisco                  0.4232      0.044      9.537      0.000       0.336       0.510\n",
       "NFA_17_Federismo                   0.4745      0.048      9.816      0.000       0.380       0.569\n",
       "NFA_18_Blackbeard                  0.4552      0.052      8.782      0.000       0.354       0.557\n",
       "NFA_19_Buck                        0.3896      0.039      9.967      0.000       0.313       0.466\n",
       "NFA_20_Tailhook                    0.3636      0.050      7.266      0.000       0.265       0.462\n",
       "position_factor_1_Dan              0.6664      0.137      4.875      0.000       0.398       0.934\n",
       "position_factor_2_Sproggie         0.9278      0.165      5.609      0.000       0.604       1.252\n",
       "position_factor_3_Orvinn           1.1018      0.206      5.351      0.000       0.698       1.505\n",
       "position_factor_4_Lucky            1.1284      0.150      7.534      0.000       0.835       1.422\n",
       "position_factor_5_Edmund           1.1082      0.150      7.404      0.000       0.815       1.402\n",
       "position_factor_6_Peg Leg          0.9140      0.184      4.973      0.000       0.554       1.274\n",
       "position_factor_7_Bonnie           0.9572      0.157      6.103      0.000       0.650       1.265\n",
       "position_factor_8_Puffo            0.7770      0.192      4.054      0.000       0.401       1.153\n",
       "position_factor_9_Stuff            1.1319      0.272      4.158      0.000       0.598       1.665\n",
       "position_factor_10_Squire          1.3217      0.262      5.052      0.000       0.809       1.834\n",
       "position_factor_11_Crossblades     1.1544      0.209      5.535      0.000       0.746       1.563\n",
       "position_factor_12_Stripey         1.2610      0.160      7.891      0.000       0.948       1.574\n",
       "position_factor_13_Ned             1.3040      0.157      8.289      0.000       0.996       1.612\n",
       "position_factor_14_Fairfax         1.0440      0.168      6.198      0.000       0.714       1.374\n",
       "position_factor_15_Gooblah         0.7602      0.141      5.395      0.000       0.484       1.036\n",
       "position_factor_16_Franchisco      0.9412      0.141      6.657      0.000       0.664       1.218\n",
       "position_factor_17_Federismo       0.6753      0.137      4.933      0.000       0.407       0.944\n",
       "position_factor_18_Blackbeard      1.0950      0.176      6.222      0.000       0.750       1.440\n",
       "position_factor_19_Buck            1.0004      0.136      7.342      0.000       0.733       1.267\n",
       "position_factor_20_Tailhook        1.2521      0.146      8.564      0.000       0.966       1.539\n",
       "==================================================================================================\n",
       "\"\"\""
      ]
     },
     "execution_count": 202,
     "metadata": {},
     "output_type": "execute_result"
    }
   ],
   "source": [
    "# next we split positional coefficients for each pirate\n",
    "per_pirate_fa_and_pos_specification = OrderedDict()\n",
    "per_pirate_fa_and_pos_names = OrderedDict()\n",
    "# OK, for asthetic purposes and better-looking P-values\n",
    "# (Dan is really close to Buck but everyone is much weaker than Gooblah,\n",
    "#  that's why Buck has a bad-looking P-value) we exlude Gooblah from the intercepts\n",
    "# You can interpret each exp(intercept) as \"how many Goobs each pirate is equivalent to\"\n",
    "pirates_except_goob = [i for i in range(1, 21) if i != 15]\n",
    "per_pirate_fa_and_pos_specification[\"intercept\"] = pirates_except_goob\n",
    "per_pirate_fa_and_pos_names[\"intercept\"] = [f'ASC_{i}_{PIRATE_NAMES[i]}' for i in pirates_except_goob]\n",
    "per_pirate_fa_and_pos_specification[\"pfa\"] = pirates_including_the_first\n",
    "per_pirate_fa_and_pos_names[\"pfa\"] = [f'PFA_{i}_{PIRATE_NAMES[i]}' for i in pirates_including_the_first]\n",
    "per_pirate_fa_and_pos_specification[\"nfa\"] = pirates_including_the_first\n",
    "per_pirate_fa_and_pos_names[\"nfa\"] = [f'NFA_{i}_{PIRATE_NAMES[i]}' for i in pirates_including_the_first]\n",
    "per_pirate_fa_and_pos_specification[\"position_factor\"] = pirates_including_the_first\n",
    "per_pirate_fa_and_pos_names[\"position_factor\"] = [f'position_factor_{i}_{PIRATE_NAMES[i]}' for i in pirates_including_the_first]\n",
    "\n",
    "per_pirate_fa_and_pos_mnl = pl.create_choice_model(data=long_format,\n",
    "alt_id_col='pirate',\n",
    "obs_id_col='match_id',\n",
    "choice_col='win',\n",
    "specification=per_pirate_fa_and_pos_specification,\n",
    "model_type='MNL',\n",
    "names=per_pirate_fa_and_pos_names)\n",
    "per_pirate_fa_and_pos_mnl.fit_mle(np.zeros(79))\n",
    "per_pirate_fa_and_pos_mnl.get_statsmodels_summary()"
   ]
  },
  {
   "cell_type": "code",
   "execution_count": 203,
   "metadata": {},
   "outputs": [
    {
     "name": "stderr",
     "output_type": "stream",
     "text": [
      "100%|██████████| 3369/3369 [03:39<00:00, 15.38it/s]\n"
     ]
    },
    {
     "data": {
      "text/plain": [
       "(33690, 33690, 98598, 64908, 2.9266251113089936)"
      ]
     },
     "execution_count": 203,
     "metadata": {},
     "output_type": "execute_result"
    }
   ],
   "source": [
    "backtest_model_with_cap(per_pirate_fa_and_pos_mnl, 1, history_rounds)"
   ]
  },
  {
   "cell_type": "code",
   "execution_count": 204,
   "metadata": {},
   "outputs": [
    {
     "name": "stderr",
     "output_type": "stream",
     "text": [
      "100%|██████████| 3369/3369 [03:36<00:00, 15.54it/s]\n"
     ]
    },
    {
     "data": {
      "text/plain": [
       "(336883, 336900, 985980, 649097, 2.926675571386168)"
      ]
     },
     "execution_count": 204,
     "metadata": {},
     "output_type": "execute_result"
    }
   ],
   "source": [
    "backtest_model_with_cap(per_pirate_fa_and_pos_mnl, 10, history_rounds)"
   ]
  },
  {
   "cell_type": "code",
   "execution_count": 205,
   "metadata": {},
   "outputs": [
    {
     "name": "stderr",
     "output_type": "stream",
     "text": [
      "100%|██████████| 3369/3369 [03:35<00:00, 15.63it/s]\n"
     ]
    },
    {
     "data": {
      "text/plain": [
       "(3364338, 3369000, 10426400, 7062062, 3.096189373701395)"
      ]
     },
     "execution_count": 205,
     "metadata": {},
     "output_type": "execute_result"
    }
   ],
   "source": [
    "backtest_model_with_cap(per_pirate_fa_and_pos_mnl, 100, history_rounds)"
   ]
  },
  {
   "cell_type": "code",
   "execution_count": 206,
   "metadata": {},
   "outputs": [
    {
     "name": "stderr",
     "output_type": "stream",
     "text": [
      "100%|██████████| 3369/3369 [03:27<00:00, 16.20it/s]\n"
     ]
    },
    {
     "data": {
      "text/plain": [
       "(33424426, 33690000, 88346548, 54922122, 2.6302203027604634)"
      ]
     },
     "execution_count": 206,
     "metadata": {},
     "output_type": "execute_result"
    }
   ],
   "source": [
    "backtest_model_with_cap(per_pirate_fa_and_pos_mnl, 1000, history_rounds)"
   ]
  },
  {
   "cell_type": "code",
   "execution_count": 207,
   "metadata": {},
   "outputs": [
    {
     "name": "stderr",
     "output_type": "stream",
     "text": [
      "100%|██████████| 3369/3369 [03:20<00:00, 16.84it/s]\n"
     ]
    },
    {
     "data": {
      "text/plain": [
       "(326901918, 336900000, 741728401, 414826483, 2.2313044909468687)"
      ]
     },
     "execution_count": 207,
     "metadata": {},
     "output_type": "execute_result"
    }
   ],
   "source": [
    "\n",
    "backtest_model_with_cap(per_pirate_fa_and_pos_mnl, 10000, history_rounds)"
   ]
  },
  {
   "cell_type": "code",
   "execution_count": 215,
   "metadata": {},
   "outputs": [
    {
     "name": "stderr",
     "output_type": "stream",
     "text": [
      "100%|██████████| 3369/3369 [03:23<00:00, 16.56it/s]\n"
     ]
    },
    {
     "data": {
      "text/plain": [
       "(485506397, 505350000, 1053954532, 568448135, 2.1248602651627584)"
      ]
     },
     "execution_count": 215,
     "metadata": {},
     "output_type": "execute_result"
    }
   ],
   "source": [
    "backtest_model_with_cap(per_pirate_fa_and_pos_mnl, 15000, history_rounds)"
   ]
  },
  {
   "cell_type": "code",
   "execution_count": 211,
   "metadata": {},
   "outputs": [],
   "source": [
    "def get_current_round_df_from_file(path):\n",
    "    columns = ['round', 'arena', 'pirate1', 'pirate2', 'pirate3', 'pirate4', 'fa1', 'fa2', 'fa3', 'fa4', 'pfa1', 'pfa2', 'pfa3', 'pfa4', 'nfa1', 'nfa2', 'nfa3', 'nfa4', 'opening_odds1', 'opening_odds2', 'opening_odds3', 'opening_odds4', 'closing_odds1', 'closing_odds2', 'closing_odds3', 'closing_odds4']\n",
    "    df = pd.DataFrame([], columns=columns)\n",
    "    with open(path) as json_file:\n",
    "        data = json.load(json_file)\n",
    "        round = data[\"round\"]\n",
    "        for arena in range(5):\n",
    "            pirates = data[\"pirates\"][arena]\n",
    "            # older rounds don't have fa data\n",
    "            fas = [0 for pirate in pirates]\n",
    "            positive_fas = [0 for pirate in pirates]\n",
    "            negative_fas = [0 for pirate in pirates]\n",
    "            if \"foods\" in data:\n",
    "                foods = data[\"foods\"][arena]\n",
    "                positive_fas = [sum(POSITIVE_FAS[pirate][food] for food in foods) for pirate in pirates]\n",
    "                negative_fas = [-sum(NEGATIVE_FAS[pirate][food] for food in foods) for pirate in pirates]\n",
    "                fas = [sum(x) for x in zip(positive_fas, negative_fas)]\n",
    "            pirate1, pirate2, pirate3, pirate4 = pirates\n",
    "            fa1, fa2, fa3, fa4 = fas\n",
    "            pfa1, pfa2, pfa3, pfa4 = positive_fas\n",
    "            nfa1, nfa2, nfa3, nfa4 = negative_fas\n",
    "            _, opening_odds1, opening_odds2, opening_odds3, opening_odds4 = data[\"openingOdds\"][arena]\n",
    "            _, closing_odds1, closing_odds2, closing_odds3, closing_odds4 = data[\"currentOdds\"][arena]\n",
    "            df_temp = pd.DataFrame([[round, arena, pirate1, pirate2, pirate3, pirate4, fa1, fa2, fa3, fa4, pfa1, pfa2, pfa3, pfa4, nfa1, nfa2, nfa3, nfa4, opening_odds1, opening_odds2, opening_odds3, opening_odds4, closing_odds1, closing_odds2, closing_odds3, closing_odds4]], columns=columns)\n",
    "            df = pd.concat([df, df_temp], ignore_index=True)\n",
    "    return df"
   ]
  },
  {
   "cell_type": "code",
   "execution_count": 262,
   "metadata": {},
   "outputs": [
    {
     "data": {
      "text/html": [
       "<div>\n",
       "<style scoped>\n",
       "    .dataframe tbody tr th:only-of-type {\n",
       "        vertical-align: middle;\n",
       "    }\n",
       "\n",
       "    .dataframe tbody tr th {\n",
       "        vertical-align: top;\n",
       "    }\n",
       "\n",
       "    .dataframe thead th {\n",
       "        text-align: right;\n",
       "    }\n",
       "</style>\n",
       "<table border=\"1\" class=\"dataframe\">\n",
       "  <thead>\n",
       "    <tr style=\"text-align: right;\">\n",
       "      <th></th>\n",
       "      <th>round</th>\n",
       "      <th>arena</th>\n",
       "      <th>pirate</th>\n",
       "      <th>fa</th>\n",
       "      <th>pfa</th>\n",
       "      <th>nfa</th>\n",
       "      <th>position</th>\n",
       "      <th>position_factor</th>\n",
       "      <th>is_pos1</th>\n",
       "      <th>is_pos2</th>\n",
       "      <th>is_pos3</th>\n",
       "      <th>is_pos4</th>\n",
       "      <th>opening_odds</th>\n",
       "      <th>closing_odds</th>\n",
       "      <th>match_id</th>\n",
       "    </tr>\n",
       "  </thead>\n",
       "  <tbody>\n",
       "    <tr>\n",
       "      <th>0</th>\n",
       "      <td>8643</td>\n",
       "      <td>0</td>\n",
       "      <td>2</td>\n",
       "      <td>-1</td>\n",
       "      <td>2</td>\n",
       "      <td>-3</td>\n",
       "      <td>1</td>\n",
       "      <td>-0.1821</td>\n",
       "      <td>1</td>\n",
       "      <td>0</td>\n",
       "      <td>0</td>\n",
       "      <td>0</td>\n",
       "      <td>13</td>\n",
       "      <td>13</td>\n",
       "      <td>43215</td>\n",
       "    </tr>\n",
       "    <tr>\n",
       "      <th>1</th>\n",
       "      <td>8643</td>\n",
       "      <td>0</td>\n",
       "      <td>16</td>\n",
       "      <td>2</td>\n",
       "      <td>2</td>\n",
       "      <td>0</td>\n",
       "      <td>2</td>\n",
       "      <td>0.0000</td>\n",
       "      <td>0</td>\n",
       "      <td>1</td>\n",
       "      <td>0</td>\n",
       "      <td>0</td>\n",
       "      <td>2</td>\n",
       "      <td>2</td>\n",
       "      <td>43215</td>\n",
       "    </tr>\n",
       "    <tr>\n",
       "      <th>2</th>\n",
       "      <td>8643</td>\n",
       "      <td>0</td>\n",
       "      <td>3</td>\n",
       "      <td>0</td>\n",
       "      <td>1</td>\n",
       "      <td>-1</td>\n",
       "      <td>3</td>\n",
       "      <td>0.2814</td>\n",
       "      <td>0</td>\n",
       "      <td>0</td>\n",
       "      <td>1</td>\n",
       "      <td>0</td>\n",
       "      <td>13</td>\n",
       "      <td>13</td>\n",
       "      <td>43215</td>\n",
       "    </tr>\n",
       "    <tr>\n",
       "      <th>3</th>\n",
       "      <td>8643</td>\n",
       "      <td>0</td>\n",
       "      <td>5</td>\n",
       "      <td>2</td>\n",
       "      <td>2</td>\n",
       "      <td>0</td>\n",
       "      <td>4</td>\n",
       "      <td>0.5523</td>\n",
       "      <td>0</td>\n",
       "      <td>0</td>\n",
       "      <td>0</td>\n",
       "      <td>1</td>\n",
       "      <td>2</td>\n",
       "      <td>2</td>\n",
       "      <td>43215</td>\n",
       "    </tr>\n",
       "    <tr>\n",
       "      <th>4</th>\n",
       "      <td>8643</td>\n",
       "      <td>1</td>\n",
       "      <td>9</td>\n",
       "      <td>-1</td>\n",
       "      <td>0</td>\n",
       "      <td>-1</td>\n",
       "      <td>1</td>\n",
       "      <td>-0.1821</td>\n",
       "      <td>1</td>\n",
       "      <td>0</td>\n",
       "      <td>0</td>\n",
       "      <td>0</td>\n",
       "      <td>13</td>\n",
       "      <td>13</td>\n",
       "      <td>43216</td>\n",
       "    </tr>\n",
       "    <tr>\n",
       "      <th>5</th>\n",
       "      <td>8643</td>\n",
       "      <td>1</td>\n",
       "      <td>18</td>\n",
       "      <td>1</td>\n",
       "      <td>2</td>\n",
       "      <td>-1</td>\n",
       "      <td>2</td>\n",
       "      <td>0.0000</td>\n",
       "      <td>0</td>\n",
       "      <td>1</td>\n",
       "      <td>0</td>\n",
       "      <td>0</td>\n",
       "      <td>13</td>\n",
       "      <td>13</td>\n",
       "      <td>43216</td>\n",
       "    </tr>\n",
       "    <tr>\n",
       "      <th>6</th>\n",
       "      <td>8643</td>\n",
       "      <td>1</td>\n",
       "      <td>1</td>\n",
       "      <td>4</td>\n",
       "      <td>4</td>\n",
       "      <td>0</td>\n",
       "      <td>3</td>\n",
       "      <td>0.2814</td>\n",
       "      <td>0</td>\n",
       "      <td>0</td>\n",
       "      <td>1</td>\n",
       "      <td>0</td>\n",
       "      <td>2</td>\n",
       "      <td>2</td>\n",
       "      <td>43216</td>\n",
       "    </tr>\n",
       "    <tr>\n",
       "      <th>7</th>\n",
       "      <td>8643</td>\n",
       "      <td>1</td>\n",
       "      <td>8</td>\n",
       "      <td>-1</td>\n",
       "      <td>2</td>\n",
       "      <td>-3</td>\n",
       "      <td>4</td>\n",
       "      <td>0.5523</td>\n",
       "      <td>0</td>\n",
       "      <td>0</td>\n",
       "      <td>0</td>\n",
       "      <td>1</td>\n",
       "      <td>13</td>\n",
       "      <td>13</td>\n",
       "      <td>43216</td>\n",
       "    </tr>\n",
       "    <tr>\n",
       "      <th>8</th>\n",
       "      <td>8643</td>\n",
       "      <td>2</td>\n",
       "      <td>19</td>\n",
       "      <td>0</td>\n",
       "      <td>1</td>\n",
       "      <td>-1</td>\n",
       "      <td>1</td>\n",
       "      <td>-0.1821</td>\n",
       "      <td>1</td>\n",
       "      <td>0</td>\n",
       "      <td>0</td>\n",
       "      <td>0</td>\n",
       "      <td>2</td>\n",
       "      <td>2</td>\n",
       "      <td>43217</td>\n",
       "    </tr>\n",
       "    <tr>\n",
       "      <th>9</th>\n",
       "      <td>8643</td>\n",
       "      <td>2</td>\n",
       "      <td>13</td>\n",
       "      <td>2</td>\n",
       "      <td>3</td>\n",
       "      <td>-1</td>\n",
       "      <td>2</td>\n",
       "      <td>0.0000</td>\n",
       "      <td>0</td>\n",
       "      <td>1</td>\n",
       "      <td>0</td>\n",
       "      <td>0</td>\n",
       "      <td>2</td>\n",
       "      <td>3</td>\n",
       "      <td>43217</td>\n",
       "    </tr>\n",
       "    <tr>\n",
       "      <th>10</th>\n",
       "      <td>8643</td>\n",
       "      <td>2</td>\n",
       "      <td>10</td>\n",
       "      <td>0</td>\n",
       "      <td>1</td>\n",
       "      <td>-1</td>\n",
       "      <td>3</td>\n",
       "      <td>0.2814</td>\n",
       "      <td>0</td>\n",
       "      <td>0</td>\n",
       "      <td>1</td>\n",
       "      <td>0</td>\n",
       "      <td>13</td>\n",
       "      <td>13</td>\n",
       "      <td>43217</td>\n",
       "    </tr>\n",
       "    <tr>\n",
       "      <th>11</th>\n",
       "      <td>8643</td>\n",
       "      <td>2</td>\n",
       "      <td>14</td>\n",
       "      <td>0</td>\n",
       "      <td>2</td>\n",
       "      <td>-2</td>\n",
       "      <td>4</td>\n",
       "      <td>0.5523</td>\n",
       "      <td>0</td>\n",
       "      <td>0</td>\n",
       "      <td>0</td>\n",
       "      <td>1</td>\n",
       "      <td>6</td>\n",
       "      <td>6</td>\n",
       "      <td>43217</td>\n",
       "    </tr>\n",
       "    <tr>\n",
       "      <th>12</th>\n",
       "      <td>8643</td>\n",
       "      <td>3</td>\n",
       "      <td>7</td>\n",
       "      <td>0</td>\n",
       "      <td>0</td>\n",
       "      <td>0</td>\n",
       "      <td>1</td>\n",
       "      <td>-0.1821</td>\n",
       "      <td>1</td>\n",
       "      <td>0</td>\n",
       "      <td>0</td>\n",
       "      <td>0</td>\n",
       "      <td>11</td>\n",
       "      <td>11</td>\n",
       "      <td>43218</td>\n",
       "    </tr>\n",
       "    <tr>\n",
       "      <th>13</th>\n",
       "      <td>8643</td>\n",
       "      <td>3</td>\n",
       "      <td>17</td>\n",
       "      <td>1</td>\n",
       "      <td>1</td>\n",
       "      <td>0</td>\n",
       "      <td>2</td>\n",
       "      <td>0.0000</td>\n",
       "      <td>0</td>\n",
       "      <td>1</td>\n",
       "      <td>0</td>\n",
       "      <td>0</td>\n",
       "      <td>3</td>\n",
       "      <td>3</td>\n",
       "      <td>43218</td>\n",
       "    </tr>\n",
       "    <tr>\n",
       "      <th>14</th>\n",
       "      <td>8643</td>\n",
       "      <td>3</td>\n",
       "      <td>4</td>\n",
       "      <td>1</td>\n",
       "      <td>1</td>\n",
       "      <td>0</td>\n",
       "      <td>3</td>\n",
       "      <td>0.2814</td>\n",
       "      <td>0</td>\n",
       "      <td>0</td>\n",
       "      <td>1</td>\n",
       "      <td>0</td>\n",
       "      <td>2</td>\n",
       "      <td>2</td>\n",
       "      <td>43218</td>\n",
       "    </tr>\n",
       "    <tr>\n",
       "      <th>15</th>\n",
       "      <td>8643</td>\n",
       "      <td>3</td>\n",
       "      <td>20</td>\n",
       "      <td>-2</td>\n",
       "      <td>0</td>\n",
       "      <td>-2</td>\n",
       "      <td>4</td>\n",
       "      <td>0.5523</td>\n",
       "      <td>0</td>\n",
       "      <td>0</td>\n",
       "      <td>0</td>\n",
       "      <td>1</td>\n",
       "      <td>5</td>\n",
       "      <td>6</td>\n",
       "      <td>43218</td>\n",
       "    </tr>\n",
       "    <tr>\n",
       "      <th>16</th>\n",
       "      <td>8643</td>\n",
       "      <td>4</td>\n",
       "      <td>12</td>\n",
       "      <td>1</td>\n",
       "      <td>2</td>\n",
       "      <td>-1</td>\n",
       "      <td>1</td>\n",
       "      <td>-0.1821</td>\n",
       "      <td>1</td>\n",
       "      <td>0</td>\n",
       "      <td>0</td>\n",
       "      <td>0</td>\n",
       "      <td>13</td>\n",
       "      <td>13</td>\n",
       "      <td>43219</td>\n",
       "    </tr>\n",
       "    <tr>\n",
       "      <th>17</th>\n",
       "      <td>8643</td>\n",
       "      <td>4</td>\n",
       "      <td>15</td>\n",
       "      <td>2</td>\n",
       "      <td>2</td>\n",
       "      <td>0</td>\n",
       "      <td>2</td>\n",
       "      <td>0.0000</td>\n",
       "      <td>0</td>\n",
       "      <td>1</td>\n",
       "      <td>0</td>\n",
       "      <td>0</td>\n",
       "      <td>2</td>\n",
       "      <td>2</td>\n",
       "      <td>43219</td>\n",
       "    </tr>\n",
       "    <tr>\n",
       "      <th>18</th>\n",
       "      <td>8643</td>\n",
       "      <td>4</td>\n",
       "      <td>6</td>\n",
       "      <td>0</td>\n",
       "      <td>1</td>\n",
       "      <td>-1</td>\n",
       "      <td>3</td>\n",
       "      <td>0.2814</td>\n",
       "      <td>0</td>\n",
       "      <td>0</td>\n",
       "      <td>1</td>\n",
       "      <td>0</td>\n",
       "      <td>13</td>\n",
       "      <td>13</td>\n",
       "      <td>43219</td>\n",
       "    </tr>\n",
       "    <tr>\n",
       "      <th>19</th>\n",
       "      <td>8643</td>\n",
       "      <td>4</td>\n",
       "      <td>11</td>\n",
       "      <td>0</td>\n",
       "      <td>1</td>\n",
       "      <td>-1</td>\n",
       "      <td>4</td>\n",
       "      <td>0.5523</td>\n",
       "      <td>0</td>\n",
       "      <td>0</td>\n",
       "      <td>0</td>\n",
       "      <td>1</td>\n",
       "      <td>13</td>\n",
       "      <td>13</td>\n",
       "      <td>43219</td>\n",
       "    </tr>\n",
       "  </tbody>\n",
       "</table>\n",
       "</div>"
      ],
      "text/plain": [
       "    round  arena  pirate  fa  pfa  nfa  position  position_factor  is_pos1  \\\n",
       "0    8643      0       2  -1    2   -3         1          -0.1821        1   \n",
       "1    8643      0      16   2    2    0         2           0.0000        0   \n",
       "2    8643      0       3   0    1   -1         3           0.2814        0   \n",
       "3    8643      0       5   2    2    0         4           0.5523        0   \n",
       "4    8643      1       9  -1    0   -1         1          -0.1821        1   \n",
       "5    8643      1      18   1    2   -1         2           0.0000        0   \n",
       "6    8643      1       1   4    4    0         3           0.2814        0   \n",
       "7    8643      1       8  -1    2   -3         4           0.5523        0   \n",
       "8    8643      2      19   0    1   -1         1          -0.1821        1   \n",
       "9    8643      2      13   2    3   -1         2           0.0000        0   \n",
       "10   8643      2      10   0    1   -1         3           0.2814        0   \n",
       "11   8643      2      14   0    2   -2         4           0.5523        0   \n",
       "12   8643      3       7   0    0    0         1          -0.1821        1   \n",
       "13   8643      3      17   1    1    0         2           0.0000        0   \n",
       "14   8643      3       4   1    1    0         3           0.2814        0   \n",
       "15   8643      3      20  -2    0   -2         4           0.5523        0   \n",
       "16   8643      4      12   1    2   -1         1          -0.1821        1   \n",
       "17   8643      4      15   2    2    0         2           0.0000        0   \n",
       "18   8643      4       6   0    1   -1         3           0.2814        0   \n",
       "19   8643      4      11   0    1   -1         4           0.5523        0   \n",
       "\n",
       "    is_pos2  is_pos3  is_pos4  opening_odds  closing_odds  match_id  \n",
       "0         0        0        0            13            13     43215  \n",
       "1         1        0        0             2             2     43215  \n",
       "2         0        1        0            13            13     43215  \n",
       "3         0        0        1             2             2     43215  \n",
       "4         0        0        0            13            13     43216  \n",
       "5         1        0        0            13            13     43216  \n",
       "6         0        1        0             2             2     43216  \n",
       "7         0        0        1            13            13     43216  \n",
       "8         0        0        0             2             2     43217  \n",
       "9         1        0        0             2             3     43217  \n",
       "10        0        1        0            13            13     43217  \n",
       "11        0        0        1             6             6     43217  \n",
       "12        0        0        0            11            11     43218  \n",
       "13        1        0        0             3             3     43218  \n",
       "14        0        1        0             2             2     43218  \n",
       "15        0        0        1             5             6     43218  \n",
       "16        0        0        0            13            13     43219  \n",
       "17        1        0        0             2             2     43219  \n",
       "18        0        1        0            13            13     43219  \n",
       "19        0        0        1            13            13     43219  "
      ]
     },
     "execution_count": 262,
     "metadata": {},
     "output_type": "execute_result"
    }
   ],
   "source": [
    "def get_round(round_number):\n",
    "    return convert_to_long_format_without_win(convert_df(get_current_round_df_from_file(f\"raw_json/{round_number}.json\")))\n",
    "round_8643 = get_round(8643)\n",
    "round_8643"
   ]
  },
  {
   "cell_type": "code",
   "execution_count": 214,
   "metadata": {},
   "outputs": [
    {
     "data": {
      "text/plain": [
       "array([0.05343339, 0.38704053, 0.04310275, 0.51642334, 0.0095265 ,\n",
       "       0.07873558, 0.8718608 , 0.03987712, 0.50995024, 0.29752494,\n",
       "       0.05561974, 0.13690508, 0.08281387, 0.3355578 , 0.40114837,\n",
       "       0.18047996, 0.04304779, 0.86484364, 0.05053249, 0.04157608])"
      ]
     },
     "execution_count": 214,
     "metadata": {},
     "output_type": "execute_result"
    }
   ],
   "source": [
    "per_pirate_fa_and_pos_mnl.predict(round_8643)"
   ]
  },
  {
   "cell_type": "code",
   "execution_count": 278,
   "metadata": {},
   "outputs": [],
   "source": [
    "# do 5-fold cross-validation of data on long_format\n",
    "# split data based on \"round\"\n",
    "from sklearn.model_selection import GroupShuffleSplit\n",
    "def cross_validate_model(specification, names, cap, long_format, random_state=None):\n",
    "    kf = GroupShuffleSplit(n_splits=5, random_state=random_state)\n",
    "    ROIs = []\n",
    "    for train_index, test_index in kf.split(long_format, groups=long_format[\"round\"]):\n",
    "        train = long_format.iloc[train_index]\n",
    "        test = long_format.iloc[test_index]\n",
    "        trained_mnl = pl.create_choice_model(data=train,\n",
    "            alt_id_col='pirate',\n",
    "            obs_id_col='match_id',\n",
    "            choice_col='win',\n",
    "            specification=specification,\n",
    "            model_type='MNL',\n",
    "            names=names)\n",
    "        trained_mnl.fit_mle(np.zeros(sum(len(v) for v in specification.values())))\n",
    "        result = backtest_model_with_cap(trained_mnl, cap, test[\"round\"].unique())\n",
    "        print(result)\n",
    "        ROIs.append(result[-1])\n",
    "    return ROIs, np.mean(ROIs)"
   ]
  },
  {
   "cell_type": "code",
   "execution_count": 251,
   "metadata": {},
   "outputs": [
    {
     "name": "stdout",
     "output_type": "stream",
     "text": [
      "Log-likelihood at zero: -18,680.3165\n",
      "Initial Log-likelihood: -18,680.3165\n"
     ]
    },
    {
     "name": "stderr",
     "output_type": "stream",
     "text": [
      "/home/arsdragonfly/neofoodclub/envs/default/lib/python3.10/site-packages/scipy/optimize/_minimize.py:555: RuntimeWarning: Method BFGS does not use Hessian information (hess).\n",
      "  warn('Method %s does not use Hessian information (hess).' % method,\n"
     ]
    },
    {
     "name": "stdout",
     "output_type": "stream",
     "text": [
      "Estimation Time for Point Estimation: 4.44 seconds.\n",
      "Final log-likelihood: -14,460.6921\n"
     ]
    },
    {
     "name": "stderr",
     "output_type": "stream",
     "text": [
      "100%|██████████| 674/674 [00:43<00:00, 15.50it/s]"
     ]
    },
    {
     "name": "stdout",
     "output_type": "stream",
     "text": [
      "(6740, 6740, 27348, 20608, 4.057566765578635)\n",
      "Log-likelihood at zero: -18,680.3165\n",
      "Initial Log-likelihood: -18,680.3165\n"
     ]
    },
    {
     "name": "stderr",
     "output_type": "stream",
     "text": [
      "\n",
      "/home/arsdragonfly/neofoodclub/envs/default/lib/python3.10/site-packages/scipy/optimize/_minimize.py:555: RuntimeWarning: Method BFGS does not use Hessian information (hess).\n",
      "  warn('Method %s does not use Hessian information (hess).' % method,\n"
     ]
    },
    {
     "name": "stdout",
     "output_type": "stream",
     "text": [
      "Estimation Time for Point Estimation: 5.16 seconds.\n",
      "Final log-likelihood: -14,443.6933\n"
     ]
    },
    {
     "name": "stderr",
     "output_type": "stream",
     "text": [
      "100%|██████████| 674/674 [00:44<00:00, 15.30it/s]"
     ]
    },
    {
     "name": "stdout",
     "output_type": "stream",
     "text": [
      "(6740, 6740, 22022, 15282, 3.267359050445104)\n",
      "Log-likelihood at zero: -18,680.3165\n",
      "Initial Log-likelihood: -18,680.3165\n"
     ]
    },
    {
     "name": "stderr",
     "output_type": "stream",
     "text": [
      "\n",
      "/home/arsdragonfly/neofoodclub/envs/default/lib/python3.10/site-packages/scipy/optimize/_minimize.py:555: RuntimeWarning: Method BFGS does not use Hessian information (hess).\n",
      "  warn('Method %s does not use Hessian information (hess).' % method,\n"
     ]
    },
    {
     "name": "stdout",
     "output_type": "stream",
     "text": [
      "Estimation Time for Point Estimation: 4.77 seconds.\n",
      "Final log-likelihood: -14,453.5656\n"
     ]
    },
    {
     "name": "stderr",
     "output_type": "stream",
     "text": [
      "100%|██████████| 674/674 [00:42<00:00, 15.76it/s]"
     ]
    },
    {
     "name": "stdout",
     "output_type": "stream",
     "text": [
      "(6740, 6740, 22363, 15623, 3.317952522255193)\n",
      "Log-likelihood at zero: -18,680.3165\n",
      "Initial Log-likelihood: -18,680.3165\n"
     ]
    },
    {
     "name": "stderr",
     "output_type": "stream",
     "text": [
      "\n",
      "/home/arsdragonfly/neofoodclub/envs/default/lib/python3.10/site-packages/scipy/optimize/_minimize.py:555: RuntimeWarning: Method BFGS does not use Hessian information (hess).\n",
      "  warn('Method %s does not use Hessian information (hess).' % method,\n"
     ]
    },
    {
     "name": "stdout",
     "output_type": "stream",
     "text": [
      "Estimation Time for Point Estimation: 4.87 seconds.\n",
      "Final log-likelihood: -14,430.3981\n"
     ]
    },
    {
     "name": "stderr",
     "output_type": "stream",
     "text": [
      "100%|██████████| 674/674 [00:44<00:00, 15.10it/s]"
     ]
    },
    {
     "name": "stdout",
     "output_type": "stream",
     "text": [
      "(6740, 6740, 15093, 8353, 2.2393175074183977)\n",
      "Log-likelihood at zero: -18,680.3165\n",
      "Initial Log-likelihood: -18,680.3165\n"
     ]
    },
    {
     "name": "stderr",
     "output_type": "stream",
     "text": [
      "\n",
      "/home/arsdragonfly/neofoodclub/envs/default/lib/python3.10/site-packages/scipy/optimize/_minimize.py:555: RuntimeWarning: Method BFGS does not use Hessian information (hess).\n",
      "  warn('Method %s does not use Hessian information (hess).' % method,\n"
     ]
    },
    {
     "name": "stdout",
     "output_type": "stream",
     "text": [
      "Estimation Time for Point Estimation: 4.81 seconds.\n",
      "Final log-likelihood: -14,413.8245\n"
     ]
    },
    {
     "name": "stderr",
     "output_type": "stream",
     "text": [
      "100%|██████████| 674/674 [00:44<00:00, 15.22it/s]"
     ]
    },
    {
     "name": "stdout",
     "output_type": "stream",
     "text": [
      "(6740, 6740, 10383, 3643, 1.5405044510385757)\n"
     ]
    },
    {
     "name": "stderr",
     "output_type": "stream",
     "text": [
      "\n"
     ]
    },
    {
     "data": {
      "text/plain": [
       "([4.057566765578635,\n",
       "  3.267359050445104,\n",
       "  3.317952522255193,\n",
       "  2.2393175074183977,\n",
       "  1.5405044510385757],\n",
       " 2.884540059347181)"
      ]
     },
     "execution_count": 251,
     "metadata": {},
     "output_type": "execute_result"
    }
   ],
   "source": [
    "cross_validate_model(per_pirate_fa_and_pos_specification, per_pirate_fa_and_pos_names, 1, long_format)"
   ]
  },
  {
   "cell_type": "code",
   "execution_count": 252,
   "metadata": {},
   "outputs": [
    {
     "name": "stdout",
     "output_type": "stream",
     "text": [
      "Log-likelihood at zero: -18,680.3165\n",
      "Initial Log-likelihood: -18,680.3165\n"
     ]
    },
    {
     "name": "stderr",
     "output_type": "stream",
     "text": [
      "/home/arsdragonfly/neofoodclub/envs/default/lib/python3.10/site-packages/scipy/optimize/_minimize.py:555: RuntimeWarning: Method BFGS does not use Hessian information (hess).\n",
      "  warn('Method %s does not use Hessian information (hess).' % method,\n"
     ]
    },
    {
     "name": "stdout",
     "output_type": "stream",
     "text": [
      "Estimation Time for Point Estimation: 6.84 seconds.\n",
      "Final log-likelihood: -14,418.7432\n"
     ]
    },
    {
     "name": "stderr",
     "output_type": "stream",
     "text": [
      "100%|██████████| 674/674 [00:42<00:00, 15.75it/s]"
     ]
    },
    {
     "name": "stdout",
     "output_type": "stream",
     "text": [
      "(67396, 67400, 112900, 45504, 1.67513353115727)\n",
      "Log-likelihood at zero: -18,680.3165\n",
      "Initial Log-likelihood: -18,680.3165\n"
     ]
    },
    {
     "name": "stderr",
     "output_type": "stream",
     "text": [
      "\n",
      "/home/arsdragonfly/neofoodclub/envs/default/lib/python3.10/site-packages/scipy/optimize/_minimize.py:555: RuntimeWarning: Method BFGS does not use Hessian information (hess).\n",
      "  warn('Method %s does not use Hessian information (hess).' % method,\n"
     ]
    },
    {
     "name": "stdout",
     "output_type": "stream",
     "text": [
      "Estimation Time for Point Estimation: 4.91 seconds.\n",
      "Final log-likelihood: -14,360.6607\n"
     ]
    },
    {
     "name": "stderr",
     "output_type": "stream",
     "text": [
      "100%|██████████| 674/674 [00:41<00:00, 16.22it/s]"
     ]
    },
    {
     "name": "stdout",
     "output_type": "stream",
     "text": [
      "(67400, 67400, 142880, 75480, 2.119881305637982)\n",
      "Log-likelihood at zero: -18,680.3165\n",
      "Initial Log-likelihood: -18,680.3165\n"
     ]
    },
    {
     "name": "stderr",
     "output_type": "stream",
     "text": [
      "\n",
      "/home/arsdragonfly/neofoodclub/envs/default/lib/python3.10/site-packages/scipy/optimize/_minimize.py:555: RuntimeWarning: Method BFGS does not use Hessian information (hess).\n",
      "  warn('Method %s does not use Hessian information (hess).' % method,\n"
     ]
    },
    {
     "name": "stdout",
     "output_type": "stream",
     "text": [
      "Estimation Time for Point Estimation: 4.46 seconds.\n",
      "Final log-likelihood: -14,373.7953\n"
     ]
    },
    {
     "name": "stderr",
     "output_type": "stream",
     "text": [
      "100%|██████████| 674/674 [00:42<00:00, 15.98it/s]"
     ]
    },
    {
     "name": "stdout",
     "output_type": "stream",
     "text": [
      "(67398, 67400, 266060, 198662, 3.947507418397626)\n",
      "Log-likelihood at zero: -18,680.3165\n",
      "Initial Log-likelihood: -18,680.3165\n"
     ]
    },
    {
     "name": "stderr",
     "output_type": "stream",
     "text": [
      "\n",
      "/home/arsdragonfly/neofoodclub/envs/default/lib/python3.10/site-packages/scipy/optimize/_minimize.py:555: RuntimeWarning: Method BFGS does not use Hessian information (hess).\n",
      "  warn('Method %s does not use Hessian information (hess).' % method,\n"
     ]
    },
    {
     "name": "stdout",
     "output_type": "stream",
     "text": [
      "Estimation Time for Point Estimation: 4.64 seconds.\n",
      "Final log-likelihood: -14,449.6512\n"
     ]
    },
    {
     "name": "stderr",
     "output_type": "stream",
     "text": [
      "100%|██████████| 674/674 [00:42<00:00, 15.68it/s]"
     ]
    },
    {
     "name": "stdout",
     "output_type": "stream",
     "text": [
      "(67391, 67400, 120740, 53349, 1.7915281899109792)\n",
      "Log-likelihood at zero: -18,680.3165\n",
      "Initial Log-likelihood: -18,680.3165\n"
     ]
    },
    {
     "name": "stderr",
     "output_type": "stream",
     "text": [
      "\n",
      "/home/arsdragonfly/neofoodclub/envs/default/lib/python3.10/site-packages/scipy/optimize/_minimize.py:555: RuntimeWarning: Method BFGS does not use Hessian information (hess).\n",
      "  warn('Method %s does not use Hessian information (hess).' % method,\n"
     ]
    },
    {
     "name": "stdout",
     "output_type": "stream",
     "text": [
      "Estimation Time for Point Estimation: 4.46 seconds.\n",
      "Final log-likelihood: -14,472.5148\n"
     ]
    },
    {
     "name": "stderr",
     "output_type": "stream",
     "text": [
      "100%|██████████| 674/674 [00:43<00:00, 15.55it/s]"
     ]
    },
    {
     "name": "stdout",
     "output_type": "stream",
     "text": [
      "(67398, 67400, 163310, 95912, 2.423026706231454)\n"
     ]
    },
    {
     "name": "stderr",
     "output_type": "stream",
     "text": [
      "\n"
     ]
    },
    {
     "data": {
      "text/plain": [
       "([1.67513353115727,\n",
       "  2.119881305637982,\n",
       "  3.947507418397626,\n",
       "  1.7915281899109792,\n",
       "  2.423026706231454],\n",
       " 2.3914154302670623)"
      ]
     },
     "execution_count": 252,
     "metadata": {},
     "output_type": "execute_result"
    }
   ],
   "source": [
    "cross_validate_model(per_pirate_fa_and_pos_specification, per_pirate_fa_and_pos_names, 10, long_format)"
   ]
  },
  {
   "cell_type": "code",
   "execution_count": 253,
   "metadata": {},
   "outputs": [
    {
     "name": "stdout",
     "output_type": "stream",
     "text": [
      "Log-likelihood at zero: -18,680.3165\n",
      "Initial Log-likelihood: -18,680.3165\n"
     ]
    },
    {
     "name": "stderr",
     "output_type": "stream",
     "text": [
      "/home/arsdragonfly/neofoodclub/envs/default/lib/python3.10/site-packages/scipy/optimize/_minimize.py:555: RuntimeWarning: Method BFGS does not use Hessian information (hess).\n",
      "  warn('Method %s does not use Hessian information (hess).' % method,\n"
     ]
    },
    {
     "name": "stdout",
     "output_type": "stream",
     "text": [
      "Estimation Time for Point Estimation: 5.12 seconds.\n",
      "Final log-likelihood: -14,434.3796\n"
     ]
    },
    {
     "name": "stderr",
     "output_type": "stream",
     "text": [
      "100%|██████████| 674/674 [00:42<00:00, 15.78it/s]\n"
     ]
    },
    {
     "name": "stdout",
     "output_type": "stream",
     "text": [
      "(672945, 674000, 2831000, 2158055, 4.201862017804155)\n",
      "Log-likelihood at zero: -18,680.3165\n",
      "Initial Log-likelihood: -18,680.3165\n"
     ]
    },
    {
     "name": "stderr",
     "output_type": "stream",
     "text": [
      "/home/arsdragonfly/neofoodclub/envs/default/lib/python3.10/site-packages/scipy/optimize/_minimize.py:555: RuntimeWarning: Method BFGS does not use Hessian information (hess).\n",
      "  warn('Method %s does not use Hessian information (hess).' % method,\n"
     ]
    },
    {
     "name": "stdout",
     "output_type": "stream",
     "text": [
      "Estimation Time for Point Estimation: 5.02 seconds.\n",
      "Final log-likelihood: -14,406.7466\n"
     ]
    },
    {
     "name": "stderr",
     "output_type": "stream",
     "text": [
      "100%|██████████| 674/674 [00:43<00:00, 15.59it/s]\n"
     ]
    },
    {
     "name": "stdout",
     "output_type": "stream",
     "text": [
      "(673123, 674000, 1285700, 612577, 1.9088679525222552)\n",
      "Log-likelihood at zero: -18,680.3165\n",
      "Initial Log-likelihood: -18,680.3165\n"
     ]
    },
    {
     "name": "stderr",
     "output_type": "stream",
     "text": [
      "/home/arsdragonfly/neofoodclub/envs/default/lib/python3.10/site-packages/scipy/optimize/_minimize.py:555: RuntimeWarning: Method BFGS does not use Hessian information (hess).\n",
      "  warn('Method %s does not use Hessian information (hess).' % method,\n"
     ]
    },
    {
     "name": "stdout",
     "output_type": "stream",
     "text": [
      "Estimation Time for Point Estimation: 4.64 seconds.\n",
      "Final log-likelihood: -14,422.9738\n"
     ]
    },
    {
     "name": "stderr",
     "output_type": "stream",
     "text": [
      "100%|██████████| 674/674 [00:43<00:00, 15.65it/s]"
     ]
    },
    {
     "name": "stdout",
     "output_type": "stream",
     "text": [
      "(673212, 674000, 1065400, 392188, 1.5818813056379821)\n",
      "Log-likelihood at zero: -18,680.3165\n",
      "Initial Log-likelihood: -18,680.3165\n"
     ]
    },
    {
     "name": "stderr",
     "output_type": "stream",
     "text": [
      "\n",
      "/home/arsdragonfly/neofoodclub/envs/default/lib/python3.10/site-packages/scipy/optimize/_minimize.py:555: RuntimeWarning: Method BFGS does not use Hessian information (hess).\n",
      "  warn('Method %s does not use Hessian information (hess).' % method,\n"
     ]
    },
    {
     "name": "stdout",
     "output_type": "stream",
     "text": [
      "Estimation Time for Point Estimation: 5.11 seconds.\n",
      "Final log-likelihood: -14,421.9032\n"
     ]
    },
    {
     "name": "stderr",
     "output_type": "stream",
     "text": [
      "100%|██████████| 674/674 [00:42<00:00, 15.87it/s]\n"
     ]
    },
    {
     "name": "stdout",
     "output_type": "stream",
     "text": [
      "(673037, 674000, 2649100, 1976063, 3.9318442136498515)\n",
      "Log-likelihood at zero: -18,680.3165\n",
      "Initial Log-likelihood: -18,680.3165\n"
     ]
    },
    {
     "name": "stderr",
     "output_type": "stream",
     "text": [
      "/home/arsdragonfly/neofoodclub/envs/default/lib/python3.10/site-packages/scipy/optimize/_minimize.py:555: RuntimeWarning: Method BFGS does not use Hessian information (hess).\n",
      "  warn('Method %s does not use Hessian information (hess).' % method,\n"
     ]
    },
    {
     "name": "stdout",
     "output_type": "stream",
     "text": [
      "Estimation Time for Point Estimation: 4.92 seconds.\n",
      "Final log-likelihood: -14,455.5643\n"
     ]
    },
    {
     "name": "stderr",
     "output_type": "stream",
     "text": [
      "100%|██████████| 674/674 [00:43<00:00, 15.59it/s]"
     ]
    },
    {
     "name": "stdout",
     "output_type": "stream",
     "text": [
      "(672971, 674000, 628900, -44071, 0.9346127596439169)\n"
     ]
    },
    {
     "name": "stderr",
     "output_type": "stream",
     "text": [
      "\n"
     ]
    },
    {
     "data": {
      "text/plain": [
       "([4.201862017804155,\n",
       "  1.9088679525222552,\n",
       "  1.5818813056379821,\n",
       "  3.9318442136498515,\n",
       "  0.9346127596439169],\n",
       " 2.511813649851632)"
      ]
     },
     "execution_count": 253,
     "metadata": {},
     "output_type": "execute_result"
    }
   ],
   "source": [
    "cross_validate_model(per_pirate_fa_and_pos_specification, per_pirate_fa_and_pos_names, 100, long_format)"
   ]
  },
  {
   "cell_type": "code",
   "execution_count": 254,
   "metadata": {},
   "outputs": [
    {
     "name": "stdout",
     "output_type": "stream",
     "text": [
      "Log-likelihood at zero: -18,680.3165\n",
      "Initial Log-likelihood: -18,680.3165\n"
     ]
    },
    {
     "name": "stderr",
     "output_type": "stream",
     "text": [
      "/home/arsdragonfly/neofoodclub/envs/default/lib/python3.10/site-packages/scipy/optimize/_minimize.py:555: RuntimeWarning: Method BFGS does not use Hessian information (hess).\n",
      "  warn('Method %s does not use Hessian information (hess).' % method,\n"
     ]
    },
    {
     "name": "stdout",
     "output_type": "stream",
     "text": [
      "Estimation Time for Point Estimation: 6.97 seconds.\n",
      "Final log-likelihood: -14,515.0251\n"
     ]
    },
    {
     "name": "stderr",
     "output_type": "stream",
     "text": [
      "100%|██████████| 674/674 [00:42<00:00, 15.80it/s]"
     ]
    },
    {
     "name": "stdout",
     "output_type": "stream",
     "text": [
      "(6682166, 6740000, 17845756, 11163590, 2.6563189910979226)\n",
      "Log-likelihood at zero: -18,680.3165\n",
      "Initial Log-likelihood: -18,680.3165\n"
     ]
    },
    {
     "name": "stderr",
     "output_type": "stream",
     "text": [
      "\n",
      "/home/arsdragonfly/neofoodclub/envs/default/lib/python3.10/site-packages/scipy/optimize/_minimize.py:555: RuntimeWarning: Method BFGS does not use Hessian information (hess).\n",
      "  warn('Method %s does not use Hessian information (hess).' % method,\n"
     ]
    },
    {
     "name": "stdout",
     "output_type": "stream",
     "text": [
      "Estimation Time for Point Estimation: 6.58 seconds.\n",
      "Final log-likelihood: -14,417.8187\n"
     ]
    },
    {
     "name": "stderr",
     "output_type": "stream",
     "text": [
      "100%|██████████| 674/674 [00:40<00:00, 16.45it/s]\n"
     ]
    },
    {
     "name": "stdout",
     "output_type": "stream",
     "text": [
      "(6677109, 6740000, 19515936, 12838827, 2.9048704747774483)\n",
      "Log-likelihood at zero: -18,680.3165\n",
      "Initial Log-likelihood: -18,680.3165\n"
     ]
    },
    {
     "name": "stderr",
     "output_type": "stream",
     "text": [
      "/home/arsdragonfly/neofoodclub/envs/default/lib/python3.10/site-packages/scipy/optimize/_minimize.py:555: RuntimeWarning: Method BFGS does not use Hessian information (hess).\n",
      "  warn('Method %s does not use Hessian information (hess).' % method,\n"
     ]
    },
    {
     "name": "stdout",
     "output_type": "stream",
     "text": [
      "Estimation Time for Point Estimation: 5.14 seconds.\n",
      "Final log-likelihood: -14,433.1259\n"
     ]
    },
    {
     "name": "stderr",
     "output_type": "stream",
     "text": [
      "100%|██████████| 674/674 [00:41<00:00, 16.18it/s]"
     ]
    },
    {
     "name": "stdout",
     "output_type": "stream",
     "text": [
      "(6692941, 6740000, 17281936, 10588995, 2.5710675074183977)\n",
      "Log-likelihood at zero: -18,680.3165\n",
      "Initial Log-likelihood: -18,680.3165\n"
     ]
    },
    {
     "name": "stderr",
     "output_type": "stream",
     "text": [
      "\n",
      "/home/arsdragonfly/neofoodclub/envs/default/lib/python3.10/site-packages/scipy/optimize/_minimize.py:555: RuntimeWarning: Method BFGS does not use Hessian information (hess).\n",
      "  warn('Method %s does not use Hessian information (hess).' % method,\n"
     ]
    },
    {
     "name": "stdout",
     "output_type": "stream",
     "text": [
      "Estimation Time for Point Estimation: 6.98 seconds.\n",
      "Final log-likelihood: -14,455.3710\n"
     ]
    },
    {
     "name": "stderr",
     "output_type": "stream",
     "text": [
      "100%|██████████| 674/674 [00:42<00:00, 15.98it/s]\n"
     ]
    },
    {
     "name": "stdout",
     "output_type": "stream",
     "text": [
      "(6685970, 6740000, 19684900, 12998930, 2.928624629080119)\n",
      "Log-likelihood at zero: -18,680.3165\n",
      "Initial Log-likelihood: -18,680.3165\n"
     ]
    },
    {
     "name": "stderr",
     "output_type": "stream",
     "text": [
      "/home/arsdragonfly/neofoodclub/envs/default/lib/python3.10/site-packages/scipy/optimize/_minimize.py:555: RuntimeWarning: Method BFGS does not use Hessian information (hess).\n",
      "  warn('Method %s does not use Hessian information (hess).' % method,\n"
     ]
    },
    {
     "name": "stdout",
     "output_type": "stream",
     "text": [
      "Estimation Time for Point Estimation: 4.75 seconds.\n",
      "Final log-likelihood: -14,480.4833\n"
     ]
    },
    {
     "name": "stderr",
     "output_type": "stream",
     "text": [
      "100%|██████████| 674/674 [00:43<00:00, 15.67it/s]"
     ]
    },
    {
     "name": "stdout",
     "output_type": "stream",
     "text": [
      "(6680222, 6740000, 17468936, 10788714, 2.60069940652819)\n"
     ]
    },
    {
     "name": "stderr",
     "output_type": "stream",
     "text": [
      "\n"
     ]
    },
    {
     "data": {
      "text/plain": [
       "([2.6563189910979226,\n",
       "  2.9048704747774483,\n",
       "  2.5710675074183977,\n",
       "  2.928624629080119,\n",
       "  2.60069940652819],\n",
       " 2.7323162017804155)"
      ]
     },
     "execution_count": 254,
     "metadata": {},
     "output_type": "execute_result"
    }
   ],
   "source": [
    "cross_validate_model(per_pirate_fa_and_pos_specification, per_pirate_fa_and_pos_names, 1000, long_format)"
   ]
  },
  {
   "cell_type": "code",
   "execution_count": 255,
   "metadata": {},
   "outputs": [
    {
     "name": "stdout",
     "output_type": "stream",
     "text": [
      "Log-likelihood at zero: -18,680.3165\n",
      "Initial Log-likelihood: -18,680.3165\n"
     ]
    },
    {
     "name": "stderr",
     "output_type": "stream",
     "text": [
      "/home/arsdragonfly/neofoodclub/envs/default/lib/python3.10/site-packages/scipy/optimize/_minimize.py:555: RuntimeWarning: Method BFGS does not use Hessian information (hess).\n",
      "  warn('Method %s does not use Hessian information (hess).' % method,\n"
     ]
    },
    {
     "name": "stdout",
     "output_type": "stream",
     "text": [
      "Estimation Time for Point Estimation: 6.47 seconds.\n",
      "Final log-likelihood: -14,409.7056\n"
     ]
    },
    {
     "name": "stderr",
     "output_type": "stream",
     "text": [
      "100%|██████████| 674/674 [00:39<00:00, 17.24it/s]\n"
     ]
    },
    {
     "name": "stdout",
     "output_type": "stream",
     "text": [
      "(65389429, 67400000, 131089812, 65700383, 1.9747831305637982)\n",
      "Log-likelihood at zero: -18,680.3165\n",
      "Initial Log-likelihood: -18,680.3165\n"
     ]
    },
    {
     "name": "stderr",
     "output_type": "stream",
     "text": [
      "/home/arsdragonfly/neofoodclub/envs/default/lib/python3.10/site-packages/scipy/optimize/_minimize.py:555: RuntimeWarning: Method BFGS does not use Hessian information (hess).\n",
      "  warn('Method %s does not use Hessian information (hess).' % method,\n"
     ]
    },
    {
     "name": "stdout",
     "output_type": "stream",
     "text": [
      "Estimation Time for Point Estimation: 6.78 seconds.\n",
      "Final log-likelihood: -14,397.4743\n"
     ]
    },
    {
     "name": "stderr",
     "output_type": "stream",
     "text": [
      "100%|██████████| 674/674 [00:38<00:00, 17.32it/s]"
     ]
    },
    {
     "name": "stdout",
     "output_type": "stream",
     "text": [
      "(65401481, 67400000, 136499676, 71098195, 2.0548693620178042)\n",
      "Log-likelihood at zero: -18,680.3165\n",
      "Initial Log-likelihood: -18,680.3165\n"
     ]
    },
    {
     "name": "stderr",
     "output_type": "stream",
     "text": [
      "\n",
      "/home/arsdragonfly/neofoodclub/envs/default/lib/python3.10/site-packages/scipy/optimize/_minimize.py:555: RuntimeWarning: Method BFGS does not use Hessian information (hess).\n",
      "  warn('Method %s does not use Hessian information (hess).' % method,\n"
     ]
    },
    {
     "name": "stdout",
     "output_type": "stream",
     "text": [
      "Estimation Time for Point Estimation: 5.98 seconds.\n",
      "Final log-likelihood: -14,464.0062\n"
     ]
    },
    {
     "name": "stderr",
     "output_type": "stream",
     "text": [
      "100%|██████████| 674/674 [00:39<00:00, 17.13it/s]"
     ]
    },
    {
     "name": "stdout",
     "output_type": "stream",
     "text": [
      "(65443535, 67400000, 133469704, 68026169, 2.009290341246291)\n",
      "Log-likelihood at zero: -18,680.3165\n",
      "Initial Log-likelihood: -18,680.3165\n"
     ]
    },
    {
     "name": "stderr",
     "output_type": "stream",
     "text": [
      "\n",
      "/home/arsdragonfly/neofoodclub/envs/default/lib/python3.10/site-packages/scipy/optimize/_minimize.py:555: RuntimeWarning: Method BFGS does not use Hessian information (hess).\n",
      "  warn('Method %s does not use Hessian information (hess).' % method,\n"
     ]
    },
    {
     "name": "stdout",
     "output_type": "stream",
     "text": [
      "Estimation Time for Point Estimation: 4.58 seconds.\n",
      "Final log-likelihood: -14,483.3241\n"
     ]
    },
    {
     "name": "stderr",
     "output_type": "stream",
     "text": [
      "100%|██████████| 674/674 [00:39<00:00, 16.95it/s]"
     ]
    },
    {
     "name": "stdout",
     "output_type": "stream",
     "text": [
      "(65430192, 67400000, 134079664, 68649472, 2.0185381602373886)\n",
      "Log-likelihood at zero: -18,680.3165\n",
      "Initial Log-likelihood: -18,680.3165\n"
     ]
    },
    {
     "name": "stderr",
     "output_type": "stream",
     "text": [
      "\n",
      "/home/arsdragonfly/neofoodclub/envs/default/lib/python3.10/site-packages/scipy/optimize/_minimize.py:555: RuntimeWarning: Method BFGS does not use Hessian information (hess).\n",
      "  warn('Method %s does not use Hessian information (hess).' % method,\n"
     ]
    },
    {
     "name": "stdout",
     "output_type": "stream",
     "text": [
      "Estimation Time for Point Estimation: 5.01 seconds.\n",
      "Final log-likelihood: -14,497.6654\n"
     ]
    },
    {
     "name": "stderr",
     "output_type": "stream",
     "text": [
      "100%|██████████| 674/674 [00:40<00:00, 16.68it/s]"
     ]
    },
    {
     "name": "stdout",
     "output_type": "stream",
     "text": [
      "(65237724, 67400000, 148489675, 83251951, 2.235192151335312)\n"
     ]
    },
    {
     "name": "stderr",
     "output_type": "stream",
     "text": [
      "\n"
     ]
    },
    {
     "data": {
      "text/plain": [
       "([1.9747831305637982,\n",
       "  2.0548693620178042,\n",
       "  2.009290341246291,\n",
       "  2.0185381602373886,\n",
       "  2.235192151335312],\n",
       " 2.0585346290801185)"
      ]
     },
     "execution_count": 255,
     "metadata": {},
     "output_type": "execute_result"
    }
   ],
   "source": [
    "cross_validate_model(per_pirate_fa_and_pos_specification, per_pirate_fa_and_pos_names, 10000, long_format)"
   ]
  },
  {
   "cell_type": "code",
   "execution_count": 256,
   "metadata": {},
   "outputs": [
    {
     "name": "stdout",
     "output_type": "stream",
     "text": [
      "Log-likelihood at zero: -18,680.3165\n",
      "Initial Log-likelihood: -18,680.3165\n"
     ]
    },
    {
     "name": "stderr",
     "output_type": "stream",
     "text": [
      "/home/arsdragonfly/neofoodclub/envs/default/lib/python3.10/site-packages/scipy/optimize/_minimize.py:555: RuntimeWarning: Method BFGS does not use Hessian information (hess).\n",
      "  warn('Method %s does not use Hessian information (hess).' % method,\n"
     ]
    },
    {
     "name": "stdout",
     "output_type": "stream",
     "text": [
      "Estimation Time for Point Estimation: 6.27 seconds.\n",
      "Final log-likelihood: -14,465.0890\n"
     ]
    },
    {
     "name": "stderr",
     "output_type": "stream",
     "text": [
      "100%|██████████| 674/674 [00:40<00:00, 16.62it/s]"
     ]
    },
    {
     "name": "stdout",
     "output_type": "stream",
     "text": [
      "(20998059, 21311880, 48451012, 27452953, 2.2881525703035113)\n",
      "Log-likelihood at zero: -18,680.3165\n",
      "Initial Log-likelihood: -18,680.3165\n"
     ]
    },
    {
     "name": "stderr",
     "output_type": "stream",
     "text": [
      "\n",
      "/home/arsdragonfly/neofoodclub/envs/default/lib/python3.10/site-packages/scipy/optimize/_minimize.py:555: RuntimeWarning: Method BFGS does not use Hessian information (hess).\n",
      "  warn('Method %s does not use Hessian information (hess).' % method,\n"
     ]
    },
    {
     "name": "stdout",
     "output_type": "stream",
     "text": [
      "Estimation Time for Point Estimation: 4.97 seconds.\n",
      "Final log-likelihood: -14,431.0447\n"
     ]
    },
    {
     "name": "stderr",
     "output_type": "stream",
     "text": [
      "100%|██████████| 674/674 [00:40<00:00, 16.64it/s]"
     ]
    },
    {
     "name": "stdout",
     "output_type": "stream",
     "text": [
      "(20994382, 21311880, 44371472, 23377090, 2.096904168003949)\n",
      "Log-likelihood at zero: -18,680.3165\n",
      "Initial Log-likelihood: -18,680.3165\n"
     ]
    },
    {
     "name": "stderr",
     "output_type": "stream",
     "text": [
      "\n",
      "/home/arsdragonfly/neofoodclub/envs/default/lib/python3.10/site-packages/scipy/optimize/_minimize.py:555: RuntimeWarning: Method BFGS does not use Hessian information (hess).\n",
      "  warn('Method %s does not use Hessian information (hess).' % method,\n"
     ]
    },
    {
     "name": "stdout",
     "output_type": "stream",
     "text": [
      "Estimation Time for Point Estimation: 4.85 seconds.\n",
      "Final log-likelihood: -14,383.6890\n"
     ]
    },
    {
     "name": "stderr",
     "output_type": "stream",
     "text": [
      "100%|██████████| 674/674 [00:40<00:00, 16.80it/s]"
     ]
    },
    {
     "name": "stdout",
     "output_type": "stream",
     "text": [
      "(20992729, 21311880, 42337634, 21344905, 2.001549605196726)\n",
      "Log-likelihood at zero: -18,680.3165\n",
      "Initial Log-likelihood: -18,680.3165\n"
     ]
    },
    {
     "name": "stderr",
     "output_type": "stream",
     "text": [
      "\n",
      "/home/arsdragonfly/neofoodclub/envs/default/lib/python3.10/site-packages/scipy/optimize/_minimize.py:555: RuntimeWarning: Method BFGS does not use Hessian information (hess).\n",
      "  warn('Method %s does not use Hessian information (hess).' % method,\n"
     ]
    },
    {
     "name": "stdout",
     "output_type": "stream",
     "text": [
      "Estimation Time for Point Estimation: 5.79 seconds.\n",
      "Final log-likelihood: -14,494.0825\n"
     ]
    },
    {
     "name": "stderr",
     "output_type": "stream",
     "text": [
      "100%|██████████| 674/674 [00:40<00:00, 16.78it/s]"
     ]
    },
    {
     "name": "stdout",
     "output_type": "stream",
     "text": [
      "(20964960, 21311880, 41811598, 20846638, 1.9781698282835678)\n",
      "Log-likelihood at zero: -18,680.3165\n",
      "Initial Log-likelihood: -18,680.3165\n"
     ]
    },
    {
     "name": "stderr",
     "output_type": "stream",
     "text": [
      "\n",
      "/home/arsdragonfly/neofoodclub/envs/default/lib/python3.10/site-packages/scipy/optimize/_minimize.py:555: RuntimeWarning: Method BFGS does not use Hessian information (hess).\n",
      "  warn('Method %s does not use Hessian information (hess).' % method,\n"
     ]
    },
    {
     "name": "stdout",
     "output_type": "stream",
     "text": [
      "Estimation Time for Point Estimation: 6.82 seconds.\n",
      "Final log-likelihood: -14,431.1700\n"
     ]
    },
    {
     "name": "stderr",
     "output_type": "stream",
     "text": [
      "100%|██████████| 674/674 [00:39<00:00, 17.01it/s]"
     ]
    },
    {
     "name": "stdout",
     "output_type": "stream",
     "text": [
      "(20969660, 21311880, 48127966, 27158306, 2.2743270889288043)\n"
     ]
    },
    {
     "name": "stderr",
     "output_type": "stream",
     "text": [
      "\n"
     ]
    },
    {
     "data": {
      "text/plain": [
       "([2.2881525703035113,\n",
       "  2.096904168003949,\n",
       "  2.001549605196726,\n",
       "  1.9781698282835678,\n",
       "  2.2743270889288043],\n",
       " 2.127820652143311)"
      ]
     },
     "execution_count": 256,
     "metadata": {},
     "output_type": "execute_result"
    }
   ],
   "source": [
    "cross_validate_model(per_pirate_fa_and_pos_specification, per_pirate_fa_and_pos_names, 3162, long_format)"
   ]
  },
  {
   "cell_type": "code",
   "execution_count": 244,
   "metadata": {},
   "outputs": [
    {
     "data": {
      "text/plain": [
       "array([0.225     , 0.05      , 0.05      , 0.675     , 0.05      ,\n",
       "       0.11805556, 0.05      , 0.78194444, 0.43690476, 0.1547619 ,\n",
       "       0.18333333, 0.225     , 0.05      , 0.225     , 0.54166667,\n",
       "       0.18333333, 0.08712121, 0.30429293, 0.30429293, 0.30429293])"
      ]
     },
     "execution_count": 244,
     "metadata": {},
     "output_type": "execute_result"
    }
   ],
   "source": [
    "# reimplementation in python of our heirloom snakeoil model for probabilities\n",
    "from fractions import Fraction\n",
    "\n",
    "class SnakeOilModel:\n",
    "    def __init__(self):\n",
    "        pass\n",
    "    def predict(self, df):\n",
    "        # some conversion\n",
    "        opening_odds_series = df[\"opening_odds\"]\n",
    "        opening_odds = np.ones((5, 5), dtype=Fraction)\n",
    "        for i in range(5):\n",
    "            for j in range(1, 5):\n",
    "                opening_odds[i][j] = opening_odds_series[i*4 + j - 1]\n",
    "        # below courtesy of nsheng\n",
    "        min_probs = np.zeros([5, 5], dtype=Fraction)\n",
    "        max_probs = np.zeros([5, 5], dtype=Fraction)\n",
    "        std_probs = np.zeros([5, 5], dtype=Fraction)\n",
    "\n",
    "        for a in range(5):\n",
    "            for p in range(1, 5):\n",
    "                if opening_odds[a, p] == 13:\n",
    "                    min_probs[a, p] = 0\n",
    "                    max_probs[a, p] = Fraction(1, 13)\n",
    "                elif opening_odds[a, p] == 2:\n",
    "                    min_probs[a, p] = Fraction(1, 3)\n",
    "                    max_probs[a, p] = 1\n",
    "                else:\n",
    "                    min_probs[a, p] = Fraction(1, opening_odds[a, p] + 1)\n",
    "                    max_probs[a, p] = Fraction(1, opening_odds[a, p])\n",
    "            total_min = np.sum(min_probs[a])\n",
    "            total_max = np.sum(max_probs[a])\n",
    "\n",
    "            for p in range(1, 5):\n",
    "                min_probs[a, p] = max(min_probs[a, p], 1 + max_probs[a, p] - total_max)\n",
    "                max_probs[a, p] = min(max_probs[a, p], 1 + min_probs[a, p] - total_min)\n",
    "                if opening_odds[a, p] == 13:\n",
    "                    std_probs[a, p] = Fraction(1, 20)\n",
    "                else:\n",
    "                    std_probs[a, p] = Fraction(min_probs[a, p] + max_probs[a, p], 2)\n",
    "\n",
    "            for odd in range(2, 14):\n",
    "                total_std = np.sum(std_probs[a])\n",
    "                if total_std == 1:\n",
    "                    break\n",
    "                count_smaller = np.count_nonzero(opening_odds[a, 1:] <= odd)\n",
    "                if count_smaller == 0:\n",
    "                    continue\n",
    "                std_to_min = np.sum(\n",
    "                    np.where(\n",
    "                        opening_odds[a] <= odd,\n",
    "                        std_probs[a] - min_probs[a],\n",
    "                        np.zeros([5], dtype=Fraction),\n",
    "                    )\n",
    "                )\n",
    "                smallest_range = np.min(\n",
    "                    np.where(\n",
    "                        opening_odds[a, 1:] <= odd,\n",
    "                        max_probs[a, 1:] - min_probs[a, 1:],\n",
    "                        np.ones([4], dtype=Fraction)\n",
    "                    )\n",
    "                )\n",
    "                if (\n",
    "                    total_std - std_to_min <= 1\n",
    "                    and std_to_min + 1 - total_std <= smallest_range * count_smaller\n",
    "                ):\n",
    "                    remaining_gap = Fraction(std_to_min + 1 - total_std, count_smaller)\n",
    "                    for p in range(1, 5):\n",
    "                        if opening_odds[a, p] <= odd:\n",
    "                            std_probs[a, p] = min_probs[a, p] + remaining_gap\n",
    "                    break\n",
    "\n",
    "        std_probs[:, 0] = np.ones([5])\n",
    "\n",
    "        # convert things back\n",
    "        return np.reshape(std_probs[:, 1:], (20)).astype(np.float64)\n",
    "\n",
    "SnakeOilModel().predict(tmp)\n"
   ]
  },
  {
   "cell_type": "code",
   "execution_count": 245,
   "metadata": {},
   "outputs": [
    {
     "name": "stderr",
     "output_type": "stream",
     "text": [
      "100%|██████████| 3369/3369 [03:03<00:00, 18.31it/s]\n"
     ]
    },
    {
     "data": {
      "text/plain": [
       "(33389, 33690, 72097, 38708, 2.148946274859009)"
      ]
     },
     "execution_count": 245,
     "metadata": {},
     "output_type": "execute_result"
    }
   ],
   "source": [
    "backtest_model_with_cap(SnakeOilModel(), 1, history_rounds)"
   ]
  },
  {
   "cell_type": "code",
   "execution_count": 246,
   "metadata": {},
   "outputs": [
    {
     "name": "stderr",
     "output_type": "stream",
     "text": [
      "100%|██████████| 3369/3369 [02:51<00:00, 19.60it/s]\n"
     ]
    },
    {
     "data": {
      "text/plain": [
       "(330628247, 336900000, 687559223, 356930976, 2.0594567408726627)"
      ]
     },
     "execution_count": 246,
     "metadata": {},
     "output_type": "execute_result"
    }
   ],
   "source": [
    "backtest_model_with_cap(SnakeOilModel(), 10000, history_rounds)"
   ]
  },
  {
   "cell_type": "code",
   "execution_count": 257,
   "metadata": {},
   "outputs": [
    {
     "data": {
      "text/html": [
       "<div>\n",
       "<style scoped>\n",
       "    .dataframe tbody tr th:only-of-type {\n",
       "        vertical-align: middle;\n",
       "    }\n",
       "\n",
       "    .dataframe tbody tr th {\n",
       "        vertical-align: top;\n",
       "    }\n",
       "\n",
       "    .dataframe thead th {\n",
       "        text-align: right;\n",
       "    }\n",
       "</style>\n",
       "<table border=\"1\" class=\"dataframe\">\n",
       "  <thead>\n",
       "    <tr style=\"text-align: right;\">\n",
       "      <th></th>\n",
       "      <th>round</th>\n",
       "      <th>arena</th>\n",
       "      <th>win</th>\n",
       "      <th>pirate</th>\n",
       "      <th>fa</th>\n",
       "      <th>position</th>\n",
       "      <th>opening_odds</th>\n",
       "      <th>closing_odds</th>\n",
       "      <th>match_id</th>\n",
       "    </tr>\n",
       "  </thead>\n",
       "  <tbody>\n",
       "    <tr>\n",
       "      <th>0</th>\n",
       "      <td>8641</td>\n",
       "      <td>0</td>\n",
       "      <td>0</td>\n",
       "      <td>19</td>\n",
       "      <td>2</td>\n",
       "      <td>1</td>\n",
       "      <td>4</td>\n",
       "      <td>4</td>\n",
       "      <td>43205</td>\n",
       "    </tr>\n",
       "    <tr>\n",
       "      <th>1</th>\n",
       "      <td>8641</td>\n",
       "      <td>0</td>\n",
       "      <td>0</td>\n",
       "      <td>12</td>\n",
       "      <td>4</td>\n",
       "      <td>2</td>\n",
       "      <td>13</td>\n",
       "      <td>13</td>\n",
       "      <td>43205</td>\n",
       "    </tr>\n",
       "    <tr>\n",
       "      <th>2</th>\n",
       "      <td>8641</td>\n",
       "      <td>0</td>\n",
       "      <td>0</td>\n",
       "      <td>2</td>\n",
       "      <td>3</td>\n",
       "      <td>3</td>\n",
       "      <td>13</td>\n",
       "      <td>13</td>\n",
       "      <td>43205</td>\n",
       "    </tr>\n",
       "    <tr>\n",
       "      <th>3</th>\n",
       "      <td>8641</td>\n",
       "      <td>0</td>\n",
       "      <td>1</td>\n",
       "      <td>15</td>\n",
       "      <td>3</td>\n",
       "      <td>4</td>\n",
       "      <td>2</td>\n",
       "      <td>2</td>\n",
       "      <td>43205</td>\n",
       "    </tr>\n",
       "    <tr>\n",
       "      <th>4</th>\n",
       "      <td>8641</td>\n",
       "      <td>1</td>\n",
       "      <td>0</td>\n",
       "      <td>10</td>\n",
       "      <td>1</td>\n",
       "      <td>1</td>\n",
       "      <td>13</td>\n",
       "      <td>13</td>\n",
       "      <td>43206</td>\n",
       "    </tr>\n",
       "    <tr>\n",
       "      <th>5</th>\n",
       "      <td>8641</td>\n",
       "      <td>1</td>\n",
       "      <td>0</td>\n",
       "      <td>20</td>\n",
       "      <td>-1</td>\n",
       "      <td>2</td>\n",
       "      <td>8</td>\n",
       "      <td>12</td>\n",
       "      <td>43206</td>\n",
       "    </tr>\n",
       "    <tr>\n",
       "      <th>6</th>\n",
       "      <td>8641</td>\n",
       "      <td>1</td>\n",
       "      <td>0</td>\n",
       "      <td>8</td>\n",
       "      <td>-2</td>\n",
       "      <td>3</td>\n",
       "      <td>13</td>\n",
       "      <td>13</td>\n",
       "      <td>43206</td>\n",
       "    </tr>\n",
       "    <tr>\n",
       "      <th>7</th>\n",
       "      <td>8641</td>\n",
       "      <td>1</td>\n",
       "      <td>1</td>\n",
       "      <td>4</td>\n",
       "      <td>3</td>\n",
       "      <td>4</td>\n",
       "      <td>2</td>\n",
       "      <td>2</td>\n",
       "      <td>43206</td>\n",
       "    </tr>\n",
       "    <tr>\n",
       "      <th>8</th>\n",
       "      <td>8641</td>\n",
       "      <td>2</td>\n",
       "      <td>1</td>\n",
       "      <td>17</td>\n",
       "      <td>4</td>\n",
       "      <td>1</td>\n",
       "      <td>2</td>\n",
       "      <td>2</td>\n",
       "      <td>43207</td>\n",
       "    </tr>\n",
       "    <tr>\n",
       "      <th>9</th>\n",
       "      <td>8641</td>\n",
       "      <td>2</td>\n",
       "      <td>0</td>\n",
       "      <td>7</td>\n",
       "      <td>-1</td>\n",
       "      <td>2</td>\n",
       "      <td>6</td>\n",
       "      <td>6</td>\n",
       "      <td>43207</td>\n",
       "    </tr>\n",
       "    <tr>\n",
       "      <th>10</th>\n",
       "      <td>8641</td>\n",
       "      <td>2</td>\n",
       "      <td>0</td>\n",
       "      <td>18</td>\n",
       "      <td>2</td>\n",
       "      <td>3</td>\n",
       "      <td>5</td>\n",
       "      <td>5</td>\n",
       "      <td>43207</td>\n",
       "    </tr>\n",
       "    <tr>\n",
       "      <th>11</th>\n",
       "      <td>8641</td>\n",
       "      <td>2</td>\n",
       "      <td>0</td>\n",
       "      <td>6</td>\n",
       "      <td>1</td>\n",
       "      <td>4</td>\n",
       "      <td>4</td>\n",
       "      <td>4</td>\n",
       "      <td>43207</td>\n",
       "    </tr>\n",
       "    <tr>\n",
       "      <th>12</th>\n",
       "      <td>8641</td>\n",
       "      <td>3</td>\n",
       "      <td>0</td>\n",
       "      <td>16</td>\n",
       "      <td>-2</td>\n",
       "      <td>1</td>\n",
       "      <td>13</td>\n",
       "      <td>13</td>\n",
       "      <td>43208</td>\n",
       "    </tr>\n",
       "    <tr>\n",
       "      <th>13</th>\n",
       "      <td>8641</td>\n",
       "      <td>3</td>\n",
       "      <td>1</td>\n",
       "      <td>1</td>\n",
       "      <td>-1</td>\n",
       "      <td>2</td>\n",
       "      <td>4</td>\n",
       "      <td>5</td>\n",
       "      <td>43208</td>\n",
       "    </tr>\n",
       "    <tr>\n",
       "      <th>14</th>\n",
       "      <td>8641</td>\n",
       "      <td>3</td>\n",
       "      <td>0</td>\n",
       "      <td>5</td>\n",
       "      <td>4</td>\n",
       "      <td>3</td>\n",
       "      <td>2</td>\n",
       "      <td>2</td>\n",
       "      <td>43208</td>\n",
       "    </tr>\n",
       "    <tr>\n",
       "      <th>15</th>\n",
       "      <td>8641</td>\n",
       "      <td>3</td>\n",
       "      <td>0</td>\n",
       "      <td>14</td>\n",
       "      <td>1</td>\n",
       "      <td>4</td>\n",
       "      <td>5</td>\n",
       "      <td>7</td>\n",
       "      <td>43208</td>\n",
       "    </tr>\n",
       "    <tr>\n",
       "      <th>16</th>\n",
       "      <td>8641</td>\n",
       "      <td>4</td>\n",
       "      <td>0</td>\n",
       "      <td>11</td>\n",
       "      <td>0</td>\n",
       "      <td>1</td>\n",
       "      <td>11</td>\n",
       "      <td>8</td>\n",
       "      <td>43209</td>\n",
       "    </tr>\n",
       "    <tr>\n",
       "      <th>17</th>\n",
       "      <td>8641</td>\n",
       "      <td>4</td>\n",
       "      <td>1</td>\n",
       "      <td>13</td>\n",
       "      <td>-1</td>\n",
       "      <td>2</td>\n",
       "      <td>3</td>\n",
       "      <td>4</td>\n",
       "      <td>43209</td>\n",
       "    </tr>\n",
       "    <tr>\n",
       "      <th>18</th>\n",
       "      <td>8641</td>\n",
       "      <td>4</td>\n",
       "      <td>0</td>\n",
       "      <td>3</td>\n",
       "      <td>3</td>\n",
       "      <td>3</td>\n",
       "      <td>3</td>\n",
       "      <td>3</td>\n",
       "      <td>43209</td>\n",
       "    </tr>\n",
       "    <tr>\n",
       "      <th>19</th>\n",
       "      <td>8641</td>\n",
       "      <td>4</td>\n",
       "      <td>0</td>\n",
       "      <td>9</td>\n",
       "      <td>1</td>\n",
       "      <td>4</td>\n",
       "      <td>3</td>\n",
       "      <td>4</td>\n",
       "      <td>43209</td>\n",
       "    </tr>\n",
       "  </tbody>\n",
       "</table>\n",
       "</div>"
      ],
      "text/plain": [
       "    round  arena  win  pirate  fa  position  opening_odds  closing_odds  \\\n",
       "0    8641      0    0      19   2         1             4             4   \n",
       "1    8641      0    0      12   4         2            13            13   \n",
       "2    8641      0    0       2   3         3            13            13   \n",
       "3    8641      0    1      15   3         4             2             2   \n",
       "4    8641      1    0      10   1         1            13            13   \n",
       "5    8641      1    0      20  -1         2             8            12   \n",
       "6    8641      1    0       8  -2         3            13            13   \n",
       "7    8641      1    1       4   3         4             2             2   \n",
       "8    8641      2    1      17   4         1             2             2   \n",
       "9    8641      2    0       7  -1         2             6             6   \n",
       "10   8641      2    0      18   2         3             5             5   \n",
       "11   8641      2    0       6   1         4             4             4   \n",
       "12   8641      3    0      16  -2         1            13            13   \n",
       "13   8641      3    1       1  -1         2             4             5   \n",
       "14   8641      3    0       5   4         3             2             2   \n",
       "15   8641      3    0      14   1         4             5             7   \n",
       "16   8641      4    0      11   0         1            11             8   \n",
       "17   8641      4    1      13  -1         2             3             4   \n",
       "18   8641      4    0       3   3         3             3             3   \n",
       "19   8641      4    0       9   1         4             3             4   \n",
       "\n",
       "    match_id  \n",
       "0      43205  \n",
       "1      43205  \n",
       "2      43205  \n",
       "3      43205  \n",
       "4      43206  \n",
       "5      43206  \n",
       "6      43206  \n",
       "7      43206  \n",
       "8      43207  \n",
       "9      43207  \n",
       "10     43207  \n",
       "11     43207  \n",
       "12     43208  \n",
       "13     43208  \n",
       "14     43208  \n",
       "15     43208  \n",
       "16     43209  \n",
       "17     43209  \n",
       "18     43209  \n",
       "19     43209  "
      ]
     },
     "execution_count": 257,
     "metadata": {},
     "output_type": "execute_result"
    }
   ],
   "source": [
    "tmp"
   ]
  },
  {
   "cell_type": "code",
   "execution_count": 263,
   "metadata": {},
   "outputs": [
    {
     "data": {
      "text/plain": [
       "[13, 2, 13, 2, 13, 13, 2, 13, 2, 3, 13, 6, 11, 3, 2, 6, 13, 2, 13, 13]"
      ]
     },
     "execution_count": 263,
     "metadata": {},
     "output_type": "execute_result"
    }
   ],
   "source": [
    "get_round(8643)['closing_odds'].tolist()"
   ]
  },
  {
   "cell_type": "code",
   "execution_count": 264,
   "metadata": {},
   "outputs": [
    {
     "data": {
      "text/plain": [
       "[((4, 3, 1, 4, 2), 1, 3.440476621462123, 2.440476621462123, 96),\n",
       " ((4, 3, 0, 4, 2), 1, 3.37334546114733, 2.37334546114733, 48),\n",
       " ((0, 3, 1, 4, 2), 1, 3.331062310032979, 2.331062310032979, 48),\n",
       " ((0, 3, 0, 4, 2), 1, 3.266066060223162, 2.266066060223162, 24),\n",
       " ((4, 3, 1, 2, 2), 1, 3.198357342190995, 2.198357342190995, 48),\n",
       " ((4, 3, 1, 0, 2), 1, 3.177154877110208, 2.177154877110208, 16),\n",
       " ((4, 3, 0, 2, 2), 1, 3.135950454103678, 2.135950454103678, 24),\n",
       " ((4, 3, 0, 0, 2), 1, 3.1151616950988243, 2.1151616950988243, 8),\n",
       " ((0, 3, 1, 2, 2), 1, 3.0966429273575473, 2.0966429273575473, 24),\n",
       " ((0, 3, 1, 0, 2), 1, 3.076114744759293, 2.076114744759293, 8)]"
      ]
     },
     "execution_count": 264,
     "metadata": {},
     "output_type": "execute_result"
    }
   ],
   "source": [
    "sorted(list(get_profitable_bets(\n",
    "        [13, 2, 13, 2, 13, 13, 2, 13, 2, 3, 13, 6, 11, 3, 2, 6, 13, 2, 13, 13],\n",
    "        get_estimated_probabilities(get_round(8643), per_pirate_fa_and_pos_mnl), 1)),\n",
    "        key=lambda x: x[3], reverse=True)[:10]"
   ]
  },
  {
   "cell_type": "code",
   "execution_count": 268,
   "metadata": {},
   "outputs": [
    {
     "data": {
      "text/plain": [
       "6"
      ]
     },
     "execution_count": 268,
     "metadata": {},
     "output_type": "execute_result"
    }
   ],
   "source": [
    "len(per_pirate_fa_specification.items())"
   ]
  },
  {
   "cell_type": "code",
   "execution_count": 283,
   "metadata": {},
   "outputs": [
    {
     "name": "stdout",
     "output_type": "stream",
     "text": [
      "Log-likelihood at zero: -18,680.3165\n",
      "Initial Log-likelihood: -18,680.3165\n"
     ]
    },
    {
     "name": "stderr",
     "output_type": "stream",
     "text": [
      "/home/arsdragonfly/neofoodclub/envs/default/lib/python3.10/site-packages/scipy/optimize/_minimize.py:555: RuntimeWarning: Method BFGS does not use Hessian information (hess).\n",
      "  warn('Method %s does not use Hessian information (hess).' % method,\n"
     ]
    },
    {
     "name": "stdout",
     "output_type": "stream",
     "text": [
      "Estimation Time for Point Estimation: 5.06 seconds.\n",
      "Final log-likelihood: -14,470.3408\n"
     ]
    },
    {
     "name": "stderr",
     "output_type": "stream",
     "text": [
      "100%|██████████| 674/674 [00:44<00:00, 15.18it/s]"
     ]
    },
    {
     "name": "stdout",
     "output_type": "stream",
     "text": [
      "(6740, 6740, 20962, 14222, 3.1100890207715133)\n",
      "Log-likelihood at zero: -18,680.3165\n",
      "Initial Log-likelihood: -18,680.3165\n"
     ]
    },
    {
     "name": "stderr",
     "output_type": "stream",
     "text": [
      "\n",
      "/home/arsdragonfly/neofoodclub/envs/default/lib/python3.10/site-packages/scipy/optimize/_minimize.py:555: RuntimeWarning: Method BFGS does not use Hessian information (hess).\n",
      "  warn('Method %s does not use Hessian information (hess).' % method,\n"
     ]
    },
    {
     "name": "stdout",
     "output_type": "stream",
     "text": [
      "Estimation Time for Point Estimation: 2.29 seconds.\n",
      "Final log-likelihood: -14,423.6355\n"
     ]
    },
    {
     "name": "stderr",
     "output_type": "stream",
     "text": [
      "100%|██████████| 674/674 [00:42<00:00, 15.80it/s]\n"
     ]
    },
    {
     "name": "stdout",
     "output_type": "stream",
     "text": [
      "(6740, 6740, 16410, 9670, 2.4347181008902075)\n",
      "Log-likelihood at zero: -18,680.3165\n",
      "Initial Log-likelihood: -18,680.3165\n"
     ]
    },
    {
     "name": "stderr",
     "output_type": "stream",
     "text": [
      "/home/arsdragonfly/neofoodclub/envs/default/lib/python3.10/site-packages/scipy/optimize/_minimize.py:555: RuntimeWarning: Method BFGS does not use Hessian information (hess).\n",
      "  warn('Method %s does not use Hessian information (hess).' % method,\n"
     ]
    },
    {
     "name": "stdout",
     "output_type": "stream",
     "text": [
      "Estimation Time for Point Estimation: 4.88 seconds.\n",
      "Final log-likelihood: -14,435.9278\n"
     ]
    },
    {
     "name": "stderr",
     "output_type": "stream",
     "text": [
      "100%|██████████| 674/674 [00:43<00:00, 15.48it/s]"
     ]
    },
    {
     "name": "stdout",
     "output_type": "stream",
     "text": [
      "(6740, 6740, 32392, 25652, 4.80593471810089)\n",
      "Log-likelihood at zero: -18,680.3165\n",
      "Initial Log-likelihood: -18,680.3165\n"
     ]
    },
    {
     "name": "stderr",
     "output_type": "stream",
     "text": [
      "\n",
      "/home/arsdragonfly/neofoodclub/envs/default/lib/python3.10/site-packages/scipy/optimize/_minimize.py:555: RuntimeWarning: Method BFGS does not use Hessian information (hess).\n",
      "  warn('Method %s does not use Hessian information (hess).' % method,\n"
     ]
    },
    {
     "name": "stdout",
     "output_type": "stream",
     "text": [
      "Estimation Time for Point Estimation: 2.29 seconds.\n",
      "Final log-likelihood: -14,482.9898\n"
     ]
    },
    {
     "name": "stderr",
     "output_type": "stream",
     "text": [
      "100%|██████████| 674/674 [00:45<00:00, 14.85it/s]"
     ]
    },
    {
     "name": "stdout",
     "output_type": "stream",
     "text": [
      "(6740, 6740, 8962, 2222, 1.329673590504451)\n",
      "Log-likelihood at zero: -18,680.3165\n",
      "Initial Log-likelihood: -18,680.3165\n"
     ]
    },
    {
     "name": "stderr",
     "output_type": "stream",
     "text": [
      "\n",
      "/home/arsdragonfly/neofoodclub/envs/default/lib/python3.10/site-packages/scipy/optimize/_minimize.py:555: RuntimeWarning: Method BFGS does not use Hessian information (hess).\n",
      "  warn('Method %s does not use Hessian information (hess).' % method,\n"
     ]
    },
    {
     "name": "stdout",
     "output_type": "stream",
     "text": [
      "Estimation Time for Point Estimation: 4.61 seconds.\n",
      "Final log-likelihood: -14,521.7988\n"
     ]
    },
    {
     "name": "stderr",
     "output_type": "stream",
     "text": [
      "100%|██████████| 674/674 [00:45<00:00, 14.67it/s]"
     ]
    },
    {
     "name": "stdout",
     "output_type": "stream",
     "text": [
      "(6740, 6740, 22178, 15438, 3.2905044510385757)\n"
     ]
    },
    {
     "name": "stderr",
     "output_type": "stream",
     "text": [
      "\n"
     ]
    },
    {
     "data": {
      "text/plain": [
       "([3.1100890207715133,\n",
       "  2.4347181008902075,\n",
       "  4.80593471810089,\n",
       "  1.329673590504451,\n",
       "  3.2905044510385757],\n",
       " 2.9941839762611275)"
      ]
     },
     "execution_count": 283,
     "metadata": {},
     "output_type": "execute_result"
    }
   ],
   "source": [
    "cross_validate_model(per_pirate_fa_and_pos_specification, per_pirate_fa_and_pos_names, 1, long_format)"
   ]
  },
  {
   "cell_type": "code",
   "execution_count": null,
   "metadata": {},
   "outputs": [],
   "source": []
  }
 ],
 "metadata": {
  "kernelspec": {
   "display_name": "Python 3",
   "language": "python",
   "name": "python3"
  },
  "language_info": {
   "codemirror_mode": {
    "name": "ipython",
    "version": 3
   },
   "file_extension": ".py",
   "mimetype": "text/x-python",
   "name": "python",
   "nbconvert_exporter": "python",
   "pygments_lexer": "ipython3",
   "version": "3.10.8"
  },
  "orig_nbformat": 4,
  "vscode": {
   "interpreter": {
    "hash": "b017891a7a1fc97a96375d3bd16ebf0f7772c2f2b1f4fac30cecf04272cb1be7"
   }
  }
 },
 "nbformat": 4,
 "nbformat_minor": 2
}
